{
 "cells": [
  {
   "cell_type": "code",
   "execution_count": null,
   "id": "bf749c84-270f-4078-bb12-ca896ba28d5b",
   "metadata": {},
   "outputs": [],
   "source": [
    "#참고 : https://bigdata-doctrine.tistory.com/34"
   ]
  },
  {
   "cell_type": "code",
   "execution_count": 271,
   "id": "b73d2eb2",
   "metadata": {},
   "outputs": [],
   "source": [
    "import requests\n",
    "from bs4 import BeautifulSoup\n",
    "from tqdm import tqdm\n",
    "from fake_useragent import UserAgent\n",
    "import datetime\n",
    "from urllib import parse\n",
    "from tqdm.notebook import tqdm\n",
    "\n",
    "URL = \"https://news.naver.com/main/list.nhn?mode=LS2D&mid=shm&sid1={}&sid2={}&date={}&page={}\"\n",
    "SID = [\n",
    "    {'sid1': '100', 'sid2': '264', 'name1': '정치', 'name2': '대통령실'}, \n",
    "    {'sid1': '100', 'sid2': '265', 'name1': '정치', 'name2': '국회/정당'}, \n",
    "    {'sid1': '100', 'sid2': '268', 'name1': '정치', 'name2': '북한'}, \n",
    "    {'sid1': '100', 'sid2': '266', 'name1': '정치', 'name2': '행정'}, \n",
    "    {'sid1': '100', 'sid2': '267', 'name1': '정치', 'name2': '국방/외교'}, \n",
    "    {'sid1': '100', 'sid2': '269', 'name1': '정치', 'name2': '정치일반'}, \n",
    "    {'sid1': '101', 'sid2': '259', 'name1': '경제', 'name2': '금융'}, \n",
    "    {'sid1': '101', 'sid2': '258', 'name1': '경제', 'name2': '증권'}, \n",
    "    {'sid1': '101', 'sid2': '261', 'name1': '경제', 'name2': '산업/재계'}, \n",
    "    {'sid1': '101', 'sid2': '771', 'name1': '경제', 'name2': '중기/벤처'}, \n",
    "    {'sid1': '101', 'sid2': '260', 'name1': '경제', 'name2': '부동산'}, \n",
    "    {'sid1': '101', 'sid2': '262', 'name1': '경제', 'name2': '글로벌 경제'}, \n",
    "    {'sid1': '101', 'sid2': '310', 'name1': '경제', 'name2': '생활경제'}, \n",
    "    {'sid1': '101', 'sid2': '263', 'name1': '경제', 'name2': '경제 일반'}, \n",
    "    {'sid1': '102', 'sid2': '249', 'name1': '사회', 'name2': '사건사고'}, \n",
    "    {'sid1': '102', 'sid2': '250', 'name1': '사회', 'name2': '교육'}, \n",
    "    {'sid1': '102', 'sid2': '251', 'name1': '사회', 'name2': '노동'}, \n",
    "    {'sid1': '102', 'sid2': '254', 'name1': '사회', 'name2': '언론'}, \n",
    "    {'sid1': '102', 'sid2': '252', 'name1': '사회', 'name2': '환경'}, \n",
    "    {'sid1': '102', 'sid2': '59b', 'name1': '사회', 'name2': '인권/복지'}, \n",
    "    {'sid1': '102', 'sid2': '255', 'name1': '사회', 'name2': '식품/의료'}, \n",
    "    {'sid1': '102', 'sid2': '256', 'name1': '사회', 'name2': '지역'}, \n",
    "    {'sid1': '102', 'sid2': '276', 'name1': '사회', 'name2': '인물'}, \n",
    "    {'sid1': '102', 'sid2': '257', 'name1': '사회', 'name2': '사회 일반'}, \n",
    "    {'sid1': '103', 'sid2': '241', 'name1': '생활문화', 'name2': '건강정보'}, \n",
    "    {'sid1': '103', 'sid2': '239', 'name1': '생활문화', 'name2': '자동차/시승기'}, \n",
    "    {'sid1': '103', 'sid2': '240', 'name1': '생활문화', 'name2': '도로/교통'}, \n",
    "    {'sid1': '103', 'sid2': '237', 'name1': '생활문화', 'name2': '여행/레저'}, \n",
    "    {'sid1': '103', 'sid2': '238', 'name1': '생활문화', 'name2': '음식/맛집'}, \n",
    "    {'sid1': '103', 'sid2': '376', 'name1': '생활문화', 'name2': '패션/뷰티'}, \n",
    "    {'sid1': '103', 'sid2': '242', 'name1': '생활문화', 'name2': '공연/전시'}, \n",
    "    {'sid1': '103', 'sid2': '243', 'name1': '생활문화', 'name2': '책'}, \n",
    "    {'sid1': '103', 'sid2': '244', 'name1': '생활문화', 'name2': '종교'}, \n",
    "    {'sid1': '103', 'sid2': '248', 'name1': '생활문화', 'name2': '날씨'}, \n",
    "    {'sid1': '103', 'sid2': '245', 'name1': '생활문화', 'name2': '생활문화 일반'}, \n",
    "    {'sid1': '104', 'sid2': '231', 'name1': '세계', 'name2': '아시아/호주'}, \n",
    "    {'sid1': '104', 'sid2': '232', 'name1': '세계', 'name2': '미국/중남미'}, \n",
    "    {'sid1': '104', 'sid2': '233', 'name1': '세계', 'name2': '유럽'}, \n",
    "    {'sid1': '104', 'sid2': '234', 'name1': '세계', 'name2': '중동/아프리카'}, \n",
    "    {'sid1': '104', 'sid2': '322', 'name1': '세계', 'name2': '세계 일반'}, \n",
    "    {'sid1': '105', 'sid2': '731', 'name1': 'IT/과학', 'name2': '모바일'}, \n",
    "    {'sid1': '105', 'sid2': '226', 'name1': 'IT/과학', 'name2': '인터넷/SNS'}, \n",
    "    {'sid1': '105', 'sid2': '227', 'name1': 'IT/과학', 'name2': '통신/뉴미디어'}, \n",
    "    {'sid1': '105', 'sid2': '230', 'name1': 'IT/과학', 'name2': 'IT 일반'}, \n",
    "    {'sid1': '105', 'sid2': '732', 'name1': 'IT/과학', 'name2': '보안/해킹'}, \n",
    "    {'sid1': '105', 'sid2': '283', 'name1': 'IT/과학', 'name2': '컴퓨터'}, \n",
    "    {'sid1': '105', 'sid2': '229', 'name1': 'IT/과학', 'name2': '게임/리뷰'}, \n",
    "    {'sid1': '105', 'sid2': '228', 'name1': 'IT/과학', 'name2': '과학 일반'},\n",
    "]\n",
    "newlines = {\n",
    "    \"br\", \"div\", \"p\"\n",
    "}\n",
    "DAY = datetime.datetime.now().replace(hour=0, minute=0, second=0, microsecond=0) - datetime.timedelta(days=1)\n",
    "DAY = DAY.strftime('%Y%m%d')\n",
    "UA = UserAgent().random\n",
    "\n",
    "def Crawling(SID, URL, DAY, UA):\n",
    "    url_list = []\n",
    "    for sid in SID:\n",
    "        url = URL.format(sid['sid1'], sid['sid2'], DAY, '10')\n",
    "        url_list.append(url)\n",
    "    return url\n",
    "        \n",
    "def art_crawl(url):\n",
    "    \"\"\"\n",
    "    sid와 링크 인덱스를 넣으면 기사제목, 날짜, 본문을 크롤링하여 딕셔너리를 출력하는 함수 \n",
    "    \n",
    "    Args: \n",
    "        urls(dict): 각 분야별로 100페이지까지 링크를 수집한 딕셔너리 (key: 분야(sid), value: 링크)\n",
    "        sid(int): 분야 [100: 정치, 101: 경제, 102: 사회, 103: 생활/문화, 104: 세계, 105: IT/과학]\n",
    "        index(int): 링크의 인덱스\n",
    "    \n",
    "    Returns:\n",
    "        dict: 기사제목, 날짜, 본문이 크롤링된 딕셔너리\n",
    "    \n",
    "    \"\"\"\n",
    "    # art_dic = {}\n",
    "    \n",
    "    ## 1.\n",
    "    # title_selector = \"#title_area > span\"\n",
    "    date_selector = \"#ct > div.media_end_head.go_trans > div.media_end_head_info.nv_notrans\"\\\n",
    "    \"> div.media_end_head_info_datestamp > div:nth-child(1) > span\"\n",
    "    main_selector = \"#dic_area\"\n",
    "    \n",
    "    # url = urls[sid][index]\n",
    "    # url = urls['url']\n",
    "    html = requests.get(url, headers={\"User-Agent\":  \"Mozilla/5.0 (Windows NT 10.0; Win64; x64; rv:109.0) Gecko/20100101 Firefox/116.0\"}, verify=False)\n",
    "    soup = BeautifulSoup(html.text, \"lxml\")\n",
    "    \n",
    "    ## 2.\n",
    "    # 제목 수집\n",
    "    # title = soup.select(title_selector)\n",
    "    # title_lst = [t.text for t in title]\n",
    "    # title_str = \"\".join(title_lst)\n",
    "    \n",
    "    # 날짜 수집\n",
    "    date = soup.select(date_selector)\n",
    "    date_lst = [d.text for d in date]\n",
    "    date_str = \"\".join(date_lst)\n",
    "    \n",
    "    # 본문 수집\n",
    "    main = soup.select(main_selector)\n",
    "    main_lst = []\n",
    "    for m in main:\n",
    "        m_text = m.text\n",
    "        m_text = m_text.strip()\n",
    "        main_lst.append(m_text)\n",
    "    main_str = \"\".join(main_lst)\n",
    "    \n",
    "    ## 3.\n",
    "    # art_dic[\"title\"] = title_str\n",
    "    # art_dic[\"date\"] = date_str\n",
    "    # art_dic[\"main\"] = main_str\n",
    "    \n",
    "    return date_str, main_str\n",
    "\n",
    "\"\"\" 뉴스 페이지 목록 조회 \"\"\"\n",
    "def news_list_item(soup, name1, name2, mains):\n",
    "    dataset = []\n",
    "    items = soup.select(\"#main_content > div.list_body.newsflash_body > ul > li > dl > dt[class!='photo'] > a\")\n",
    "    for item in items:\n",
    "        url, title = item[\"href\"], item.text.strip()     \n",
    "        date, main = art_crawl(url)\n",
    "        if item not in mains:\n",
    "            if 0 < len(title):\n",
    "                dataset.append({\"대분류\": name1, \"소분류\": name2, \"url\": url, \"title\": title, \"date\": date, \"main\": main})\n",
    "            mains.append(item)\n",
    "        else:\n",
    "            break\n",
    "    return dataset\n",
    "\n",
    "from time import sleep\n",
    "\n",
    "\"\"\" 뉴스 페이지 목록 조회 \"\"\"\n",
    "def news_list_page(date):\n",
    "    keys = set()\n",
    "    urls = []\n",
    "    names = []\n",
    "    dataset = []\n",
    "    # 뉴스테마별 딕셔너리\n",
    "    urlset = dict()\n",
    "    for sid in SID:\n",
    "        urlset[sid[\"sid1\"], sid[\"sid2\"]] = []\n",
    "        # max page 99\n",
    "        for page in range(1,99):\n",
    "            sid1, sid2, page = sid[\"sid1\"], sid[\"sid2\"], page\n",
    "            key = f\"{sid1}.{sid2}.{page}\"\n",
    "            if key not in keys:\n",
    "                keys.add(key)\n",
    "                urlset[sid[\"sid1\"], sid[\"sid2\"]].append(URL.format(sid1, sid2, date, page))\n",
    "                names.append([sid['name1'], sid['name2']])\n",
    "    index = 0\n",
    "    for tm_url in list(urlset.values()):\n",
    "        # 각 세부테마별 중복 url 존재시 멈춤 (ex. 마지막 페이지 다음 페이지에서는 url이 겹치므로 정지)\n",
    "        url_main = []\n",
    "        for url in tqdm(tm_url):     \n",
    "            html = requests.get(url, headers={\"User-Agent\":  \"Mozilla/5.0 (Windows NT 10.0; Win64; x64; rv:109.0) Gecko/20100101 Firefox/116.0\"}, verify=False)\n",
    "            soup = BeautifulSoup(html.text, \"lxml\")\n",
    "            name1, name2 = names[index][0], names[index][1]            \n",
    "            items = news_list_item(soup, name1, name2, url_main)\n",
    "            if len(items) != 0:\n",
    "                dataset.extend(items)\n",
    "                print(f\"========={names[index][0], names[index][1]}=========\")\n",
    "                print(url)\n",
    "                sleep(1)\n",
    "                index = index + 1\n",
    "            else:\n",
    "                index = index + 1\n",
    "            #index = index + 1\n",
    "        print(\"=============================================수집완료======================================================\")\n",
    "    return dataset\n"
   ]
  },
  {
   "cell_type": "code",
   "execution_count": 272,
   "id": "38800297-0c86-47e7-b939-efc08f542594",
   "metadata": {},
   "outputs": [
    {
     "data": {
      "application/vnd.jupyter.widget-view+json": {
       "model_id": "2a42b62844ca450c9e144e92782b3ff1",
       "version_major": 2,
       "version_minor": 0
      },
      "text/plain": [
       "  0%|          | 0/98 [00:00<?, ?it/s]"
      ]
     },
     "metadata": {},
     "output_type": "display_data"
    },
    {
     "name": "stdout",
     "output_type": "stream",
     "text": [
      "=========('정치', '대통령실')=========\n",
      "https://news.naver.com/main/list.nhn?mode=LS2D&mid=shm&sid1=100&sid2=264&date=20230813&page=1\n",
      "=========('정치', '대통령실')=========\n",
      "https://news.naver.com/main/list.nhn?mode=LS2D&mid=shm&sid1=100&sid2=264&date=20230813&page=2\n",
      "=========('정치', '대통령실')=========\n",
      "https://news.naver.com/main/list.nhn?mode=LS2D&mid=shm&sid1=100&sid2=264&date=20230813&page=3\n",
      "=========('정치', '대통령실')=========\n",
      "https://news.naver.com/main/list.nhn?mode=LS2D&mid=shm&sid1=100&sid2=264&date=20230813&page=4\n",
      "=========('정치', '대통령실')=========\n",
      "https://news.naver.com/main/list.nhn?mode=LS2D&mid=shm&sid1=100&sid2=264&date=20230813&page=5\n",
      "=========('정치', '대통령실')=========\n",
      "https://news.naver.com/main/list.nhn?mode=LS2D&mid=shm&sid1=100&sid2=264&date=20230813&page=6\n",
      "=========('정치', '대통령실')=========\n",
      "https://news.naver.com/main/list.nhn?mode=LS2D&mid=shm&sid1=100&sid2=264&date=20230813&page=7\n",
      "=========('정치', '대통령실')=========\n",
      "https://news.naver.com/main/list.nhn?mode=LS2D&mid=shm&sid1=100&sid2=264&date=20230813&page=8\n",
      "=============================================수집완료======================================================\n"
     ]
    },
    {
     "data": {
      "application/vnd.jupyter.widget-view+json": {
       "model_id": "a29bfa0346c547d284a82762ca0bd0cc",
       "version_major": 2,
       "version_minor": 0
      },
      "text/plain": [
       "  0%|          | 0/98 [00:00<?, ?it/s]"
      ]
     },
     "metadata": {},
     "output_type": "display_data"
    },
    {
     "name": "stdout",
     "output_type": "stream",
     "text": [
      "=========('정치', '국회/정당')=========\n",
      "https://news.naver.com/main/list.nhn?mode=LS2D&mid=shm&sid1=100&sid2=265&date=20230813&page=1\n",
      "=========('정치', '국회/정당')=========\n",
      "https://news.naver.com/main/list.nhn?mode=LS2D&mid=shm&sid1=100&sid2=265&date=20230813&page=2\n",
      "=========('정치', '국회/정당')=========\n",
      "https://news.naver.com/main/list.nhn?mode=LS2D&mid=shm&sid1=100&sid2=265&date=20230813&page=3\n",
      "=========('정치', '국회/정당')=========\n",
      "https://news.naver.com/main/list.nhn?mode=LS2D&mid=shm&sid1=100&sid2=265&date=20230813&page=4\n",
      "=========('정치', '국회/정당')=========\n",
      "https://news.naver.com/main/list.nhn?mode=LS2D&mid=shm&sid1=100&sid2=265&date=20230813&page=5\n",
      "=========('정치', '국회/정당')=========\n",
      "https://news.naver.com/main/list.nhn?mode=LS2D&mid=shm&sid1=100&sid2=265&date=20230813&page=6\n",
      "=========('정치', '국회/정당')=========\n",
      "https://news.naver.com/main/list.nhn?mode=LS2D&mid=shm&sid1=100&sid2=265&date=20230813&page=7\n",
      "=========('정치', '국회/정당')=========\n",
      "https://news.naver.com/main/list.nhn?mode=LS2D&mid=shm&sid1=100&sid2=265&date=20230813&page=8\n",
      "=========('정치', '국회/정당')=========\n",
      "https://news.naver.com/main/list.nhn?mode=LS2D&mid=shm&sid1=100&sid2=265&date=20230813&page=9\n",
      "=========('정치', '국회/정당')=========\n",
      "https://news.naver.com/main/list.nhn?mode=LS2D&mid=shm&sid1=100&sid2=265&date=20230813&page=10\n",
      "=========('정치', '국회/정당')=========\n",
      "https://news.naver.com/main/list.nhn?mode=LS2D&mid=shm&sid1=100&sid2=265&date=20230813&page=11\n",
      "=========('정치', '국회/정당')=========\n",
      "https://news.naver.com/main/list.nhn?mode=LS2D&mid=shm&sid1=100&sid2=265&date=20230813&page=12\n",
      "=========('정치', '국회/정당')=========\n",
      "https://news.naver.com/main/list.nhn?mode=LS2D&mid=shm&sid1=100&sid2=265&date=20230813&page=13\n",
      "=========('정치', '국회/정당')=========\n",
      "https://news.naver.com/main/list.nhn?mode=LS2D&mid=shm&sid1=100&sid2=265&date=20230813&page=14\n",
      "=========('정치', '국회/정당')=========\n",
      "https://news.naver.com/main/list.nhn?mode=LS2D&mid=shm&sid1=100&sid2=265&date=20230813&page=15\n",
      "=========('정치', '국회/정당')=========\n",
      "https://news.naver.com/main/list.nhn?mode=LS2D&mid=shm&sid1=100&sid2=265&date=20230813&page=16\n",
      "=========('정치', '국회/정당')=========\n",
      "https://news.naver.com/main/list.nhn?mode=LS2D&mid=shm&sid1=100&sid2=265&date=20230813&page=17\n",
      "=========('정치', '국회/정당')=========\n",
      "https://news.naver.com/main/list.nhn?mode=LS2D&mid=shm&sid1=100&sid2=265&date=20230813&page=18\n",
      "=============================================수집완료======================================================\n"
     ]
    },
    {
     "data": {
      "application/vnd.jupyter.widget-view+json": {
       "model_id": "bfe14f6ae5a5452b910adef2a82a6646",
       "version_major": 2,
       "version_minor": 0
      },
      "text/plain": [
       "  0%|          | 0/98 [00:00<?, ?it/s]"
      ]
     },
     "metadata": {},
     "output_type": "display_data"
    },
    {
     "name": "stdout",
     "output_type": "stream",
     "text": [
      "=========('정치', '북한')=========\n",
      "https://news.naver.com/main/list.nhn?mode=LS2D&mid=shm&sid1=100&sid2=268&date=20230813&page=1\n",
      "=========('정치', '북한')=========\n",
      "https://news.naver.com/main/list.nhn?mode=LS2D&mid=shm&sid1=100&sid2=268&date=20230813&page=2\n",
      "=========('정치', '북한')=========\n",
      "https://news.naver.com/main/list.nhn?mode=LS2D&mid=shm&sid1=100&sid2=268&date=20230813&page=3\n",
      "=============================================수집완료======================================================\n"
     ]
    },
    {
     "data": {
      "application/vnd.jupyter.widget-view+json": {
       "model_id": "d99b56d134624b968bf57f12a026d67d",
       "version_major": 2,
       "version_minor": 0
      },
      "text/plain": [
       "  0%|          | 0/98 [00:00<?, ?it/s]"
      ]
     },
     "metadata": {},
     "output_type": "display_data"
    },
    {
     "name": "stdout",
     "output_type": "stream",
     "text": [
      "=========('정치', '행정')=========\n",
      "https://news.naver.com/main/list.nhn?mode=LS2D&mid=shm&sid1=100&sid2=266&date=20230813&page=1\n",
      "=========('정치', '행정')=========\n",
      "https://news.naver.com/main/list.nhn?mode=LS2D&mid=shm&sid1=100&sid2=266&date=20230813&page=2\n",
      "=========('정치', '행정')=========\n",
      "https://news.naver.com/main/list.nhn?mode=LS2D&mid=shm&sid1=100&sid2=266&date=20230813&page=3\n",
      "=========('정치', '행정')=========\n",
      "https://news.naver.com/main/list.nhn?mode=LS2D&mid=shm&sid1=100&sid2=266&date=20230813&page=4\n",
      "=============================================수집완료======================================================\n"
     ]
    },
    {
     "data": {
      "application/vnd.jupyter.widget-view+json": {
       "model_id": "f9556819073d45a29c45e1ad6a5fe614",
       "version_major": 2,
       "version_minor": 0
      },
      "text/plain": [
       "  0%|          | 0/98 [00:00<?, ?it/s]"
      ]
     },
     "metadata": {},
     "output_type": "display_data"
    },
    {
     "name": "stdout",
     "output_type": "stream",
     "text": [
      "=========('정치', '국방/외교')=========\n",
      "https://news.naver.com/main/list.nhn?mode=LS2D&mid=shm&sid1=100&sid2=267&date=20230813&page=1\n",
      "=========('정치', '국방/외교')=========\n",
      "https://news.naver.com/main/list.nhn?mode=LS2D&mid=shm&sid1=100&sid2=267&date=20230813&page=2\n",
      "=========('정치', '국방/외교')=========\n",
      "https://news.naver.com/main/list.nhn?mode=LS2D&mid=shm&sid1=100&sid2=267&date=20230813&page=3\n",
      "=========('정치', '국방/외교')=========\n",
      "https://news.naver.com/main/list.nhn?mode=LS2D&mid=shm&sid1=100&sid2=267&date=20230813&page=4\n",
      "=========('정치', '국방/외교')=========\n",
      "https://news.naver.com/main/list.nhn?mode=LS2D&mid=shm&sid1=100&sid2=267&date=20230813&page=5\n",
      "=========('정치', '국방/외교')=========\n",
      "https://news.naver.com/main/list.nhn?mode=LS2D&mid=shm&sid1=100&sid2=267&date=20230813&page=6\n",
      "=========('정치', '국방/외교')=========\n",
      "https://news.naver.com/main/list.nhn?mode=LS2D&mid=shm&sid1=100&sid2=267&date=20230813&page=7\n",
      "=========('정치', '국방/외교')=========\n",
      "https://news.naver.com/main/list.nhn?mode=LS2D&mid=shm&sid1=100&sid2=267&date=20230813&page=8\n",
      "=========('정치', '국방/외교')=========\n",
      "https://news.naver.com/main/list.nhn?mode=LS2D&mid=shm&sid1=100&sid2=267&date=20230813&page=9\n",
      "=========('정치', '국방/외교')=========\n",
      "https://news.naver.com/main/list.nhn?mode=LS2D&mid=shm&sid1=100&sid2=267&date=20230813&page=10\n",
      "=========('정치', '국방/외교')=========\n",
      "https://news.naver.com/main/list.nhn?mode=LS2D&mid=shm&sid1=100&sid2=267&date=20230813&page=11\n",
      "=============================================수집완료======================================================\n"
     ]
    },
    {
     "data": {
      "application/vnd.jupyter.widget-view+json": {
       "model_id": "20966f9bf0204b288000465c56fc6245",
       "version_major": 2,
       "version_minor": 0
      },
      "text/plain": [
       "  0%|          | 0/98 [00:00<?, ?it/s]"
      ]
     },
     "metadata": {},
     "output_type": "display_data"
    },
    {
     "name": "stdout",
     "output_type": "stream",
     "text": [
      "=========('정치', '정치일반')=========\n",
      "https://news.naver.com/main/list.nhn?mode=LS2D&mid=shm&sid1=100&sid2=269&date=20230813&page=1\n",
      "=========('정치', '정치일반')=========\n",
      "https://news.naver.com/main/list.nhn?mode=LS2D&mid=shm&sid1=100&sid2=269&date=20230813&page=2\n",
      "=========('정치', '정치일반')=========\n",
      "https://news.naver.com/main/list.nhn?mode=LS2D&mid=shm&sid1=100&sid2=269&date=20230813&page=3\n",
      "=========('정치', '정치일반')=========\n",
      "https://news.naver.com/main/list.nhn?mode=LS2D&mid=shm&sid1=100&sid2=269&date=20230813&page=4\n",
      "=========('정치', '정치일반')=========\n",
      "https://news.naver.com/main/list.nhn?mode=LS2D&mid=shm&sid1=100&sid2=269&date=20230813&page=5\n",
      "=========('정치', '정치일반')=========\n",
      "https://news.naver.com/main/list.nhn?mode=LS2D&mid=shm&sid1=100&sid2=269&date=20230813&page=6\n",
      "=========('정치', '정치일반')=========\n",
      "https://news.naver.com/main/list.nhn?mode=LS2D&mid=shm&sid1=100&sid2=269&date=20230813&page=7\n",
      "=========('정치', '정치일반')=========\n",
      "https://news.naver.com/main/list.nhn?mode=LS2D&mid=shm&sid1=100&sid2=269&date=20230813&page=8\n",
      "=========('정치', '정치일반')=========\n",
      "https://news.naver.com/main/list.nhn?mode=LS2D&mid=shm&sid1=100&sid2=269&date=20230813&page=9\n",
      "=========('정치', '정치일반')=========\n",
      "https://news.naver.com/main/list.nhn?mode=LS2D&mid=shm&sid1=100&sid2=269&date=20230813&page=10\n",
      "=========('정치', '정치일반')=========\n",
      "https://news.naver.com/main/list.nhn?mode=LS2D&mid=shm&sid1=100&sid2=269&date=20230813&page=11\n",
      "=========('정치', '정치일반')=========\n",
      "https://news.naver.com/main/list.nhn?mode=LS2D&mid=shm&sid1=100&sid2=269&date=20230813&page=12\n",
      "=========('정치', '정치일반')=========\n",
      "https://news.naver.com/main/list.nhn?mode=LS2D&mid=shm&sid1=100&sid2=269&date=20230813&page=13\n",
      "=========('정치', '정치일반')=========\n",
      "https://news.naver.com/main/list.nhn?mode=LS2D&mid=shm&sid1=100&sid2=269&date=20230813&page=14\n",
      "=========('정치', '정치일반')=========\n",
      "https://news.naver.com/main/list.nhn?mode=LS2D&mid=shm&sid1=100&sid2=269&date=20230813&page=15\n",
      "=========('정치', '정치일반')=========\n",
      "https://news.naver.com/main/list.nhn?mode=LS2D&mid=shm&sid1=100&sid2=269&date=20230813&page=16\n",
      "=========('정치', '정치일반')=========\n",
      "https://news.naver.com/main/list.nhn?mode=LS2D&mid=shm&sid1=100&sid2=269&date=20230813&page=17\n",
      "=========('정치', '정치일반')=========\n",
      "https://news.naver.com/main/list.nhn?mode=LS2D&mid=shm&sid1=100&sid2=269&date=20230813&page=18\n",
      "=========('정치', '정치일반')=========\n",
      "https://news.naver.com/main/list.nhn?mode=LS2D&mid=shm&sid1=100&sid2=269&date=20230813&page=19\n",
      "=========('정치', '정치일반')=========\n",
      "https://news.naver.com/main/list.nhn?mode=LS2D&mid=shm&sid1=100&sid2=269&date=20230813&page=20\n",
      "=========('정치', '정치일반')=========\n",
      "https://news.naver.com/main/list.nhn?mode=LS2D&mid=shm&sid1=100&sid2=269&date=20230813&page=21\n",
      "=========('정치', '정치일반')=========\n",
      "https://news.naver.com/main/list.nhn?mode=LS2D&mid=shm&sid1=100&sid2=269&date=20230813&page=22\n",
      "=========('정치', '정치일반')=========\n",
      "https://news.naver.com/main/list.nhn?mode=LS2D&mid=shm&sid1=100&sid2=269&date=20230813&page=23\n",
      "=========('정치', '정치일반')=========\n",
      "https://news.naver.com/main/list.nhn?mode=LS2D&mid=shm&sid1=100&sid2=269&date=20230813&page=24\n",
      "=========('정치', '정치일반')=========\n",
      "https://news.naver.com/main/list.nhn?mode=LS2D&mid=shm&sid1=100&sid2=269&date=20230813&page=25\n",
      "=========('정치', '정치일반')=========\n",
      "https://news.naver.com/main/list.nhn?mode=LS2D&mid=shm&sid1=100&sid2=269&date=20230813&page=26\n",
      "=========('정치', '정치일반')=========\n",
      "https://news.naver.com/main/list.nhn?mode=LS2D&mid=shm&sid1=100&sid2=269&date=20230813&page=27\n",
      "=========('정치', '정치일반')=========\n",
      "https://news.naver.com/main/list.nhn?mode=LS2D&mid=shm&sid1=100&sid2=269&date=20230813&page=28\n",
      "=========('정치', '정치일반')=========\n",
      "https://news.naver.com/main/list.nhn?mode=LS2D&mid=shm&sid1=100&sid2=269&date=20230813&page=29\n",
      "=========('정치', '정치일반')=========\n",
      "https://news.naver.com/main/list.nhn?mode=LS2D&mid=shm&sid1=100&sid2=269&date=20230813&page=30\n",
      "=========('정치', '정치일반')=========\n",
      "https://news.naver.com/main/list.nhn?mode=LS2D&mid=shm&sid1=100&sid2=269&date=20230813&page=31\n",
      "=========('정치', '정치일반')=========\n",
      "https://news.naver.com/main/list.nhn?mode=LS2D&mid=shm&sid1=100&sid2=269&date=20230813&page=32\n",
      "=========('정치', '정치일반')=========\n",
      "https://news.naver.com/main/list.nhn?mode=LS2D&mid=shm&sid1=100&sid2=269&date=20230813&page=33\n",
      "=========('정치', '정치일반')=========\n",
      "https://news.naver.com/main/list.nhn?mode=LS2D&mid=shm&sid1=100&sid2=269&date=20230813&page=34\n",
      "=========('정치', '정치일반')=========\n",
      "https://news.naver.com/main/list.nhn?mode=LS2D&mid=shm&sid1=100&sid2=269&date=20230813&page=35\n",
      "=========('정치', '정치일반')=========\n",
      "https://news.naver.com/main/list.nhn?mode=LS2D&mid=shm&sid1=100&sid2=269&date=20230813&page=36\n",
      "=========('정치', '정치일반')=========\n",
      "https://news.naver.com/main/list.nhn?mode=LS2D&mid=shm&sid1=100&sid2=269&date=20230813&page=37\n",
      "=========('정치', '정치일반')=========\n",
      "https://news.naver.com/main/list.nhn?mode=LS2D&mid=shm&sid1=100&sid2=269&date=20230813&page=38\n",
      "=============================================수집완료======================================================\n"
     ]
    },
    {
     "data": {
      "application/vnd.jupyter.widget-view+json": {
       "model_id": "7247103bd71e4d6eb87d6ddf38750143",
       "version_major": 2,
       "version_minor": 0
      },
      "text/plain": [
       "  0%|          | 0/98 [00:00<?, ?it/s]"
      ]
     },
     "metadata": {},
     "output_type": "display_data"
    },
    {
     "name": "stdout",
     "output_type": "stream",
     "text": [
      "=========('경제', '금융')=========\n",
      "https://news.naver.com/main/list.nhn?mode=LS2D&mid=shm&sid1=101&sid2=259&date=20230813&page=1\n",
      "=========('경제', '금융')=========\n",
      "https://news.naver.com/main/list.nhn?mode=LS2D&mid=shm&sid1=101&sid2=259&date=20230813&page=2\n",
      "=========('경제', '금융')=========\n",
      "https://news.naver.com/main/list.nhn?mode=LS2D&mid=shm&sid1=101&sid2=259&date=20230813&page=3\n",
      "=========('경제', '금융')=========\n",
      "https://news.naver.com/main/list.nhn?mode=LS2D&mid=shm&sid1=101&sid2=259&date=20230813&page=4\n",
      "=========('경제', '금융')=========\n",
      "https://news.naver.com/main/list.nhn?mode=LS2D&mid=shm&sid1=101&sid2=259&date=20230813&page=5\n",
      "=========('경제', '금융')=========\n",
      "https://news.naver.com/main/list.nhn?mode=LS2D&mid=shm&sid1=101&sid2=259&date=20230813&page=6\n",
      "=========('경제', '금융')=========\n",
      "https://news.naver.com/main/list.nhn?mode=LS2D&mid=shm&sid1=101&sid2=259&date=20230813&page=7\n",
      "=========('경제', '금융')=========\n",
      "https://news.naver.com/main/list.nhn?mode=LS2D&mid=shm&sid1=101&sid2=259&date=20230813&page=8\n",
      "=========('경제', '금융')=========\n",
      "https://news.naver.com/main/list.nhn?mode=LS2D&mid=shm&sid1=101&sid2=259&date=20230813&page=9\n",
      "=========('경제', '금융')=========\n",
      "https://news.naver.com/main/list.nhn?mode=LS2D&mid=shm&sid1=101&sid2=259&date=20230813&page=10\n",
      "=========('경제', '금융')=========\n",
      "https://news.naver.com/main/list.nhn?mode=LS2D&mid=shm&sid1=101&sid2=259&date=20230813&page=11\n",
      "=========('경제', '금융')=========\n",
      "https://news.naver.com/main/list.nhn?mode=LS2D&mid=shm&sid1=101&sid2=259&date=20230813&page=12\n",
      "=========('경제', '금융')=========\n",
      "https://news.naver.com/main/list.nhn?mode=LS2D&mid=shm&sid1=101&sid2=259&date=20230813&page=13\n",
      "=============================================수집완료======================================================\n"
     ]
    },
    {
     "data": {
      "application/vnd.jupyter.widget-view+json": {
       "model_id": "d549dec9773f445c9a183837d60b073e",
       "version_major": 2,
       "version_minor": 0
      },
      "text/plain": [
       "  0%|          | 0/98 [00:00<?, ?it/s]"
      ]
     },
     "metadata": {},
     "output_type": "display_data"
    },
    {
     "name": "stdout",
     "output_type": "stream",
     "text": [
      "=========('경제', '증권')=========\n",
      "https://news.naver.com/main/list.nhn?mode=LS2D&mid=shm&sid1=101&sid2=258&date=20230813&page=1\n",
      "=========('경제', '증권')=========\n",
      "https://news.naver.com/main/list.nhn?mode=LS2D&mid=shm&sid1=101&sid2=258&date=20230813&page=2\n",
      "=========('경제', '증권')=========\n",
      "https://news.naver.com/main/list.nhn?mode=LS2D&mid=shm&sid1=101&sid2=258&date=20230813&page=3\n",
      "=========('경제', '증권')=========\n",
      "https://news.naver.com/main/list.nhn?mode=LS2D&mid=shm&sid1=101&sid2=258&date=20230813&page=4\n",
      "=========('경제', '증권')=========\n",
      "https://news.naver.com/main/list.nhn?mode=LS2D&mid=shm&sid1=101&sid2=258&date=20230813&page=5\n",
      "=========('경제', '증권')=========\n",
      "https://news.naver.com/main/list.nhn?mode=LS2D&mid=shm&sid1=101&sid2=258&date=20230813&page=6\n",
      "=========('경제', '증권')=========\n",
      "https://news.naver.com/main/list.nhn?mode=LS2D&mid=shm&sid1=101&sid2=258&date=20230813&page=7\n",
      "=========('경제', '증권')=========\n",
      "https://news.naver.com/main/list.nhn?mode=LS2D&mid=shm&sid1=101&sid2=258&date=20230813&page=8\n",
      "=========('경제', '증권')=========\n",
      "https://news.naver.com/main/list.nhn?mode=LS2D&mid=shm&sid1=101&sid2=258&date=20230813&page=9\n",
      "=============================================수집완료======================================================\n"
     ]
    },
    {
     "data": {
      "application/vnd.jupyter.widget-view+json": {
       "model_id": "25e9f1f06f3b4de7a154998cbe865bc9",
       "version_major": 2,
       "version_minor": 0
      },
      "text/plain": [
       "  0%|          | 0/98 [00:00<?, ?it/s]"
      ]
     },
     "metadata": {},
     "output_type": "display_data"
    },
    {
     "name": "stdout",
     "output_type": "stream",
     "text": [
      "=========('경제', '산업/재계')=========\n",
      "https://news.naver.com/main/list.nhn?mode=LS2D&mid=shm&sid1=101&sid2=261&date=20230813&page=1\n",
      "=========('경제', '산업/재계')=========\n",
      "https://news.naver.com/main/list.nhn?mode=LS2D&mid=shm&sid1=101&sid2=261&date=20230813&page=2\n",
      "=========('경제', '산업/재계')=========\n",
      "https://news.naver.com/main/list.nhn?mode=LS2D&mid=shm&sid1=101&sid2=261&date=20230813&page=3\n",
      "=========('경제', '산업/재계')=========\n",
      "https://news.naver.com/main/list.nhn?mode=LS2D&mid=shm&sid1=101&sid2=261&date=20230813&page=4\n",
      "=========('경제', '산업/재계')=========\n",
      "https://news.naver.com/main/list.nhn?mode=LS2D&mid=shm&sid1=101&sid2=261&date=20230813&page=5\n",
      "=========('경제', '산업/재계')=========\n",
      "https://news.naver.com/main/list.nhn?mode=LS2D&mid=shm&sid1=101&sid2=261&date=20230813&page=6\n",
      "=========('경제', '산업/재계')=========\n",
      "https://news.naver.com/main/list.nhn?mode=LS2D&mid=shm&sid1=101&sid2=261&date=20230813&page=7\n",
      "=========('경제', '산업/재계')=========\n",
      "https://news.naver.com/main/list.nhn?mode=LS2D&mid=shm&sid1=101&sid2=261&date=20230813&page=8\n",
      "=========('경제', '산업/재계')=========\n",
      "https://news.naver.com/main/list.nhn?mode=LS2D&mid=shm&sid1=101&sid2=261&date=20230813&page=9\n",
      "=========('경제', '산업/재계')=========\n",
      "https://news.naver.com/main/list.nhn?mode=LS2D&mid=shm&sid1=101&sid2=261&date=20230813&page=10\n",
      "=========('경제', '산업/재계')=========\n",
      "https://news.naver.com/main/list.nhn?mode=LS2D&mid=shm&sid1=101&sid2=261&date=20230813&page=11\n",
      "=========('경제', '산업/재계')=========\n",
      "https://news.naver.com/main/list.nhn?mode=LS2D&mid=shm&sid1=101&sid2=261&date=20230813&page=12\n",
      "=========('경제', '산업/재계')=========\n",
      "https://news.naver.com/main/list.nhn?mode=LS2D&mid=shm&sid1=101&sid2=261&date=20230813&page=13\n",
      "=========('경제', '산업/재계')=========\n",
      "https://news.naver.com/main/list.nhn?mode=LS2D&mid=shm&sid1=101&sid2=261&date=20230813&page=14\n",
      "=========('경제', '산업/재계')=========\n",
      "https://news.naver.com/main/list.nhn?mode=LS2D&mid=shm&sid1=101&sid2=261&date=20230813&page=15\n",
      "=========('경제', '산업/재계')=========\n",
      "https://news.naver.com/main/list.nhn?mode=LS2D&mid=shm&sid1=101&sid2=261&date=20230813&page=16\n",
      "=========('경제', '산업/재계')=========\n",
      "https://news.naver.com/main/list.nhn?mode=LS2D&mid=shm&sid1=101&sid2=261&date=20230813&page=17\n",
      "=========('경제', '산업/재계')=========\n",
      "https://news.naver.com/main/list.nhn?mode=LS2D&mid=shm&sid1=101&sid2=261&date=20230813&page=18\n",
      "=========('경제', '산업/재계')=========\n",
      "https://news.naver.com/main/list.nhn?mode=LS2D&mid=shm&sid1=101&sid2=261&date=20230813&page=19\n",
      "=========('경제', '산업/재계')=========\n",
      "https://news.naver.com/main/list.nhn?mode=LS2D&mid=shm&sid1=101&sid2=261&date=20230813&page=20\n",
      "=========('경제', '산업/재계')=========\n",
      "https://news.naver.com/main/list.nhn?mode=LS2D&mid=shm&sid1=101&sid2=261&date=20230813&page=21\n",
      "=========('경제', '산업/재계')=========\n",
      "https://news.naver.com/main/list.nhn?mode=LS2D&mid=shm&sid1=101&sid2=261&date=20230813&page=22\n",
      "=========('경제', '산업/재계')=========\n",
      "https://news.naver.com/main/list.nhn?mode=LS2D&mid=shm&sid1=101&sid2=261&date=20230813&page=23\n",
      "=========('경제', '산업/재계')=========\n",
      "https://news.naver.com/main/list.nhn?mode=LS2D&mid=shm&sid1=101&sid2=261&date=20230813&page=24\n",
      "=============================================수집완료======================================================\n"
     ]
    },
    {
     "data": {
      "application/vnd.jupyter.widget-view+json": {
       "model_id": "deac0cf50145404583ba6b47a3d67b9d",
       "version_major": 2,
       "version_minor": 0
      },
      "text/plain": [
       "  0%|          | 0/98 [00:00<?, ?it/s]"
      ]
     },
     "metadata": {},
     "output_type": "display_data"
    },
    {
     "name": "stdout",
     "output_type": "stream",
     "text": [
      "=========('경제', '중기/벤처')=========\n",
      "https://news.naver.com/main/list.nhn?mode=LS2D&mid=shm&sid1=101&sid2=771&date=20230813&page=1\n",
      "=========('경제', '중기/벤처')=========\n",
      "https://news.naver.com/main/list.nhn?mode=LS2D&mid=shm&sid1=101&sid2=771&date=20230813&page=2\n",
      "=========('경제', '중기/벤처')=========\n",
      "https://news.naver.com/main/list.nhn?mode=LS2D&mid=shm&sid1=101&sid2=771&date=20230813&page=3\n",
      "=============================================수집완료======================================================\n"
     ]
    },
    {
     "data": {
      "application/vnd.jupyter.widget-view+json": {
       "model_id": "74f88130326c4f4ba9b5ecf6cfe58633",
       "version_major": 2,
       "version_minor": 0
      },
      "text/plain": [
       "  0%|          | 0/98 [00:00<?, ?it/s]"
      ]
     },
     "metadata": {},
     "output_type": "display_data"
    },
    {
     "name": "stdout",
     "output_type": "stream",
     "text": [
      "=========('경제', '부동산')=========\n",
      "https://news.naver.com/main/list.nhn?mode=LS2D&mid=shm&sid1=101&sid2=260&date=20230813&page=1\n",
      "=========('경제', '부동산')=========\n",
      "https://news.naver.com/main/list.nhn?mode=LS2D&mid=shm&sid1=101&sid2=260&date=20230813&page=2\n",
      "=========('경제', '부동산')=========\n",
      "https://news.naver.com/main/list.nhn?mode=LS2D&mid=shm&sid1=101&sid2=260&date=20230813&page=3\n",
      "=========('경제', '부동산')=========\n",
      "https://news.naver.com/main/list.nhn?mode=LS2D&mid=shm&sid1=101&sid2=260&date=20230813&page=4\n",
      "=========('경제', '부동산')=========\n",
      "https://news.naver.com/main/list.nhn?mode=LS2D&mid=shm&sid1=101&sid2=260&date=20230813&page=5\n",
      "=========('경제', '부동산')=========\n",
      "https://news.naver.com/main/list.nhn?mode=LS2D&mid=shm&sid1=101&sid2=260&date=20230813&page=6\n",
      "=============================================수집완료======================================================\n"
     ]
    },
    {
     "data": {
      "application/vnd.jupyter.widget-view+json": {
       "model_id": "d37b673a459c4fd6936044f5d09839b8",
       "version_major": 2,
       "version_minor": 0
      },
      "text/plain": [
       "  0%|          | 0/98 [00:00<?, ?it/s]"
      ]
     },
     "metadata": {},
     "output_type": "display_data"
    },
    {
     "name": "stdout",
     "output_type": "stream",
     "text": [
      "=========('경제', '글로벌 경제')=========\n",
      "https://news.naver.com/main/list.nhn?mode=LS2D&mid=shm&sid1=101&sid2=262&date=20230813&page=1\n",
      "=========('경제', '글로벌 경제')=========\n",
      "https://news.naver.com/main/list.nhn?mode=LS2D&mid=shm&sid1=101&sid2=262&date=20230813&page=2\n",
      "=============================================수집완료======================================================\n"
     ]
    },
    {
     "data": {
      "application/vnd.jupyter.widget-view+json": {
       "model_id": "f279fa7e98d04ea998f9be8d02dfcbfb",
       "version_major": 2,
       "version_minor": 0
      },
      "text/plain": [
       "  0%|          | 0/98 [00:00<?, ?it/s]"
      ]
     },
     "metadata": {},
     "output_type": "display_data"
    },
    {
     "name": "stdout",
     "output_type": "stream",
     "text": [
      "=========('경제', '생활경제')=========\n",
      "https://news.naver.com/main/list.nhn?mode=LS2D&mid=shm&sid1=101&sid2=310&date=20230813&page=1\n",
      "=========('경제', '생활경제')=========\n",
      "https://news.naver.com/main/list.nhn?mode=LS2D&mid=shm&sid1=101&sid2=310&date=20230813&page=2\n",
      "=========('경제', '생활경제')=========\n",
      "https://news.naver.com/main/list.nhn?mode=LS2D&mid=shm&sid1=101&sid2=310&date=20230813&page=3\n",
      "=========('경제', '생활경제')=========\n",
      "https://news.naver.com/main/list.nhn?mode=LS2D&mid=shm&sid1=101&sid2=310&date=20230813&page=4\n",
      "=========('경제', '생활경제')=========\n",
      "https://news.naver.com/main/list.nhn?mode=LS2D&mid=shm&sid1=101&sid2=310&date=20230813&page=5\n",
      "=========('경제', '생활경제')=========\n",
      "https://news.naver.com/main/list.nhn?mode=LS2D&mid=shm&sid1=101&sid2=310&date=20230813&page=6\n",
      "=========('경제', '생활경제')=========\n",
      "https://news.naver.com/main/list.nhn?mode=LS2D&mid=shm&sid1=101&sid2=310&date=20230813&page=7\n",
      "=========('경제', '생활경제')=========\n",
      "https://news.naver.com/main/list.nhn?mode=LS2D&mid=shm&sid1=101&sid2=310&date=20230813&page=8\n",
      "=========('경제', '생활경제')=========\n",
      "https://news.naver.com/main/list.nhn?mode=LS2D&mid=shm&sid1=101&sid2=310&date=20230813&page=9\n",
      "=========('경제', '생활경제')=========\n",
      "https://news.naver.com/main/list.nhn?mode=LS2D&mid=shm&sid1=101&sid2=310&date=20230813&page=10\n",
      "=========('경제', '생활경제')=========\n",
      "https://news.naver.com/main/list.nhn?mode=LS2D&mid=shm&sid1=101&sid2=310&date=20230813&page=11\n",
      "=============================================수집완료======================================================\n"
     ]
    },
    {
     "data": {
      "application/vnd.jupyter.widget-view+json": {
       "model_id": "41d6fac0f4394fa7b4cc1daa14f782fb",
       "version_major": 2,
       "version_minor": 0
      },
      "text/plain": [
       "  0%|          | 0/98 [00:00<?, ?it/s]"
      ]
     },
     "metadata": {},
     "output_type": "display_data"
    },
    {
     "name": "stdout",
     "output_type": "stream",
     "text": [
      "=========('경제', '경제 일반')=========\n",
      "https://news.naver.com/main/list.nhn?mode=LS2D&mid=shm&sid1=101&sid2=263&date=20230813&page=1\n",
      "=========('경제', '경제 일반')=========\n",
      "https://news.naver.com/main/list.nhn?mode=LS2D&mid=shm&sid1=101&sid2=263&date=20230813&page=2\n",
      "=========('경제', '경제 일반')=========\n",
      "https://news.naver.com/main/list.nhn?mode=LS2D&mid=shm&sid1=101&sid2=263&date=20230813&page=3\n",
      "=========('경제', '경제 일반')=========\n",
      "https://news.naver.com/main/list.nhn?mode=LS2D&mid=shm&sid1=101&sid2=263&date=20230813&page=4\n",
      "=========('경제', '경제 일반')=========\n",
      "https://news.naver.com/main/list.nhn?mode=LS2D&mid=shm&sid1=101&sid2=263&date=20230813&page=5\n",
      "=========('경제', '경제 일반')=========\n",
      "https://news.naver.com/main/list.nhn?mode=LS2D&mid=shm&sid1=101&sid2=263&date=20230813&page=6\n",
      "=========('경제', '경제 일반')=========\n",
      "https://news.naver.com/main/list.nhn?mode=LS2D&mid=shm&sid1=101&sid2=263&date=20230813&page=7\n",
      "=========('경제', '경제 일반')=========\n",
      "https://news.naver.com/main/list.nhn?mode=LS2D&mid=shm&sid1=101&sid2=263&date=20230813&page=8\n",
      "=========('경제', '경제 일반')=========\n",
      "https://news.naver.com/main/list.nhn?mode=LS2D&mid=shm&sid1=101&sid2=263&date=20230813&page=9\n",
      "=========('경제', '경제 일반')=========\n",
      "https://news.naver.com/main/list.nhn?mode=LS2D&mid=shm&sid1=101&sid2=263&date=20230813&page=10\n",
      "=========('경제', '경제 일반')=========\n",
      "https://news.naver.com/main/list.nhn?mode=LS2D&mid=shm&sid1=101&sid2=263&date=20230813&page=11\n",
      "=========('경제', '경제 일반')=========\n",
      "https://news.naver.com/main/list.nhn?mode=LS2D&mid=shm&sid1=101&sid2=263&date=20230813&page=12\n",
      "=========('경제', '경제 일반')=========\n",
      "https://news.naver.com/main/list.nhn?mode=LS2D&mid=shm&sid1=101&sid2=263&date=20230813&page=13\n",
      "=========('경제', '경제 일반')=========\n",
      "https://news.naver.com/main/list.nhn?mode=LS2D&mid=shm&sid1=101&sid2=263&date=20230813&page=14\n",
      "=========('경제', '경제 일반')=========\n",
      "https://news.naver.com/main/list.nhn?mode=LS2D&mid=shm&sid1=101&sid2=263&date=20230813&page=15\n",
      "=========('경제', '경제 일반')=========\n",
      "https://news.naver.com/main/list.nhn?mode=LS2D&mid=shm&sid1=101&sid2=263&date=20230813&page=16\n",
      "=========('경제', '경제 일반')=========\n",
      "https://news.naver.com/main/list.nhn?mode=LS2D&mid=shm&sid1=101&sid2=263&date=20230813&page=17\n",
      "=========('경제', '경제 일반')=========\n",
      "https://news.naver.com/main/list.nhn?mode=LS2D&mid=shm&sid1=101&sid2=263&date=20230813&page=18\n",
      "=========('경제', '경제 일반')=========\n",
      "https://news.naver.com/main/list.nhn?mode=LS2D&mid=shm&sid1=101&sid2=263&date=20230813&page=19\n",
      "=========('경제', '경제 일반')=========\n",
      "https://news.naver.com/main/list.nhn?mode=LS2D&mid=shm&sid1=101&sid2=263&date=20230813&page=20\n",
      "=========('경제', '경제 일반')=========\n",
      "https://news.naver.com/main/list.nhn?mode=LS2D&mid=shm&sid1=101&sid2=263&date=20230813&page=21\n",
      "=========('경제', '경제 일반')=========\n",
      "https://news.naver.com/main/list.nhn?mode=LS2D&mid=shm&sid1=101&sid2=263&date=20230813&page=22\n",
      "=========('경제', '경제 일반')=========\n",
      "https://news.naver.com/main/list.nhn?mode=LS2D&mid=shm&sid1=101&sid2=263&date=20230813&page=23\n",
      "=========('경제', '경제 일반')=========\n",
      "https://news.naver.com/main/list.nhn?mode=LS2D&mid=shm&sid1=101&sid2=263&date=20230813&page=24\n",
      "=========('경제', '경제 일반')=========\n",
      "https://news.naver.com/main/list.nhn?mode=LS2D&mid=shm&sid1=101&sid2=263&date=20230813&page=25\n",
      "=========('경제', '경제 일반')=========\n",
      "https://news.naver.com/main/list.nhn?mode=LS2D&mid=shm&sid1=101&sid2=263&date=20230813&page=26\n",
      "=========('경제', '경제 일반')=========\n",
      "https://news.naver.com/main/list.nhn?mode=LS2D&mid=shm&sid1=101&sid2=263&date=20230813&page=27\n",
      "=========('경제', '경제 일반')=========\n",
      "https://news.naver.com/main/list.nhn?mode=LS2D&mid=shm&sid1=101&sid2=263&date=20230813&page=28\n",
      "=========('경제', '경제 일반')=========\n",
      "https://news.naver.com/main/list.nhn?mode=LS2D&mid=shm&sid1=101&sid2=263&date=20230813&page=29\n",
      "=========('경제', '경제 일반')=========\n",
      "https://news.naver.com/main/list.nhn?mode=LS2D&mid=shm&sid1=101&sid2=263&date=20230813&page=30\n",
      "=========('경제', '경제 일반')=========\n",
      "https://news.naver.com/main/list.nhn?mode=LS2D&mid=shm&sid1=101&sid2=263&date=20230813&page=31\n",
      "=========('경제', '경제 일반')=========\n",
      "https://news.naver.com/main/list.nhn?mode=LS2D&mid=shm&sid1=101&sid2=263&date=20230813&page=32\n",
      "=========('경제', '경제 일반')=========\n",
      "https://news.naver.com/main/list.nhn?mode=LS2D&mid=shm&sid1=101&sid2=263&date=20230813&page=33\n",
      "=========('경제', '경제 일반')=========\n",
      "https://news.naver.com/main/list.nhn?mode=LS2D&mid=shm&sid1=101&sid2=263&date=20230813&page=34\n",
      "=========('경제', '경제 일반')=========\n",
      "https://news.naver.com/main/list.nhn?mode=LS2D&mid=shm&sid1=101&sid2=263&date=20230813&page=35\n",
      "=========('경제', '경제 일반')=========\n",
      "https://news.naver.com/main/list.nhn?mode=LS2D&mid=shm&sid1=101&sid2=263&date=20230813&page=36\n",
      "=========('경제', '경제 일반')=========\n",
      "https://news.naver.com/main/list.nhn?mode=LS2D&mid=shm&sid1=101&sid2=263&date=20230813&page=37\n",
      "=========('경제', '경제 일반')=========\n",
      "https://news.naver.com/main/list.nhn?mode=LS2D&mid=shm&sid1=101&sid2=263&date=20230813&page=38\n",
      "=========('경제', '경제 일반')=========\n",
      "https://news.naver.com/main/list.nhn?mode=LS2D&mid=shm&sid1=101&sid2=263&date=20230813&page=39\n",
      "=========('경제', '경제 일반')=========\n",
      "https://news.naver.com/main/list.nhn?mode=LS2D&mid=shm&sid1=101&sid2=263&date=20230813&page=40\n",
      "=========('경제', '경제 일반')=========\n",
      "https://news.naver.com/main/list.nhn?mode=LS2D&mid=shm&sid1=101&sid2=263&date=20230813&page=41\n",
      "=========('경제', '경제 일반')=========\n",
      "https://news.naver.com/main/list.nhn?mode=LS2D&mid=shm&sid1=101&sid2=263&date=20230813&page=42\n",
      "=============================================수집완료======================================================\n"
     ]
    },
    {
     "data": {
      "application/vnd.jupyter.widget-view+json": {
       "model_id": "87d1547d1ad642519b84536db2b23fcb",
       "version_major": 2,
       "version_minor": 0
      },
      "text/plain": [
       "  0%|          | 0/98 [00:00<?, ?it/s]"
      ]
     },
     "metadata": {},
     "output_type": "display_data"
    },
    {
     "name": "stdout",
     "output_type": "stream",
     "text": [
      "=========('사회', '사건사고')=========\n",
      "https://news.naver.com/main/list.nhn?mode=LS2D&mid=shm&sid1=102&sid2=249&date=20230813&page=1\n",
      "=========('사회', '사건사고')=========\n",
      "https://news.naver.com/main/list.nhn?mode=LS2D&mid=shm&sid1=102&sid2=249&date=20230813&page=2\n",
      "=========('사회', '사건사고')=========\n",
      "https://news.naver.com/main/list.nhn?mode=LS2D&mid=shm&sid1=102&sid2=249&date=20230813&page=3\n",
      "=========('사회', '사건사고')=========\n",
      "https://news.naver.com/main/list.nhn?mode=LS2D&mid=shm&sid1=102&sid2=249&date=20230813&page=4\n",
      "=========('사회', '사건사고')=========\n",
      "https://news.naver.com/main/list.nhn?mode=LS2D&mid=shm&sid1=102&sid2=249&date=20230813&page=5\n",
      "=========('사회', '사건사고')=========\n",
      "https://news.naver.com/main/list.nhn?mode=LS2D&mid=shm&sid1=102&sid2=249&date=20230813&page=6\n",
      "=========('사회', '사건사고')=========\n",
      "https://news.naver.com/main/list.nhn?mode=LS2D&mid=shm&sid1=102&sid2=249&date=20230813&page=7\n",
      "=========('사회', '사건사고')=========\n",
      "https://news.naver.com/main/list.nhn?mode=LS2D&mid=shm&sid1=102&sid2=249&date=20230813&page=8\n",
      "=========('사회', '사건사고')=========\n",
      "https://news.naver.com/main/list.nhn?mode=LS2D&mid=shm&sid1=102&sid2=249&date=20230813&page=9\n",
      "=========('사회', '사건사고')=========\n",
      "https://news.naver.com/main/list.nhn?mode=LS2D&mid=shm&sid1=102&sid2=249&date=20230813&page=10\n",
      "=========('사회', '사건사고')=========\n",
      "https://news.naver.com/main/list.nhn?mode=LS2D&mid=shm&sid1=102&sid2=249&date=20230813&page=11\n",
      "=========('사회', '사건사고')=========\n",
      "https://news.naver.com/main/list.nhn?mode=LS2D&mid=shm&sid1=102&sid2=249&date=20230813&page=12\n",
      "=========('사회', '사건사고')=========\n",
      "https://news.naver.com/main/list.nhn?mode=LS2D&mid=shm&sid1=102&sid2=249&date=20230813&page=13\n",
      "=========('사회', '사건사고')=========\n",
      "https://news.naver.com/main/list.nhn?mode=LS2D&mid=shm&sid1=102&sid2=249&date=20230813&page=14\n",
      "=========('사회', '사건사고')=========\n",
      "https://news.naver.com/main/list.nhn?mode=LS2D&mid=shm&sid1=102&sid2=249&date=20230813&page=15\n",
      "=============================================수집완료======================================================\n"
     ]
    },
    {
     "data": {
      "application/vnd.jupyter.widget-view+json": {
       "model_id": "ab1ef76c37c04324b9049e6f724f98a5",
       "version_major": 2,
       "version_minor": 0
      },
      "text/plain": [
       "  0%|          | 0/98 [00:00<?, ?it/s]"
      ]
     },
     "metadata": {},
     "output_type": "display_data"
    },
    {
     "name": "stdout",
     "output_type": "stream",
     "text": [
      "=========('사회', '교육')=========\n",
      "https://news.naver.com/main/list.nhn?mode=LS2D&mid=shm&sid1=102&sid2=250&date=20230813&page=1\n",
      "=========('사회', '교육')=========\n",
      "https://news.naver.com/main/list.nhn?mode=LS2D&mid=shm&sid1=102&sid2=250&date=20230813&page=2\n",
      "=========('사회', '교육')=========\n",
      "https://news.naver.com/main/list.nhn?mode=LS2D&mid=shm&sid1=102&sid2=250&date=20230813&page=3\n",
      "=========('사회', '교육')=========\n",
      "https://news.naver.com/main/list.nhn?mode=LS2D&mid=shm&sid1=102&sid2=250&date=20230813&page=4\n",
      "=========('사회', '교육')=========\n",
      "https://news.naver.com/main/list.nhn?mode=LS2D&mid=shm&sid1=102&sid2=250&date=20230813&page=5\n",
      "=========('사회', '교육')=========\n",
      "https://news.naver.com/main/list.nhn?mode=LS2D&mid=shm&sid1=102&sid2=250&date=20230813&page=6\n",
      "=========('사회', '교육')=========\n",
      "https://news.naver.com/main/list.nhn?mode=LS2D&mid=shm&sid1=102&sid2=250&date=20230813&page=7\n",
      "=============================================수집완료======================================================\n"
     ]
    },
    {
     "data": {
      "application/vnd.jupyter.widget-view+json": {
       "model_id": "66a5116fb01543cba4b0cf1802160fc4",
       "version_major": 2,
       "version_minor": 0
      },
      "text/plain": [
       "  0%|          | 0/98 [00:00<?, ?it/s]"
      ]
     },
     "metadata": {},
     "output_type": "display_data"
    },
    {
     "name": "stdout",
     "output_type": "stream",
     "text": [
      "=========('사회', '노동')=========\n",
      "https://news.naver.com/main/list.nhn?mode=LS2D&mid=shm&sid1=102&sid2=251&date=20230813&page=1\n",
      "=========('사회', '노동')=========\n",
      "https://news.naver.com/main/list.nhn?mode=LS2D&mid=shm&sid1=102&sid2=251&date=20230813&page=2\n",
      "=========('사회', '노동')=========\n",
      "https://news.naver.com/main/list.nhn?mode=LS2D&mid=shm&sid1=102&sid2=251&date=20230813&page=3\n",
      "=============================================수집완료======================================================\n"
     ]
    },
    {
     "data": {
      "application/vnd.jupyter.widget-view+json": {
       "model_id": "562a3cb074d54d49aca168212451d97b",
       "version_major": 2,
       "version_minor": 0
      },
      "text/plain": [
       "  0%|          | 0/98 [00:00<?, ?it/s]"
      ]
     },
     "metadata": {},
     "output_type": "display_data"
    },
    {
     "name": "stdout",
     "output_type": "stream",
     "text": [
      "=========('사회', '언론')=========\n",
      "https://news.naver.com/main/list.nhn?mode=LS2D&mid=shm&sid1=102&sid2=254&date=20230813&page=1\n",
      "=============================================수집완료======================================================\n"
     ]
    },
    {
     "data": {
      "application/vnd.jupyter.widget-view+json": {
       "model_id": "d42696cb263b410c9d29fb13754ec842",
       "version_major": 2,
       "version_minor": 0
      },
      "text/plain": [
       "  0%|          | 0/98 [00:00<?, ?it/s]"
      ]
     },
     "metadata": {},
     "output_type": "display_data"
    },
    {
     "name": "stdout",
     "output_type": "stream",
     "text": [
      "=========('사회', '환경')=========\n",
      "https://news.naver.com/main/list.nhn?mode=LS2D&mid=shm&sid1=102&sid2=252&date=20230813&page=1\n",
      "=========('사회', '환경')=========\n",
      "https://news.naver.com/main/list.nhn?mode=LS2D&mid=shm&sid1=102&sid2=252&date=20230813&page=2\n",
      "=============================================수집완료======================================================\n"
     ]
    },
    {
     "data": {
      "application/vnd.jupyter.widget-view+json": {
       "model_id": "bb6e97c0c77043df8adaef56c3e0436c",
       "version_major": 2,
       "version_minor": 0
      },
      "text/plain": [
       "  0%|          | 0/98 [00:00<?, ?it/s]"
      ]
     },
     "metadata": {},
     "output_type": "display_data"
    },
    {
     "name": "stdout",
     "output_type": "stream",
     "text": [
      "=========('사회', '인권/복지')=========\n",
      "https://news.naver.com/main/list.nhn?mode=LS2D&mid=shm&sid1=102&sid2=59b&date=20230813&page=1\n",
      "=========('사회', '인권/복지')=========\n",
      "https://news.naver.com/main/list.nhn?mode=LS2D&mid=shm&sid1=102&sid2=59b&date=20230813&page=2\n",
      "=========('사회', '인권/복지')=========\n",
      "https://news.naver.com/main/list.nhn?mode=LS2D&mid=shm&sid1=102&sid2=59b&date=20230813&page=3\n",
      "=============================================수집완료======================================================\n"
     ]
    },
    {
     "data": {
      "application/vnd.jupyter.widget-view+json": {
       "model_id": "0e10ffeb927c4251833b33747ad09ae0",
       "version_major": 2,
       "version_minor": 0
      },
      "text/plain": [
       "  0%|          | 0/98 [00:00<?, ?it/s]"
      ]
     },
     "metadata": {},
     "output_type": "display_data"
    },
    {
     "name": "stdout",
     "output_type": "stream",
     "text": [
      "=========('사회', '식품/의료')=========\n",
      "https://news.naver.com/main/list.nhn?mode=LS2D&mid=shm&sid1=102&sid2=255&date=20230813&page=1\n",
      "=========('사회', '식품/의료')=========\n",
      "https://news.naver.com/main/list.nhn?mode=LS2D&mid=shm&sid1=102&sid2=255&date=20230813&page=2\n",
      "=========('사회', '식품/의료')=========\n",
      "https://news.naver.com/main/list.nhn?mode=LS2D&mid=shm&sid1=102&sid2=255&date=20230813&page=3\n",
      "=========('사회', '식품/의료')=========\n",
      "https://news.naver.com/main/list.nhn?mode=LS2D&mid=shm&sid1=102&sid2=255&date=20230813&page=4\n",
      "=============================================수집완료======================================================\n"
     ]
    },
    {
     "data": {
      "application/vnd.jupyter.widget-view+json": {
       "model_id": "4d6e6287b2434d78856156076cabd371",
       "version_major": 2,
       "version_minor": 0
      },
      "text/plain": [
       "  0%|          | 0/98 [00:00<?, ?it/s]"
      ]
     },
     "metadata": {},
     "output_type": "display_data"
    },
    {
     "name": "stdout",
     "output_type": "stream",
     "text": [
      "=========('사회', '지역')=========\n",
      "https://news.naver.com/main/list.nhn?mode=LS2D&mid=shm&sid1=102&sid2=256&date=20230813&page=1\n",
      "=========('사회', '지역')=========\n",
      "https://news.naver.com/main/list.nhn?mode=LS2D&mid=shm&sid1=102&sid2=256&date=20230813&page=2\n",
      "=========('사회', '지역')=========\n",
      "https://news.naver.com/main/list.nhn?mode=LS2D&mid=shm&sid1=102&sid2=256&date=20230813&page=3\n",
      "=========('사회', '지역')=========\n",
      "https://news.naver.com/main/list.nhn?mode=LS2D&mid=shm&sid1=102&sid2=256&date=20230813&page=4\n",
      "=========('사회', '지역')=========\n",
      "https://news.naver.com/main/list.nhn?mode=LS2D&mid=shm&sid1=102&sid2=256&date=20230813&page=5\n",
      "=========('사회', '지역')=========\n",
      "https://news.naver.com/main/list.nhn?mode=LS2D&mid=shm&sid1=102&sid2=256&date=20230813&page=6\n",
      "=========('사회', '지역')=========\n",
      "https://news.naver.com/main/list.nhn?mode=LS2D&mid=shm&sid1=102&sid2=256&date=20230813&page=7\n",
      "=========('사회', '지역')=========\n",
      "https://news.naver.com/main/list.nhn?mode=LS2D&mid=shm&sid1=102&sid2=256&date=20230813&page=8\n",
      "=========('사회', '지역')=========\n",
      "https://news.naver.com/main/list.nhn?mode=LS2D&mid=shm&sid1=102&sid2=256&date=20230813&page=9\n",
      "=========('사회', '지역')=========\n",
      "https://news.naver.com/main/list.nhn?mode=LS2D&mid=shm&sid1=102&sid2=256&date=20230813&page=10\n",
      "=========('사회', '지역')=========\n",
      "https://news.naver.com/main/list.nhn?mode=LS2D&mid=shm&sid1=102&sid2=256&date=20230813&page=11\n",
      "=========('사회', '지역')=========\n",
      "https://news.naver.com/main/list.nhn?mode=LS2D&mid=shm&sid1=102&sid2=256&date=20230813&page=12\n",
      "=========('사회', '지역')=========\n",
      "https://news.naver.com/main/list.nhn?mode=LS2D&mid=shm&sid1=102&sid2=256&date=20230813&page=13\n",
      "=========('사회', '지역')=========\n",
      "https://news.naver.com/main/list.nhn?mode=LS2D&mid=shm&sid1=102&sid2=256&date=20230813&page=14\n",
      "=========('사회', '지역')=========\n",
      "https://news.naver.com/main/list.nhn?mode=LS2D&mid=shm&sid1=102&sid2=256&date=20230813&page=15\n",
      "=========('사회', '지역')=========\n",
      "https://news.naver.com/main/list.nhn?mode=LS2D&mid=shm&sid1=102&sid2=256&date=20230813&page=16\n",
      "=========('사회', '지역')=========\n",
      "https://news.naver.com/main/list.nhn?mode=LS2D&mid=shm&sid1=102&sid2=256&date=20230813&page=17\n",
      "=========('사회', '지역')=========\n",
      "https://news.naver.com/main/list.nhn?mode=LS2D&mid=shm&sid1=102&sid2=256&date=20230813&page=18\n",
      "=========('사회', '지역')=========\n",
      "https://news.naver.com/main/list.nhn?mode=LS2D&mid=shm&sid1=102&sid2=256&date=20230813&page=19\n",
      "=========('사회', '지역')=========\n",
      "https://news.naver.com/main/list.nhn?mode=LS2D&mid=shm&sid1=102&sid2=256&date=20230813&page=20\n",
      "=========('사회', '지역')=========\n",
      "https://news.naver.com/main/list.nhn?mode=LS2D&mid=shm&sid1=102&sid2=256&date=20230813&page=21\n",
      "=========('사회', '지역')=========\n",
      "https://news.naver.com/main/list.nhn?mode=LS2D&mid=shm&sid1=102&sid2=256&date=20230813&page=22\n",
      "=========('사회', '지역')=========\n",
      "https://news.naver.com/main/list.nhn?mode=LS2D&mid=shm&sid1=102&sid2=256&date=20230813&page=23\n",
      "=========('사회', '지역')=========\n",
      "https://news.naver.com/main/list.nhn?mode=LS2D&mid=shm&sid1=102&sid2=256&date=20230813&page=24\n",
      "=========('사회', '지역')=========\n",
      "https://news.naver.com/main/list.nhn?mode=LS2D&mid=shm&sid1=102&sid2=256&date=20230813&page=25\n",
      "=========('사회', '지역')=========\n",
      "https://news.naver.com/main/list.nhn?mode=LS2D&mid=shm&sid1=102&sid2=256&date=20230813&page=26\n",
      "=========('사회', '지역')=========\n",
      "https://news.naver.com/main/list.nhn?mode=LS2D&mid=shm&sid1=102&sid2=256&date=20230813&page=27\n",
      "=========('사회', '지역')=========\n",
      "https://news.naver.com/main/list.nhn?mode=LS2D&mid=shm&sid1=102&sid2=256&date=20230813&page=28\n",
      "=========('사회', '지역')=========\n",
      "https://news.naver.com/main/list.nhn?mode=LS2D&mid=shm&sid1=102&sid2=256&date=20230813&page=29\n",
      "=========('사회', '지역')=========\n",
      "https://news.naver.com/main/list.nhn?mode=LS2D&mid=shm&sid1=102&sid2=256&date=20230813&page=30\n",
      "=========('사회', '지역')=========\n",
      "https://news.naver.com/main/list.nhn?mode=LS2D&mid=shm&sid1=102&sid2=256&date=20230813&page=31\n",
      "=========('사회', '지역')=========\n",
      "https://news.naver.com/main/list.nhn?mode=LS2D&mid=shm&sid1=102&sid2=256&date=20230813&page=32\n",
      "=========('사회', '지역')=========\n",
      "https://news.naver.com/main/list.nhn?mode=LS2D&mid=shm&sid1=102&sid2=256&date=20230813&page=33\n",
      "=========('사회', '지역')=========\n",
      "https://news.naver.com/main/list.nhn?mode=LS2D&mid=shm&sid1=102&sid2=256&date=20230813&page=34\n",
      "=========('사회', '지역')=========\n",
      "https://news.naver.com/main/list.nhn?mode=LS2D&mid=shm&sid1=102&sid2=256&date=20230813&page=35\n",
      "=========('사회', '지역')=========\n",
      "https://news.naver.com/main/list.nhn?mode=LS2D&mid=shm&sid1=102&sid2=256&date=20230813&page=36\n",
      "=========('사회', '지역')=========\n",
      "https://news.naver.com/main/list.nhn?mode=LS2D&mid=shm&sid1=102&sid2=256&date=20230813&page=37\n",
      "=========('사회', '지역')=========\n",
      "https://news.naver.com/main/list.nhn?mode=LS2D&mid=shm&sid1=102&sid2=256&date=20230813&page=38\n",
      "=========('사회', '지역')=========\n",
      "https://news.naver.com/main/list.nhn?mode=LS2D&mid=shm&sid1=102&sid2=256&date=20230813&page=39\n",
      "=========('사회', '지역')=========\n",
      "https://news.naver.com/main/list.nhn?mode=LS2D&mid=shm&sid1=102&sid2=256&date=20230813&page=40\n",
      "=========('사회', '지역')=========\n",
      "https://news.naver.com/main/list.nhn?mode=LS2D&mid=shm&sid1=102&sid2=256&date=20230813&page=41\n",
      "=========('사회', '지역')=========\n",
      "https://news.naver.com/main/list.nhn?mode=LS2D&mid=shm&sid1=102&sid2=256&date=20230813&page=42\n",
      "=========('사회', '지역')=========\n",
      "https://news.naver.com/main/list.nhn?mode=LS2D&mid=shm&sid1=102&sid2=256&date=20230813&page=43\n",
      "=========('사회', '지역')=========\n",
      "https://news.naver.com/main/list.nhn?mode=LS2D&mid=shm&sid1=102&sid2=256&date=20230813&page=44\n",
      "=========('사회', '지역')=========\n",
      "https://news.naver.com/main/list.nhn?mode=LS2D&mid=shm&sid1=102&sid2=256&date=20230813&page=45\n",
      "=========('사회', '지역')=========\n",
      "https://news.naver.com/main/list.nhn?mode=LS2D&mid=shm&sid1=102&sid2=256&date=20230813&page=46\n",
      "=========('사회', '지역')=========\n",
      "https://news.naver.com/main/list.nhn?mode=LS2D&mid=shm&sid1=102&sid2=256&date=20230813&page=47\n",
      "=========('사회', '지역')=========\n",
      "https://news.naver.com/main/list.nhn?mode=LS2D&mid=shm&sid1=102&sid2=256&date=20230813&page=48\n",
      "=========('사회', '지역')=========\n",
      "https://news.naver.com/main/list.nhn?mode=LS2D&mid=shm&sid1=102&sid2=256&date=20230813&page=49\n",
      "=========('사회', '지역')=========\n",
      "https://news.naver.com/main/list.nhn?mode=LS2D&mid=shm&sid1=102&sid2=256&date=20230813&page=50\n",
      "=========('사회', '지역')=========\n",
      "https://news.naver.com/main/list.nhn?mode=LS2D&mid=shm&sid1=102&sid2=256&date=20230813&page=51\n",
      "=========('사회', '지역')=========\n",
      "https://news.naver.com/main/list.nhn?mode=LS2D&mid=shm&sid1=102&sid2=256&date=20230813&page=52\n",
      "=========('사회', '지역')=========\n",
      "https://news.naver.com/main/list.nhn?mode=LS2D&mid=shm&sid1=102&sid2=256&date=20230813&page=53\n",
      "=========('사회', '지역')=========\n",
      "https://news.naver.com/main/list.nhn?mode=LS2D&mid=shm&sid1=102&sid2=256&date=20230813&page=54\n",
      "=========('사회', '지역')=========\n",
      "https://news.naver.com/main/list.nhn?mode=LS2D&mid=shm&sid1=102&sid2=256&date=20230813&page=55\n",
      "=========('사회', '지역')=========\n",
      "https://news.naver.com/main/list.nhn?mode=LS2D&mid=shm&sid1=102&sid2=256&date=20230813&page=56\n",
      "=========('사회', '지역')=========\n",
      "https://news.naver.com/main/list.nhn?mode=LS2D&mid=shm&sid1=102&sid2=256&date=20230813&page=57\n",
      "=========('사회', '지역')=========\n",
      "https://news.naver.com/main/list.nhn?mode=LS2D&mid=shm&sid1=102&sid2=256&date=20230813&page=58\n",
      "=========('사회', '지역')=========\n",
      "https://news.naver.com/main/list.nhn?mode=LS2D&mid=shm&sid1=102&sid2=256&date=20230813&page=59\n",
      "=========('사회', '지역')=========\n",
      "https://news.naver.com/main/list.nhn?mode=LS2D&mid=shm&sid1=102&sid2=256&date=20230813&page=60\n",
      "=========('사회', '지역')=========\n",
      "https://news.naver.com/main/list.nhn?mode=LS2D&mid=shm&sid1=102&sid2=256&date=20230813&page=61\n",
      "=========('사회', '지역')=========\n",
      "https://news.naver.com/main/list.nhn?mode=LS2D&mid=shm&sid1=102&sid2=256&date=20230813&page=62\n",
      "=========('사회', '지역')=========\n",
      "https://news.naver.com/main/list.nhn?mode=LS2D&mid=shm&sid1=102&sid2=256&date=20230813&page=63\n",
      "=========('사회', '지역')=========\n",
      "https://news.naver.com/main/list.nhn?mode=LS2D&mid=shm&sid1=102&sid2=256&date=20230813&page=64\n",
      "=========('사회', '지역')=========\n",
      "https://news.naver.com/main/list.nhn?mode=LS2D&mid=shm&sid1=102&sid2=256&date=20230813&page=65\n",
      "=========('사회', '지역')=========\n",
      "https://news.naver.com/main/list.nhn?mode=LS2D&mid=shm&sid1=102&sid2=256&date=20230813&page=66\n",
      "=========('사회', '지역')=========\n",
      "https://news.naver.com/main/list.nhn?mode=LS2D&mid=shm&sid1=102&sid2=256&date=20230813&page=67\n",
      "=========('사회', '지역')=========\n",
      "https://news.naver.com/main/list.nhn?mode=LS2D&mid=shm&sid1=102&sid2=256&date=20230813&page=68\n",
      "=========('사회', '지역')=========\n",
      "https://news.naver.com/main/list.nhn?mode=LS2D&mid=shm&sid1=102&sid2=256&date=20230813&page=69\n",
      "=========('사회', '지역')=========\n",
      "https://news.naver.com/main/list.nhn?mode=LS2D&mid=shm&sid1=102&sid2=256&date=20230813&page=70\n",
      "=========('사회', '지역')=========\n",
      "https://news.naver.com/main/list.nhn?mode=LS2D&mid=shm&sid1=102&sid2=256&date=20230813&page=71\n",
      "=========('사회', '지역')=========\n",
      "https://news.naver.com/main/list.nhn?mode=LS2D&mid=shm&sid1=102&sid2=256&date=20230813&page=72\n",
      "=========('사회', '지역')=========\n",
      "https://news.naver.com/main/list.nhn?mode=LS2D&mid=shm&sid1=102&sid2=256&date=20230813&page=73\n",
      "=========('사회', '지역')=========\n",
      "https://news.naver.com/main/list.nhn?mode=LS2D&mid=shm&sid1=102&sid2=256&date=20230813&page=74\n",
      "=========('사회', '지역')=========\n",
      "https://news.naver.com/main/list.nhn?mode=LS2D&mid=shm&sid1=102&sid2=256&date=20230813&page=75\n",
      "=========('사회', '지역')=========\n",
      "https://news.naver.com/main/list.nhn?mode=LS2D&mid=shm&sid1=102&sid2=256&date=20230813&page=76\n",
      "=========('사회', '지역')=========\n",
      "https://news.naver.com/main/list.nhn?mode=LS2D&mid=shm&sid1=102&sid2=256&date=20230813&page=77\n",
      "=========('사회', '지역')=========\n",
      "https://news.naver.com/main/list.nhn?mode=LS2D&mid=shm&sid1=102&sid2=256&date=20230813&page=78\n",
      "=========('사회', '지역')=========\n",
      "https://news.naver.com/main/list.nhn?mode=LS2D&mid=shm&sid1=102&sid2=256&date=20230813&page=79\n",
      "=========('사회', '지역')=========\n",
      "https://news.naver.com/main/list.nhn?mode=LS2D&mid=shm&sid1=102&sid2=256&date=20230813&page=80\n",
      "=========('사회', '지역')=========\n",
      "https://news.naver.com/main/list.nhn?mode=LS2D&mid=shm&sid1=102&sid2=256&date=20230813&page=81\n",
      "=========('사회', '지역')=========\n",
      "https://news.naver.com/main/list.nhn?mode=LS2D&mid=shm&sid1=102&sid2=256&date=20230813&page=82\n",
      "=========('사회', '지역')=========\n",
      "https://news.naver.com/main/list.nhn?mode=LS2D&mid=shm&sid1=102&sid2=256&date=20230813&page=83\n",
      "=========('사회', '지역')=========\n",
      "https://news.naver.com/main/list.nhn?mode=LS2D&mid=shm&sid1=102&sid2=256&date=20230813&page=84\n",
      "=========('사회', '지역')=========\n",
      "https://news.naver.com/main/list.nhn?mode=LS2D&mid=shm&sid1=102&sid2=256&date=20230813&page=85\n",
      "=========('사회', '지역')=========\n",
      "https://news.naver.com/main/list.nhn?mode=LS2D&mid=shm&sid1=102&sid2=256&date=20230813&page=86\n",
      "=========('사회', '지역')=========\n",
      "https://news.naver.com/main/list.nhn?mode=LS2D&mid=shm&sid1=102&sid2=256&date=20230813&page=87\n",
      "=========('사회', '지역')=========\n",
      "https://news.naver.com/main/list.nhn?mode=LS2D&mid=shm&sid1=102&sid2=256&date=20230813&page=88\n",
      "=========('사회', '지역')=========\n",
      "https://news.naver.com/main/list.nhn?mode=LS2D&mid=shm&sid1=102&sid2=256&date=20230813&page=89\n",
      "=============================================수집완료======================================================\n"
     ]
    },
    {
     "data": {
      "application/vnd.jupyter.widget-view+json": {
       "model_id": "6442593c0a7748cdbda41fae6b53602a",
       "version_major": 2,
       "version_minor": 0
      },
      "text/plain": [
       "  0%|          | 0/98 [00:00<?, ?it/s]"
      ]
     },
     "metadata": {},
     "output_type": "display_data"
    },
    {
     "name": "stdout",
     "output_type": "stream",
     "text": [
      "=========('사회', '인물')=========\n",
      "https://news.naver.com/main/list.nhn?mode=LS2D&mid=shm&sid1=102&sid2=276&date=20230813&page=1\n",
      "=========('사회', '인물')=========\n",
      "https://news.naver.com/main/list.nhn?mode=LS2D&mid=shm&sid1=102&sid2=276&date=20230813&page=2\n",
      "=========('사회', '인물')=========\n",
      "https://news.naver.com/main/list.nhn?mode=LS2D&mid=shm&sid1=102&sid2=276&date=20230813&page=3\n",
      "=========('사회', '인물')=========\n",
      "https://news.naver.com/main/list.nhn?mode=LS2D&mid=shm&sid1=102&sid2=276&date=20230813&page=4\n",
      "=========('사회', '인물')=========\n",
      "https://news.naver.com/main/list.nhn?mode=LS2D&mid=shm&sid1=102&sid2=276&date=20230813&page=5\n",
      "=========('사회', '인물')=========\n",
      "https://news.naver.com/main/list.nhn?mode=LS2D&mid=shm&sid1=102&sid2=276&date=20230813&page=6\n",
      "=============================================수집완료======================================================\n"
     ]
    },
    {
     "data": {
      "application/vnd.jupyter.widget-view+json": {
       "model_id": "791842f62a2246a8beeffa5045d6ceba",
       "version_major": 2,
       "version_minor": 0
      },
      "text/plain": [
       "  0%|          | 0/98 [00:00<?, ?it/s]"
      ]
     },
     "metadata": {},
     "output_type": "display_data"
    },
    {
     "name": "stdout",
     "output_type": "stream",
     "text": [
      "=========('사회', '사회 일반')=========\n",
      "https://news.naver.com/main/list.nhn?mode=LS2D&mid=shm&sid1=102&sid2=257&date=20230813&page=1\n",
      "=========('사회', '사회 일반')=========\n",
      "https://news.naver.com/main/list.nhn?mode=LS2D&mid=shm&sid1=102&sid2=257&date=20230813&page=2\n",
      "=========('사회', '사회 일반')=========\n",
      "https://news.naver.com/main/list.nhn?mode=LS2D&mid=shm&sid1=102&sid2=257&date=20230813&page=3\n",
      "=========('사회', '사회 일반')=========\n",
      "https://news.naver.com/main/list.nhn?mode=LS2D&mid=shm&sid1=102&sid2=257&date=20230813&page=4\n",
      "=========('사회', '사회 일반')=========\n",
      "https://news.naver.com/main/list.nhn?mode=LS2D&mid=shm&sid1=102&sid2=257&date=20230813&page=5\n",
      "=========('사회', '사회 일반')=========\n",
      "https://news.naver.com/main/list.nhn?mode=LS2D&mid=shm&sid1=102&sid2=257&date=20230813&page=6\n",
      "=========('사회', '사회 일반')=========\n",
      "https://news.naver.com/main/list.nhn?mode=LS2D&mid=shm&sid1=102&sid2=257&date=20230813&page=7\n",
      "=========('사회', '사회 일반')=========\n",
      "https://news.naver.com/main/list.nhn?mode=LS2D&mid=shm&sid1=102&sid2=257&date=20230813&page=8\n",
      "=========('사회', '사회 일반')=========\n",
      "https://news.naver.com/main/list.nhn?mode=LS2D&mid=shm&sid1=102&sid2=257&date=20230813&page=9\n",
      "=========('사회', '사회 일반')=========\n",
      "https://news.naver.com/main/list.nhn?mode=LS2D&mid=shm&sid1=102&sid2=257&date=20230813&page=10\n",
      "=========('사회', '사회 일반')=========\n",
      "https://news.naver.com/main/list.nhn?mode=LS2D&mid=shm&sid1=102&sid2=257&date=20230813&page=11\n",
      "=========('사회', '사회 일반')=========\n",
      "https://news.naver.com/main/list.nhn?mode=LS2D&mid=shm&sid1=102&sid2=257&date=20230813&page=12\n",
      "=========('사회', '사회 일반')=========\n",
      "https://news.naver.com/main/list.nhn?mode=LS2D&mid=shm&sid1=102&sid2=257&date=20230813&page=13\n",
      "=========('사회', '사회 일반')=========\n",
      "https://news.naver.com/main/list.nhn?mode=LS2D&mid=shm&sid1=102&sid2=257&date=20230813&page=14\n",
      "=========('사회', '사회 일반')=========\n",
      "https://news.naver.com/main/list.nhn?mode=LS2D&mid=shm&sid1=102&sid2=257&date=20230813&page=15\n",
      "=========('사회', '사회 일반')=========\n",
      "https://news.naver.com/main/list.nhn?mode=LS2D&mid=shm&sid1=102&sid2=257&date=20230813&page=16\n",
      "=========('사회', '사회 일반')=========\n",
      "https://news.naver.com/main/list.nhn?mode=LS2D&mid=shm&sid1=102&sid2=257&date=20230813&page=17\n",
      "=========('사회', '사회 일반')=========\n",
      "https://news.naver.com/main/list.nhn?mode=LS2D&mid=shm&sid1=102&sid2=257&date=20230813&page=18\n",
      "=========('사회', '사회 일반')=========\n",
      "https://news.naver.com/main/list.nhn?mode=LS2D&mid=shm&sid1=102&sid2=257&date=20230813&page=19\n",
      "=========('사회', '사회 일반')=========\n",
      "https://news.naver.com/main/list.nhn?mode=LS2D&mid=shm&sid1=102&sid2=257&date=20230813&page=20\n",
      "=========('사회', '사회 일반')=========\n",
      "https://news.naver.com/main/list.nhn?mode=LS2D&mid=shm&sid1=102&sid2=257&date=20230813&page=21\n",
      "=========('사회', '사회 일반')=========\n",
      "https://news.naver.com/main/list.nhn?mode=LS2D&mid=shm&sid1=102&sid2=257&date=20230813&page=22\n",
      "=========('사회', '사회 일반')=========\n",
      "https://news.naver.com/main/list.nhn?mode=LS2D&mid=shm&sid1=102&sid2=257&date=20230813&page=23\n",
      "=========('사회', '사회 일반')=========\n",
      "https://news.naver.com/main/list.nhn?mode=LS2D&mid=shm&sid1=102&sid2=257&date=20230813&page=24\n",
      "=========('사회', '사회 일반')=========\n",
      "https://news.naver.com/main/list.nhn?mode=LS2D&mid=shm&sid1=102&sid2=257&date=20230813&page=25\n",
      "=========('사회', '사회 일반')=========\n",
      "https://news.naver.com/main/list.nhn?mode=LS2D&mid=shm&sid1=102&sid2=257&date=20230813&page=26\n",
      "=========('사회', '사회 일반')=========\n",
      "https://news.naver.com/main/list.nhn?mode=LS2D&mid=shm&sid1=102&sid2=257&date=20230813&page=27\n",
      "=========('사회', '사회 일반')=========\n",
      "https://news.naver.com/main/list.nhn?mode=LS2D&mid=shm&sid1=102&sid2=257&date=20230813&page=28\n",
      "=========('사회', '사회 일반')=========\n",
      "https://news.naver.com/main/list.nhn?mode=LS2D&mid=shm&sid1=102&sid2=257&date=20230813&page=29\n",
      "=========('사회', '사회 일반')=========\n",
      "https://news.naver.com/main/list.nhn?mode=LS2D&mid=shm&sid1=102&sid2=257&date=20230813&page=30\n",
      "=========('사회', '사회 일반')=========\n",
      "https://news.naver.com/main/list.nhn?mode=LS2D&mid=shm&sid1=102&sid2=257&date=20230813&page=31\n",
      "=========('사회', '사회 일반')=========\n",
      "https://news.naver.com/main/list.nhn?mode=LS2D&mid=shm&sid1=102&sid2=257&date=20230813&page=32\n",
      "=========('사회', '사회 일반')=========\n",
      "https://news.naver.com/main/list.nhn?mode=LS2D&mid=shm&sid1=102&sid2=257&date=20230813&page=33\n",
      "=========('사회', '사회 일반')=========\n",
      "https://news.naver.com/main/list.nhn?mode=LS2D&mid=shm&sid1=102&sid2=257&date=20230813&page=34\n",
      "=========('사회', '사회 일반')=========\n",
      "https://news.naver.com/main/list.nhn?mode=LS2D&mid=shm&sid1=102&sid2=257&date=20230813&page=35\n",
      "=========('사회', '사회 일반')=========\n",
      "https://news.naver.com/main/list.nhn?mode=LS2D&mid=shm&sid1=102&sid2=257&date=20230813&page=36\n",
      "=========('사회', '사회 일반')=========\n",
      "https://news.naver.com/main/list.nhn?mode=LS2D&mid=shm&sid1=102&sid2=257&date=20230813&page=37\n",
      "=========('사회', '사회 일반')=========\n",
      "https://news.naver.com/main/list.nhn?mode=LS2D&mid=shm&sid1=102&sid2=257&date=20230813&page=38\n",
      "=========('사회', '사회 일반')=========\n",
      "https://news.naver.com/main/list.nhn?mode=LS2D&mid=shm&sid1=102&sid2=257&date=20230813&page=39\n",
      "=========('사회', '사회 일반')=========\n",
      "https://news.naver.com/main/list.nhn?mode=LS2D&mid=shm&sid1=102&sid2=257&date=20230813&page=40\n",
      "=========('사회', '사회 일반')=========\n",
      "https://news.naver.com/main/list.nhn?mode=LS2D&mid=shm&sid1=102&sid2=257&date=20230813&page=41\n",
      "=========('사회', '사회 일반')=========\n",
      "https://news.naver.com/main/list.nhn?mode=LS2D&mid=shm&sid1=102&sid2=257&date=20230813&page=42\n",
      "=========('사회', '사회 일반')=========\n",
      "https://news.naver.com/main/list.nhn?mode=LS2D&mid=shm&sid1=102&sid2=257&date=20230813&page=43\n",
      "=========('사회', '사회 일반')=========\n",
      "https://news.naver.com/main/list.nhn?mode=LS2D&mid=shm&sid1=102&sid2=257&date=20230813&page=44\n",
      "=========('사회', '사회 일반')=========\n",
      "https://news.naver.com/main/list.nhn?mode=LS2D&mid=shm&sid1=102&sid2=257&date=20230813&page=45\n",
      "=========('사회', '사회 일반')=========\n",
      "https://news.naver.com/main/list.nhn?mode=LS2D&mid=shm&sid1=102&sid2=257&date=20230813&page=46\n",
      "=========('사회', '사회 일반')=========\n",
      "https://news.naver.com/main/list.nhn?mode=LS2D&mid=shm&sid1=102&sid2=257&date=20230813&page=47\n",
      "=========('사회', '사회 일반')=========\n",
      "https://news.naver.com/main/list.nhn?mode=LS2D&mid=shm&sid1=102&sid2=257&date=20230813&page=48\n",
      "=========('사회', '사회 일반')=========\n",
      "https://news.naver.com/main/list.nhn?mode=LS2D&mid=shm&sid1=102&sid2=257&date=20230813&page=49\n",
      "=========('사회', '사회 일반')=========\n",
      "https://news.naver.com/main/list.nhn?mode=LS2D&mid=shm&sid1=102&sid2=257&date=20230813&page=50\n",
      "=========('사회', '사회 일반')=========\n",
      "https://news.naver.com/main/list.nhn?mode=LS2D&mid=shm&sid1=102&sid2=257&date=20230813&page=51\n",
      "=========('사회', '사회 일반')=========\n",
      "https://news.naver.com/main/list.nhn?mode=LS2D&mid=shm&sid1=102&sid2=257&date=20230813&page=52\n",
      "=========('사회', '사회 일반')=========\n",
      "https://news.naver.com/main/list.nhn?mode=LS2D&mid=shm&sid1=102&sid2=257&date=20230813&page=53\n",
      "=========('사회', '사회 일반')=========\n",
      "https://news.naver.com/main/list.nhn?mode=LS2D&mid=shm&sid1=102&sid2=257&date=20230813&page=54\n",
      "=========('사회', '사회 일반')=========\n",
      "https://news.naver.com/main/list.nhn?mode=LS2D&mid=shm&sid1=102&sid2=257&date=20230813&page=55\n",
      "=========('사회', '사회 일반')=========\n",
      "https://news.naver.com/main/list.nhn?mode=LS2D&mid=shm&sid1=102&sid2=257&date=20230813&page=56\n",
      "=========('사회', '사회 일반')=========\n",
      "https://news.naver.com/main/list.nhn?mode=LS2D&mid=shm&sid1=102&sid2=257&date=20230813&page=57\n",
      "=========('사회', '사회 일반')=========\n",
      "https://news.naver.com/main/list.nhn?mode=LS2D&mid=shm&sid1=102&sid2=257&date=20230813&page=58\n",
      "=========('사회', '사회 일반')=========\n",
      "https://news.naver.com/main/list.nhn?mode=LS2D&mid=shm&sid1=102&sid2=257&date=20230813&page=59\n",
      "=========('사회', '사회 일반')=========\n",
      "https://news.naver.com/main/list.nhn?mode=LS2D&mid=shm&sid1=102&sid2=257&date=20230813&page=60\n",
      "=========('사회', '사회 일반')=========\n",
      "https://news.naver.com/main/list.nhn?mode=LS2D&mid=shm&sid1=102&sid2=257&date=20230813&page=61\n",
      "=========('사회', '사회 일반')=========\n",
      "https://news.naver.com/main/list.nhn?mode=LS2D&mid=shm&sid1=102&sid2=257&date=20230813&page=62\n",
      "=========('사회', '사회 일반')=========\n",
      "https://news.naver.com/main/list.nhn?mode=LS2D&mid=shm&sid1=102&sid2=257&date=20230813&page=63\n",
      "=========('사회', '사회 일반')=========\n",
      "https://news.naver.com/main/list.nhn?mode=LS2D&mid=shm&sid1=102&sid2=257&date=20230813&page=64\n",
      "=========('사회', '사회 일반')=========\n",
      "https://news.naver.com/main/list.nhn?mode=LS2D&mid=shm&sid1=102&sid2=257&date=20230813&page=65\n",
      "=========('사회', '사회 일반')=========\n",
      "https://news.naver.com/main/list.nhn?mode=LS2D&mid=shm&sid1=102&sid2=257&date=20230813&page=66\n",
      "=========('사회', '사회 일반')=========\n",
      "https://news.naver.com/main/list.nhn?mode=LS2D&mid=shm&sid1=102&sid2=257&date=20230813&page=67\n",
      "=========('사회', '사회 일반')=========\n",
      "https://news.naver.com/main/list.nhn?mode=LS2D&mid=shm&sid1=102&sid2=257&date=20230813&page=68\n",
      "=========('사회', '사회 일반')=========\n",
      "https://news.naver.com/main/list.nhn?mode=LS2D&mid=shm&sid1=102&sid2=257&date=20230813&page=69\n",
      "=========('사회', '사회 일반')=========\n",
      "https://news.naver.com/main/list.nhn?mode=LS2D&mid=shm&sid1=102&sid2=257&date=20230813&page=70\n",
      "=========('사회', '사회 일반')=========\n",
      "https://news.naver.com/main/list.nhn?mode=LS2D&mid=shm&sid1=102&sid2=257&date=20230813&page=71\n",
      "=========('사회', '사회 일반')=========\n",
      "https://news.naver.com/main/list.nhn?mode=LS2D&mid=shm&sid1=102&sid2=257&date=20230813&page=72\n",
      "=========('사회', '사회 일반')=========\n",
      "https://news.naver.com/main/list.nhn?mode=LS2D&mid=shm&sid1=102&sid2=257&date=20230813&page=73\n",
      "=========('사회', '사회 일반')=========\n",
      "https://news.naver.com/main/list.nhn?mode=LS2D&mid=shm&sid1=102&sid2=257&date=20230813&page=74\n",
      "=========('사회', '사회 일반')=========\n",
      "https://news.naver.com/main/list.nhn?mode=LS2D&mid=shm&sid1=102&sid2=257&date=20230813&page=75\n",
      "=========('사회', '사회 일반')=========\n",
      "https://news.naver.com/main/list.nhn?mode=LS2D&mid=shm&sid1=102&sid2=257&date=20230813&page=76\n",
      "=========('사회', '사회 일반')=========\n",
      "https://news.naver.com/main/list.nhn?mode=LS2D&mid=shm&sid1=102&sid2=257&date=20230813&page=77\n",
      "=========('사회', '사회 일반')=========\n",
      "https://news.naver.com/main/list.nhn?mode=LS2D&mid=shm&sid1=102&sid2=257&date=20230813&page=78\n",
      "=========('사회', '사회 일반')=========\n",
      "https://news.naver.com/main/list.nhn?mode=LS2D&mid=shm&sid1=102&sid2=257&date=20230813&page=79\n",
      "=========('사회', '사회 일반')=========\n",
      "https://news.naver.com/main/list.nhn?mode=LS2D&mid=shm&sid1=102&sid2=257&date=20230813&page=80\n",
      "=========('사회', '사회 일반')=========\n",
      "https://news.naver.com/main/list.nhn?mode=LS2D&mid=shm&sid1=102&sid2=257&date=20230813&page=81\n",
      "=========('사회', '사회 일반')=========\n",
      "https://news.naver.com/main/list.nhn?mode=LS2D&mid=shm&sid1=102&sid2=257&date=20230813&page=82\n",
      "=========('사회', '사회 일반')=========\n",
      "https://news.naver.com/main/list.nhn?mode=LS2D&mid=shm&sid1=102&sid2=257&date=20230813&page=83\n",
      "=========('사회', '사회 일반')=========\n",
      "https://news.naver.com/main/list.nhn?mode=LS2D&mid=shm&sid1=102&sid2=257&date=20230813&page=84\n",
      "=========('사회', '사회 일반')=========\n",
      "https://news.naver.com/main/list.nhn?mode=LS2D&mid=shm&sid1=102&sid2=257&date=20230813&page=85\n",
      "=========('사회', '사회 일반')=========\n",
      "https://news.naver.com/main/list.nhn?mode=LS2D&mid=shm&sid1=102&sid2=257&date=20230813&page=86\n",
      "=========('사회', '사회 일반')=========\n",
      "https://news.naver.com/main/list.nhn?mode=LS2D&mid=shm&sid1=102&sid2=257&date=20230813&page=87\n",
      "=========('사회', '사회 일반')=========\n",
      "https://news.naver.com/main/list.nhn?mode=LS2D&mid=shm&sid1=102&sid2=257&date=20230813&page=88\n",
      "=========('사회', '사회 일반')=========\n",
      "https://news.naver.com/main/list.nhn?mode=LS2D&mid=shm&sid1=102&sid2=257&date=20230813&page=89\n",
      "=========('사회', '사회 일반')=========\n",
      "https://news.naver.com/main/list.nhn?mode=LS2D&mid=shm&sid1=102&sid2=257&date=20230813&page=90\n",
      "=========('사회', '사회 일반')=========\n",
      "https://news.naver.com/main/list.nhn?mode=LS2D&mid=shm&sid1=102&sid2=257&date=20230813&page=91\n",
      "=========('사회', '사회 일반')=========\n",
      "https://news.naver.com/main/list.nhn?mode=LS2D&mid=shm&sid1=102&sid2=257&date=20230813&page=92\n",
      "=========('사회', '사회 일반')=========\n",
      "https://news.naver.com/main/list.nhn?mode=LS2D&mid=shm&sid1=102&sid2=257&date=20230813&page=93\n",
      "=========('사회', '사회 일반')=========\n",
      "https://news.naver.com/main/list.nhn?mode=LS2D&mid=shm&sid1=102&sid2=257&date=20230813&page=94\n",
      "=========('사회', '사회 일반')=========\n",
      "https://news.naver.com/main/list.nhn?mode=LS2D&mid=shm&sid1=102&sid2=257&date=20230813&page=95\n",
      "=========('사회', '사회 일반')=========\n",
      "https://news.naver.com/main/list.nhn?mode=LS2D&mid=shm&sid1=102&sid2=257&date=20230813&page=96\n",
      "=========('사회', '사회 일반')=========\n",
      "https://news.naver.com/main/list.nhn?mode=LS2D&mid=shm&sid1=102&sid2=257&date=20230813&page=97\n",
      "=========('사회', '사회 일반')=========\n",
      "https://news.naver.com/main/list.nhn?mode=LS2D&mid=shm&sid1=102&sid2=257&date=20230813&page=98\n",
      "=============================================수집완료======================================================\n"
     ]
    },
    {
     "data": {
      "application/vnd.jupyter.widget-view+json": {
       "model_id": "db155bae82964cf7833aa34249fe871b",
       "version_major": 2,
       "version_minor": 0
      },
      "text/plain": [
       "  0%|          | 0/98 [00:00<?, ?it/s]"
      ]
     },
     "metadata": {},
     "output_type": "display_data"
    },
    {
     "name": "stdout",
     "output_type": "stream",
     "text": [
      "=========('생활문화', '건강정보')=========\n",
      "https://news.naver.com/main/list.nhn?mode=LS2D&mid=shm&sid1=103&sid2=241&date=20230813&page=1\n",
      "=========('생활문화', '건강정보')=========\n",
      "https://news.naver.com/main/list.nhn?mode=LS2D&mid=shm&sid1=103&sid2=241&date=20230813&page=2\n",
      "=========('생활문화', '건강정보')=========\n",
      "https://news.naver.com/main/list.nhn?mode=LS2D&mid=shm&sid1=103&sid2=241&date=20230813&page=3\n",
      "=========('생활문화', '건강정보')=========\n",
      "https://news.naver.com/main/list.nhn?mode=LS2D&mid=shm&sid1=103&sid2=241&date=20230813&page=4\n",
      "=============================================수집완료======================================================\n"
     ]
    },
    {
     "data": {
      "application/vnd.jupyter.widget-view+json": {
       "model_id": "a279639364c140e1ba4148786d7639be",
       "version_major": 2,
       "version_minor": 0
      },
      "text/plain": [
       "  0%|          | 0/98 [00:00<?, ?it/s]"
      ]
     },
     "metadata": {},
     "output_type": "display_data"
    },
    {
     "name": "stdout",
     "output_type": "stream",
     "text": [
      "=========('생활문화', '자동차/시승기')=========\n",
      "https://news.naver.com/main/list.nhn?mode=LS2D&mid=shm&sid1=103&sid2=239&date=20230813&page=1\n",
      "=========('생활문화', '자동차/시승기')=========\n",
      "https://news.naver.com/main/list.nhn?mode=LS2D&mid=shm&sid1=103&sid2=239&date=20230813&page=2\n",
      "=========('생활문화', '자동차/시승기')=========\n",
      "https://news.naver.com/main/list.nhn?mode=LS2D&mid=shm&sid1=103&sid2=239&date=20230813&page=3\n",
      "=============================================수집완료======================================================\n"
     ]
    },
    {
     "data": {
      "application/vnd.jupyter.widget-view+json": {
       "model_id": "68b90b5582e645968bb78b73df6db09a",
       "version_major": 2,
       "version_minor": 0
      },
      "text/plain": [
       "  0%|          | 0/98 [00:00<?, ?it/s]"
      ]
     },
     "metadata": {},
     "output_type": "display_data"
    },
    {
     "name": "stdout",
     "output_type": "stream",
     "text": [
      "=========('생활문화', '도로/교통')=========\n",
      "https://news.naver.com/main/list.nhn?mode=LS2D&mid=shm&sid1=103&sid2=240&date=20230813&page=1\n",
      "=========('생활문화', '도로/교통')=========\n",
      "https://news.naver.com/main/list.nhn?mode=LS2D&mid=shm&sid1=103&sid2=240&date=20230813&page=2\n",
      "=============================================수집완료======================================================\n"
     ]
    },
    {
     "data": {
      "application/vnd.jupyter.widget-view+json": {
       "model_id": "e316a01d20614099964e3e4b2bb1de78",
       "version_major": 2,
       "version_minor": 0
      },
      "text/plain": [
       "  0%|          | 0/98 [00:00<?, ?it/s]"
      ]
     },
     "metadata": {},
     "output_type": "display_data"
    },
    {
     "name": "stdout",
     "output_type": "stream",
     "text": [
      "=========('생활문화', '여행/레저')=========\n",
      "https://news.naver.com/main/list.nhn?mode=LS2D&mid=shm&sid1=103&sid2=237&date=20230813&page=1\n",
      "=========('생활문화', '여행/레저')=========\n",
      "https://news.naver.com/main/list.nhn?mode=LS2D&mid=shm&sid1=103&sid2=237&date=20230813&page=2\n",
      "=========('생활문화', '여행/레저')=========\n",
      "https://news.naver.com/main/list.nhn?mode=LS2D&mid=shm&sid1=103&sid2=237&date=20230813&page=3\n",
      "=========('생활문화', '여행/레저')=========\n",
      "https://news.naver.com/main/list.nhn?mode=LS2D&mid=shm&sid1=103&sid2=237&date=20230813&page=4\n",
      "=========('생활문화', '여행/레저')=========\n",
      "https://news.naver.com/main/list.nhn?mode=LS2D&mid=shm&sid1=103&sid2=237&date=20230813&page=5\n",
      "=========('생활문화', '여행/레저')=========\n",
      "https://news.naver.com/main/list.nhn?mode=LS2D&mid=shm&sid1=103&sid2=237&date=20230813&page=6\n",
      "=========('생활문화', '여행/레저')=========\n",
      "https://news.naver.com/main/list.nhn?mode=LS2D&mid=shm&sid1=103&sid2=237&date=20230813&page=7\n",
      "=========('생활문화', '여행/레저')=========\n",
      "https://news.naver.com/main/list.nhn?mode=LS2D&mid=shm&sid1=103&sid2=237&date=20230813&page=8\n",
      "=========('생활문화', '여행/레저')=========\n",
      "https://news.naver.com/main/list.nhn?mode=LS2D&mid=shm&sid1=103&sid2=237&date=20230813&page=9\n",
      "=============================================수집완료======================================================\n"
     ]
    },
    {
     "data": {
      "application/vnd.jupyter.widget-view+json": {
       "model_id": "f7ef5cd6bcdd43e892fc46af8853896a",
       "version_major": 2,
       "version_minor": 0
      },
      "text/plain": [
       "  0%|          | 0/98 [00:00<?, ?it/s]"
      ]
     },
     "metadata": {},
     "output_type": "display_data"
    },
    {
     "name": "stdout",
     "output_type": "stream",
     "text": [
      "=========('생활문화', '음식/맛집')=========\n",
      "https://news.naver.com/main/list.nhn?mode=LS2D&mid=shm&sid1=103&sid2=238&date=20230813&page=1\n",
      "=============================================수집완료======================================================\n"
     ]
    },
    {
     "data": {
      "application/vnd.jupyter.widget-view+json": {
       "model_id": "c045236d858941eca4e333c27b734308",
       "version_major": 2,
       "version_minor": 0
      },
      "text/plain": [
       "  0%|          | 0/98 [00:00<?, ?it/s]"
      ]
     },
     "metadata": {},
     "output_type": "display_data"
    },
    {
     "name": "stdout",
     "output_type": "stream",
     "text": [
      "=========('생활문화', '패션/뷰티')=========\n",
      "https://news.naver.com/main/list.nhn?mode=LS2D&mid=shm&sid1=103&sid2=376&date=20230813&page=1\n",
      "=============================================수집완료======================================================\n"
     ]
    },
    {
     "data": {
      "application/vnd.jupyter.widget-view+json": {
       "model_id": "ebf256cce9c3474abcc6afe493f11c62",
       "version_major": 2,
       "version_minor": 0
      },
      "text/plain": [
       "  0%|          | 0/98 [00:00<?, ?it/s]"
      ]
     },
     "metadata": {},
     "output_type": "display_data"
    },
    {
     "name": "stdout",
     "output_type": "stream",
     "text": [
      "=========('생활문화', '공연/전시')=========\n",
      "https://news.naver.com/main/list.nhn?mode=LS2D&mid=shm&sid1=103&sid2=242&date=20230813&page=1\n",
      "=========('생활문화', '공연/전시')=========\n",
      "https://news.naver.com/main/list.nhn?mode=LS2D&mid=shm&sid1=103&sid2=242&date=20230813&page=2\n",
      "=========('생활문화', '공연/전시')=========\n",
      "https://news.naver.com/main/list.nhn?mode=LS2D&mid=shm&sid1=103&sid2=242&date=20230813&page=3\n",
      "=========('생활문화', '공연/전시')=========\n",
      "https://news.naver.com/main/list.nhn?mode=LS2D&mid=shm&sid1=103&sid2=242&date=20230813&page=4\n",
      "=========('생활문화', '공연/전시')=========\n",
      "https://news.naver.com/main/list.nhn?mode=LS2D&mid=shm&sid1=103&sid2=242&date=20230813&page=5\n",
      "=============================================수집완료======================================================\n"
     ]
    },
    {
     "data": {
      "application/vnd.jupyter.widget-view+json": {
       "model_id": "bf534b06f5ea443b93df9bacc6e0a427",
       "version_major": 2,
       "version_minor": 0
      },
      "text/plain": [
       "  0%|          | 0/98 [00:00<?, ?it/s]"
      ]
     },
     "metadata": {},
     "output_type": "display_data"
    },
    {
     "name": "stdout",
     "output_type": "stream",
     "text": [
      "=========('생활문화', '책')=========\n",
      "https://news.naver.com/main/list.nhn?mode=LS2D&mid=shm&sid1=103&sid2=243&date=20230813&page=1\n",
      "=========('생활문화', '책')=========\n",
      "https://news.naver.com/main/list.nhn?mode=LS2D&mid=shm&sid1=103&sid2=243&date=20230813&page=2\n",
      "=============================================수집완료======================================================\n"
     ]
    },
    {
     "data": {
      "application/vnd.jupyter.widget-view+json": {
       "model_id": "da28bdf934f040b694217ea2379d0ef9",
       "version_major": 2,
       "version_minor": 0
      },
      "text/plain": [
       "  0%|          | 0/98 [00:00<?, ?it/s]"
      ]
     },
     "metadata": {},
     "output_type": "display_data"
    },
    {
     "name": "stdout",
     "output_type": "stream",
     "text": [
      "=========('생활문화', '종교')=========\n",
      "https://news.naver.com/main/list.nhn?mode=LS2D&mid=shm&sid1=103&sid2=244&date=20230813&page=1\n",
      "=========('생활문화', '종교')=========\n",
      "https://news.naver.com/main/list.nhn?mode=LS2D&mid=shm&sid1=103&sid2=244&date=20230813&page=2\n",
      "=============================================수집완료======================================================\n"
     ]
    },
    {
     "data": {
      "application/vnd.jupyter.widget-view+json": {
       "model_id": "b346ea368ba24dfe96980a8f4b6767c8",
       "version_major": 2,
       "version_minor": 0
      },
      "text/plain": [
       "  0%|          | 0/98 [00:00<?, ?it/s]"
      ]
     },
     "metadata": {},
     "output_type": "display_data"
    },
    {
     "name": "stdout",
     "output_type": "stream",
     "text": [
      "=========('생활문화', '날씨')=========\n",
      "https://news.naver.com/main/list.nhn?mode=LS2D&mid=shm&sid1=103&sid2=248&date=20230813&page=1\n",
      "=========('생활문화', '날씨')=========\n",
      "https://news.naver.com/main/list.nhn?mode=LS2D&mid=shm&sid1=103&sid2=248&date=20230813&page=2\n",
      "=========('생활문화', '날씨')=========\n",
      "https://news.naver.com/main/list.nhn?mode=LS2D&mid=shm&sid1=103&sid2=248&date=20230813&page=3\n",
      "=========('생활문화', '날씨')=========\n",
      "https://news.naver.com/main/list.nhn?mode=LS2D&mid=shm&sid1=103&sid2=248&date=20230813&page=4\n",
      "=========('생활문화', '날씨')=========\n",
      "https://news.naver.com/main/list.nhn?mode=LS2D&mid=shm&sid1=103&sid2=248&date=20230813&page=5\n",
      "=========('생활문화', '날씨')=========\n",
      "https://news.naver.com/main/list.nhn?mode=LS2D&mid=shm&sid1=103&sid2=248&date=20230813&page=6\n",
      "=========('생활문화', '날씨')=========\n",
      "https://news.naver.com/main/list.nhn?mode=LS2D&mid=shm&sid1=103&sid2=248&date=20230813&page=7\n",
      "=============================================수집완료======================================================\n"
     ]
    },
    {
     "data": {
      "application/vnd.jupyter.widget-view+json": {
       "model_id": "5ce655d2fb56494ea583528a00d3ebd3",
       "version_major": 2,
       "version_minor": 0
      },
      "text/plain": [
       "  0%|          | 0/98 [00:00<?, ?it/s]"
      ]
     },
     "metadata": {},
     "output_type": "display_data"
    },
    {
     "name": "stdout",
     "output_type": "stream",
     "text": [
      "=========('생활문화', '생활문화 일반')=========\n",
      "https://news.naver.com/main/list.nhn?mode=LS2D&mid=shm&sid1=103&sid2=245&date=20230813&page=1\n",
      "=========('생활문화', '생활문화 일반')=========\n",
      "https://news.naver.com/main/list.nhn?mode=LS2D&mid=shm&sid1=103&sid2=245&date=20230813&page=2\n",
      "=========('생활문화', '생활문화 일반')=========\n",
      "https://news.naver.com/main/list.nhn?mode=LS2D&mid=shm&sid1=103&sid2=245&date=20230813&page=3\n",
      "=========('생활문화', '생활문화 일반')=========\n",
      "https://news.naver.com/main/list.nhn?mode=LS2D&mid=shm&sid1=103&sid2=245&date=20230813&page=4\n",
      "=========('생활문화', '생활문화 일반')=========\n",
      "https://news.naver.com/main/list.nhn?mode=LS2D&mid=shm&sid1=103&sid2=245&date=20230813&page=5\n",
      "=========('생활문화', '생활문화 일반')=========\n",
      "https://news.naver.com/main/list.nhn?mode=LS2D&mid=shm&sid1=103&sid2=245&date=20230813&page=6\n",
      "=========('생활문화', '생활문화 일반')=========\n",
      "https://news.naver.com/main/list.nhn?mode=LS2D&mid=shm&sid1=103&sid2=245&date=20230813&page=7\n",
      "=========('생활문화', '생활문화 일반')=========\n",
      "https://news.naver.com/main/list.nhn?mode=LS2D&mid=shm&sid1=103&sid2=245&date=20230813&page=8\n",
      "=========('생활문화', '생활문화 일반')=========\n",
      "https://news.naver.com/main/list.nhn?mode=LS2D&mid=shm&sid1=103&sid2=245&date=20230813&page=9\n",
      "=========('생활문화', '생활문화 일반')=========\n",
      "https://news.naver.com/main/list.nhn?mode=LS2D&mid=shm&sid1=103&sid2=245&date=20230813&page=10\n",
      "=========('생활문화', '생활문화 일반')=========\n",
      "https://news.naver.com/main/list.nhn?mode=LS2D&mid=shm&sid1=103&sid2=245&date=20230813&page=11\n",
      "=========('생활문화', '생활문화 일반')=========\n",
      "https://news.naver.com/main/list.nhn?mode=LS2D&mid=shm&sid1=103&sid2=245&date=20230813&page=12\n",
      "=========('생활문화', '생활문화 일반')=========\n",
      "https://news.naver.com/main/list.nhn?mode=LS2D&mid=shm&sid1=103&sid2=245&date=20230813&page=13\n",
      "=========('생활문화', '생활문화 일반')=========\n",
      "https://news.naver.com/main/list.nhn?mode=LS2D&mid=shm&sid1=103&sid2=245&date=20230813&page=14\n",
      "=========('생활문화', '생활문화 일반')=========\n",
      "https://news.naver.com/main/list.nhn?mode=LS2D&mid=shm&sid1=103&sid2=245&date=20230813&page=15\n",
      "=========('생활문화', '생활문화 일반')=========\n",
      "https://news.naver.com/main/list.nhn?mode=LS2D&mid=shm&sid1=103&sid2=245&date=20230813&page=16\n",
      "=========('생활문화', '생활문화 일반')=========\n",
      "https://news.naver.com/main/list.nhn?mode=LS2D&mid=shm&sid1=103&sid2=245&date=20230813&page=17\n",
      "=========('생활문화', '생활문화 일반')=========\n",
      "https://news.naver.com/main/list.nhn?mode=LS2D&mid=shm&sid1=103&sid2=245&date=20230813&page=18\n",
      "=========('생활문화', '생활문화 일반')=========\n",
      "https://news.naver.com/main/list.nhn?mode=LS2D&mid=shm&sid1=103&sid2=245&date=20230813&page=19\n",
      "=========('생활문화', '생활문화 일반')=========\n",
      "https://news.naver.com/main/list.nhn?mode=LS2D&mid=shm&sid1=103&sid2=245&date=20230813&page=20\n",
      "=============================================수집완료======================================================\n"
     ]
    },
    {
     "data": {
      "application/vnd.jupyter.widget-view+json": {
       "model_id": "26980dc1b9d7416b92542dc63cdbe145",
       "version_major": 2,
       "version_minor": 0
      },
      "text/plain": [
       "  0%|          | 0/98 [00:00<?, ?it/s]"
      ]
     },
     "metadata": {},
     "output_type": "display_data"
    },
    {
     "name": "stdout",
     "output_type": "stream",
     "text": [
      "=========('세계', '아시아/호주')=========\n",
      "https://news.naver.com/main/list.nhn?mode=LS2D&mid=shm&sid1=104&sid2=231&date=20230813&page=1\n",
      "=========('세계', '아시아/호주')=========\n",
      "https://news.naver.com/main/list.nhn?mode=LS2D&mid=shm&sid1=104&sid2=231&date=20230813&page=2\n",
      "=========('세계', '아시아/호주')=========\n",
      "https://news.naver.com/main/list.nhn?mode=LS2D&mid=shm&sid1=104&sid2=231&date=20230813&page=3\n",
      "=========('세계', '아시아/호주')=========\n",
      "https://news.naver.com/main/list.nhn?mode=LS2D&mid=shm&sid1=104&sid2=231&date=20230813&page=4\n",
      "=========('세계', '아시아/호주')=========\n",
      "https://news.naver.com/main/list.nhn?mode=LS2D&mid=shm&sid1=104&sid2=231&date=20230813&page=5\n",
      "=========('세계', '아시아/호주')=========\n",
      "https://news.naver.com/main/list.nhn?mode=LS2D&mid=shm&sid1=104&sid2=231&date=20230813&page=6\n",
      "=========('세계', '아시아/호주')=========\n",
      "https://news.naver.com/main/list.nhn?mode=LS2D&mid=shm&sid1=104&sid2=231&date=20230813&page=7\n",
      "=============================================수집완료======================================================\n"
     ]
    },
    {
     "data": {
      "application/vnd.jupyter.widget-view+json": {
       "model_id": "30a80770ab6a4a58b558cd160f81f690",
       "version_major": 2,
       "version_minor": 0
      },
      "text/plain": [
       "  0%|          | 0/98 [00:00<?, ?it/s]"
      ]
     },
     "metadata": {},
     "output_type": "display_data"
    },
    {
     "name": "stdout",
     "output_type": "stream",
     "text": [
      "=========('세계', '미국/중남미')=========\n",
      "https://news.naver.com/main/list.nhn?mode=LS2D&mid=shm&sid1=104&sid2=232&date=20230813&page=1\n",
      "=========('세계', '미국/중남미')=========\n",
      "https://news.naver.com/main/list.nhn?mode=LS2D&mid=shm&sid1=104&sid2=232&date=20230813&page=2\n",
      "=========('세계', '미국/중남미')=========\n",
      "https://news.naver.com/main/list.nhn?mode=LS2D&mid=shm&sid1=104&sid2=232&date=20230813&page=3\n",
      "=========('세계', '미국/중남미')=========\n",
      "https://news.naver.com/main/list.nhn?mode=LS2D&mid=shm&sid1=104&sid2=232&date=20230813&page=4\n",
      "=========('세계', '미국/중남미')=========\n",
      "https://news.naver.com/main/list.nhn?mode=LS2D&mid=shm&sid1=104&sid2=232&date=20230813&page=5\n",
      "=============================================수집완료======================================================\n"
     ]
    },
    {
     "data": {
      "application/vnd.jupyter.widget-view+json": {
       "model_id": "d7eb8baf8d5e41aa811d8f2bcb01bf60",
       "version_major": 2,
       "version_minor": 0
      },
      "text/plain": [
       "  0%|          | 0/98 [00:00<?, ?it/s]"
      ]
     },
     "metadata": {},
     "output_type": "display_data"
    },
    {
     "name": "stdout",
     "output_type": "stream",
     "text": [
      "=========('세계', '유럽')=========\n",
      "https://news.naver.com/main/list.nhn?mode=LS2D&mid=shm&sid1=104&sid2=233&date=20230813&page=1\n",
      "=========('세계', '유럽')=========\n",
      "https://news.naver.com/main/list.nhn?mode=LS2D&mid=shm&sid1=104&sid2=233&date=20230813&page=2\n",
      "=========('세계', '유럽')=========\n",
      "https://news.naver.com/main/list.nhn?mode=LS2D&mid=shm&sid1=104&sid2=233&date=20230813&page=3\n",
      "=============================================수집완료======================================================\n"
     ]
    },
    {
     "data": {
      "application/vnd.jupyter.widget-view+json": {
       "model_id": "a375e1d76c454ee6841cd9a9eaacc485",
       "version_major": 2,
       "version_minor": 0
      },
      "text/plain": [
       "  0%|          | 0/98 [00:00<?, ?it/s]"
      ]
     },
     "metadata": {},
     "output_type": "display_data"
    },
    {
     "name": "stdout",
     "output_type": "stream",
     "text": [
      "=========('세계', '중동/아프리카')=========\n",
      "https://news.naver.com/main/list.nhn?mode=LS2D&mid=shm&sid1=104&sid2=234&date=20230813&page=1\n",
      "=========('세계', '중동/아프리카')=========\n",
      "https://news.naver.com/main/list.nhn?mode=LS2D&mid=shm&sid1=104&sid2=234&date=20230813&page=2\n",
      "=============================================수집완료======================================================\n"
     ]
    },
    {
     "data": {
      "application/vnd.jupyter.widget-view+json": {
       "model_id": "090f810064e4498b9aaf38f69ebe3607",
       "version_major": 2,
       "version_minor": 0
      },
      "text/plain": [
       "  0%|          | 0/98 [00:00<?, ?it/s]"
      ]
     },
     "metadata": {},
     "output_type": "display_data"
    },
    {
     "name": "stdout",
     "output_type": "stream",
     "text": [
      "=========('세계', '세계 일반')=========\n",
      "https://news.naver.com/main/list.nhn?mode=LS2D&mid=shm&sid1=104&sid2=322&date=20230813&page=1\n",
      "=========('세계', '세계 일반')=========\n",
      "https://news.naver.com/main/list.nhn?mode=LS2D&mid=shm&sid1=104&sid2=322&date=20230813&page=2\n",
      "=========('세계', '세계 일반')=========\n",
      "https://news.naver.com/main/list.nhn?mode=LS2D&mid=shm&sid1=104&sid2=322&date=20230813&page=3\n",
      "=========('세계', '세계 일반')=========\n",
      "https://news.naver.com/main/list.nhn?mode=LS2D&mid=shm&sid1=104&sid2=322&date=20230813&page=4\n",
      "=========('세계', '세계 일반')=========\n",
      "https://news.naver.com/main/list.nhn?mode=LS2D&mid=shm&sid1=104&sid2=322&date=20230813&page=5\n",
      "=========('세계', '세계 일반')=========\n",
      "https://news.naver.com/main/list.nhn?mode=LS2D&mid=shm&sid1=104&sid2=322&date=20230813&page=6\n",
      "=========('세계', '세계 일반')=========\n",
      "https://news.naver.com/main/list.nhn?mode=LS2D&mid=shm&sid1=104&sid2=322&date=20230813&page=7\n",
      "=========('세계', '세계 일반')=========\n",
      "https://news.naver.com/main/list.nhn?mode=LS2D&mid=shm&sid1=104&sid2=322&date=20230813&page=8\n",
      "=========('세계', '세계 일반')=========\n",
      "https://news.naver.com/main/list.nhn?mode=LS2D&mid=shm&sid1=104&sid2=322&date=20230813&page=9\n",
      "=========('세계', '세계 일반')=========\n",
      "https://news.naver.com/main/list.nhn?mode=LS2D&mid=shm&sid1=104&sid2=322&date=20230813&page=10\n",
      "=============================================수집완료======================================================\n"
     ]
    },
    {
     "data": {
      "application/vnd.jupyter.widget-view+json": {
       "model_id": "be309819c1194e4e85e6e085f4d7b20a",
       "version_major": 2,
       "version_minor": 0
      },
      "text/plain": [
       "  0%|          | 0/98 [00:00<?, ?it/s]"
      ]
     },
     "metadata": {},
     "output_type": "display_data"
    },
    {
     "name": "stdout",
     "output_type": "stream",
     "text": [
      "=========('IT/과학', '모바일')=========\n",
      "https://news.naver.com/main/list.nhn?mode=LS2D&mid=shm&sid1=105&sid2=731&date=20230813&page=1\n",
      "=========('IT/과학', '모바일')=========\n",
      "https://news.naver.com/main/list.nhn?mode=LS2D&mid=shm&sid1=105&sid2=731&date=20230813&page=2\n",
      "=============================================수집완료======================================================\n"
     ]
    },
    {
     "data": {
      "application/vnd.jupyter.widget-view+json": {
       "model_id": "3357cff34afd4fb69779ae9d1aa53f32",
       "version_major": 2,
       "version_minor": 0
      },
      "text/plain": [
       "  0%|          | 0/98 [00:00<?, ?it/s]"
      ]
     },
     "metadata": {},
     "output_type": "display_data"
    },
    {
     "name": "stdout",
     "output_type": "stream",
     "text": [
      "=========('IT/과학', '인터넷/SNS')=========\n",
      "https://news.naver.com/main/list.nhn?mode=LS2D&mid=shm&sid1=105&sid2=226&date=20230813&page=1\n",
      "=========('IT/과학', '인터넷/SNS')=========\n",
      "https://news.naver.com/main/list.nhn?mode=LS2D&mid=shm&sid1=105&sid2=226&date=20230813&page=2\n",
      "=============================================수집완료======================================================\n"
     ]
    },
    {
     "data": {
      "application/vnd.jupyter.widget-view+json": {
       "model_id": "c3654d100bea4ffbab4f6de4131a2d66",
       "version_major": 2,
       "version_minor": 0
      },
      "text/plain": [
       "  0%|          | 0/98 [00:00<?, ?it/s]"
      ]
     },
     "metadata": {},
     "output_type": "display_data"
    },
    {
     "name": "stdout",
     "output_type": "stream",
     "text": [
      "=========('IT/과학', '통신/뉴미디어')=========\n",
      "https://news.naver.com/main/list.nhn?mode=LS2D&mid=shm&sid1=105&sid2=227&date=20230813&page=1\n",
      "=========('IT/과학', '통신/뉴미디어')=========\n",
      "https://news.naver.com/main/list.nhn?mode=LS2D&mid=shm&sid1=105&sid2=227&date=20230813&page=2\n",
      "=========('IT/과학', '통신/뉴미디어')=========\n",
      "https://news.naver.com/main/list.nhn?mode=LS2D&mid=shm&sid1=105&sid2=227&date=20230813&page=3\n",
      "=============================================수집완료======================================================\n"
     ]
    },
    {
     "data": {
      "application/vnd.jupyter.widget-view+json": {
       "model_id": "896331fbdb954bdbb96d2e0a515ae2d6",
       "version_major": 2,
       "version_minor": 0
      },
      "text/plain": [
       "  0%|          | 0/98 [00:00<?, ?it/s]"
      ]
     },
     "metadata": {},
     "output_type": "display_data"
    },
    {
     "name": "stdout",
     "output_type": "stream",
     "text": [
      "=========('IT/과학', 'IT 일반')=========\n",
      "https://news.naver.com/main/list.nhn?mode=LS2D&mid=shm&sid1=105&sid2=230&date=20230813&page=1\n",
      "=========('IT/과학', 'IT 일반')=========\n",
      "https://news.naver.com/main/list.nhn?mode=LS2D&mid=shm&sid1=105&sid2=230&date=20230813&page=2\n",
      "=========('IT/과학', 'IT 일반')=========\n",
      "https://news.naver.com/main/list.nhn?mode=LS2D&mid=shm&sid1=105&sid2=230&date=20230813&page=3\n",
      "=========('IT/과학', 'IT 일반')=========\n",
      "https://news.naver.com/main/list.nhn?mode=LS2D&mid=shm&sid1=105&sid2=230&date=20230813&page=4\n",
      "=========('IT/과학', 'IT 일반')=========\n",
      "https://news.naver.com/main/list.nhn?mode=LS2D&mid=shm&sid1=105&sid2=230&date=20230813&page=5\n",
      "=========('IT/과학', 'IT 일반')=========\n",
      "https://news.naver.com/main/list.nhn?mode=LS2D&mid=shm&sid1=105&sid2=230&date=20230813&page=6\n",
      "=========('IT/과학', 'IT 일반')=========\n",
      "https://news.naver.com/main/list.nhn?mode=LS2D&mid=shm&sid1=105&sid2=230&date=20230813&page=7\n",
      "=========('IT/과학', 'IT 일반')=========\n",
      "https://news.naver.com/main/list.nhn?mode=LS2D&mid=shm&sid1=105&sid2=230&date=20230813&page=8\n",
      "=============================================수집완료======================================================\n"
     ]
    },
    {
     "data": {
      "application/vnd.jupyter.widget-view+json": {
       "model_id": "b8e16e7ac7964acb8c3d56d2f22113b5",
       "version_major": 2,
       "version_minor": 0
      },
      "text/plain": [
       "  0%|          | 0/98 [00:00<?, ?it/s]"
      ]
     },
     "metadata": {},
     "output_type": "display_data"
    },
    {
     "name": "stdout",
     "output_type": "stream",
     "text": [
      "=========('IT/과학', '보안/해킹')=========\n",
      "https://news.naver.com/main/list.nhn?mode=LS2D&mid=shm&sid1=105&sid2=732&date=20230813&page=1\n",
      "=============================================수집완료======================================================\n"
     ]
    },
    {
     "data": {
      "application/vnd.jupyter.widget-view+json": {
       "model_id": "65e3e5658c704f0c87dd8fe115d182da",
       "version_major": 2,
       "version_minor": 0
      },
      "text/plain": [
       "  0%|          | 0/98 [00:00<?, ?it/s]"
      ]
     },
     "metadata": {},
     "output_type": "display_data"
    },
    {
     "name": "stdout",
     "output_type": "stream",
     "text": [
      "=========('IT/과학', '컴퓨터')=========\n",
      "https://news.naver.com/main/list.nhn?mode=LS2D&mid=shm&sid1=105&sid2=283&date=20230813&page=1\n",
      "=============================================수집완료======================================================\n"
     ]
    },
    {
     "data": {
      "application/vnd.jupyter.widget-view+json": {
       "model_id": "a83bc4e8d06340e1a66627863493a25f",
       "version_major": 2,
       "version_minor": 0
      },
      "text/plain": [
       "  0%|          | 0/98 [00:00<?, ?it/s]"
      ]
     },
     "metadata": {},
     "output_type": "display_data"
    },
    {
     "name": "stdout",
     "output_type": "stream",
     "text": [
      "=========('IT/과학', '게임/리뷰')=========\n",
      "https://news.naver.com/main/list.nhn?mode=LS2D&mid=shm&sid1=105&sid2=229&date=20230813&page=1\n",
      "=============================================수집완료======================================================\n"
     ]
    },
    {
     "data": {
      "application/vnd.jupyter.widget-view+json": {
       "model_id": "5a599630a34543d19cbe2a9d607bac31",
       "version_major": 2,
       "version_minor": 0
      },
      "text/plain": [
       "  0%|          | 0/98 [00:00<?, ?it/s]"
      ]
     },
     "metadata": {},
     "output_type": "display_data"
    },
    {
     "name": "stdout",
     "output_type": "stream",
     "text": [
      "=========('IT/과학', '과학 일반')=========\n",
      "https://news.naver.com/main/list.nhn?mode=LS2D&mid=shm&sid1=105&sid2=228&date=20230813&page=1\n",
      "=========('IT/과학', '과학 일반')=========\n",
      "https://news.naver.com/main/list.nhn?mode=LS2D&mid=shm&sid1=105&sid2=228&date=20230813&page=2\n",
      "=============================================수집완료======================================================\n"
     ]
    }
   ],
   "source": [
    "import urllib3\n",
    "\n",
    "urllib3.disable_warnings(urllib3.exceptions.InsecureRequestWarning)\n",
    "\n",
    "dum = news_list_page('20230813')"
   ]
  },
  {
   "cell_type": "code",
   "execution_count": 273,
   "id": "4aa91e3a-6888-41cb-9349-4405ed961fdc",
   "metadata": {},
   "outputs": [],
   "source": [
    "import pandas as pd\n",
    "\n",
    "art_df = pd.DataFrame(dum)"
   ]
  },
  {
   "cell_type": "code",
   "execution_count": 274,
   "id": "ab4c5cb8-6031-4ab8-9216-3f7e60a67580",
   "metadata": {},
   "outputs": [
    {
     "data": {
      "text/html": [
       "<div>\n",
       "<style scoped>\n",
       "    .dataframe tbody tr th:only-of-type {\n",
       "        vertical-align: middle;\n",
       "    }\n",
       "\n",
       "    .dataframe tbody tr th {\n",
       "        vertical-align: top;\n",
       "    }\n",
       "\n",
       "    .dataframe thead th {\n",
       "        text-align: right;\n",
       "    }\n",
       "</style>\n",
       "<table border=\"1\" class=\"dataframe\">\n",
       "  <thead>\n",
       "    <tr style=\"text-align: right;\">\n",
       "      <th></th>\n",
       "      <th>대분류</th>\n",
       "      <th>소분류</th>\n",
       "      <th>url</th>\n",
       "      <th>title</th>\n",
       "      <th>date</th>\n",
       "      <th>main</th>\n",
       "    </tr>\n",
       "  </thead>\n",
       "  <tbody>\n",
       "    <tr>\n",
       "      <th>0</th>\n",
       "      <td>정치</td>\n",
       "      <td>대통령실</td>\n",
       "      <td>https://n.news.naver.com/mnews/article/001/001...</td>\n",
       "      <td>또 관심 독차지한 트럼프, 고기굽는 디샌티스 위로 전용기 띄워</td>\n",
       "      <td>2023.08.13. 오후 11:57</td>\n",
       "      <td>공화 주자들, 첫 경선지 아이오와에 공들여…1위 트럼프는 2시간도 안돼 떠나\\n\\n...</td>\n",
       "    </tr>\n",
       "    <tr>\n",
       "      <th>1</th>\n",
       "      <td>정치</td>\n",
       "      <td>대통령실</td>\n",
       "      <td>https://n.news.naver.com/mnews/article/658/000...</td>\n",
       "      <td>문재인 \"잼버리로 국격과 긍지 잃어, 부끄러움은 국민의 몫\"</td>\n",
       "      <td>2023.08.13. 오후 10:08</td>\n",
       "      <td>문재인 전 대통령은 13일 2023 새만금 세계스카우트잼버리 대회 파행과 관련해 “...</td>\n",
       "    </tr>\n",
       "    <tr>\n",
       "      <th>2</th>\n",
       "      <td>정치</td>\n",
       "      <td>대통령실</td>\n",
       "      <td>https://n.news.naver.com/mnews/article/469/000...</td>\n",
       "      <td>윤 대통령 \"한국교회, 자유 대한민국 만드는 데 앞장… 한미동맹 수호자\"</td>\n",
       "      <td>2023.08.13. 오후 9:42</td>\n",
       "      <td>광복 78주년 앞두고 시민사회수석 대독\\n\\n\\n\\n김기현 국민의힘 대표가 13일 ...</td>\n",
       "    </tr>\n",
       "    <tr>\n",
       "      <th>3</th>\n",
       "      <td>정치</td>\n",
       "      <td>대통령실</td>\n",
       "      <td>https://n.news.naver.com/mnews/article/011/000...</td>\n",
       "      <td>尹 \"한국교회, 부산엑스포 유치위해 힘 모아줘 감사\"</td>\n",
       "      <td>2023.08.13. 오후 8:59</td>\n",
       "      <td>'광복 78주년 기념예배·부산엑스포 기원대회' 축사강승규 시민사회수석이 대신 참석해...</td>\n",
       "    </tr>\n",
       "    <tr>\n",
       "      <th>4</th>\n",
       "      <td>정치</td>\n",
       "      <td>대통령실</td>\n",
       "      <td>https://n.news.naver.com/mnews/article/003/001...</td>\n",
       "      <td>윤 \"자유민주주의 위한 독립운동 중심에 한국 기독교 있었다\"</td>\n",
       "      <td>2023.08.13. 오후 8:37</td>\n",
       "      <td>광복 78주년 한국교회 예배 축사…강승규 대독\"한국 교회, 자유대한 앞장선 한미동맹...</td>\n",
       "    </tr>\n",
       "    <tr>\n",
       "      <th>...</th>\n",
       "      <td>...</td>\n",
       "      <td>...</td>\n",
       "      <td>...</td>\n",
       "      <td>...</td>\n",
       "      <td>...</td>\n",
       "      <td>...</td>\n",
       "    </tr>\n",
       "    <tr>\n",
       "      <th>10018</th>\n",
       "      <td>IT/과학</td>\n",
       "      <td>과학 일반</td>\n",
       "      <td>https://n.news.naver.com/mnews/article/028/000...</td>\n",
       "      <td>미 샌프란시스코, 무인 로보택시 전면 허용</td>\n",
       "      <td>2023.08.13. 오전 9:05</td>\n",
       "      <td>크루즈와 웨이모에 유료 사업 승인하루 24시간 연중무휴로 운행 가능차량호출업체 우버...</td>\n",
       "    </tr>\n",
       "    <tr>\n",
       "      <th>10019</th>\n",
       "      <td>IT/과학</td>\n",
       "      <td>과학 일반</td>\n",
       "      <td>https://n.news.naver.com/mnews/article/032/000...</td>\n",
       "      <td>반드시 닥칠 소행성 충돌…‘우주 관측 인공지능’이 지구 구할까</td>\n",
       "      <td>2023.08.13. 오전 8:02</td>\n",
       "      <td>미 워싱턴대 연구진, 소행성 찾는 AI 개발1년 전 사진 분석해 놓친 소행성 발견탐...</td>\n",
       "    </tr>\n",
       "    <tr>\n",
       "      <th>10020</th>\n",
       "      <td>IT/과학</td>\n",
       "      <td>과학 일반</td>\n",
       "      <td>https://n.news.naver.com/mnews/article/011/000...</td>\n",
       "      <td>서핑 인구 100만 시대…'이 병' 위험도 덩달아 급증 [일터 일침]</td>\n",
       "      <td>2023.08.13. 오전 8:01</td>\n",
       "      <td>■ 강인 창원자생한방병원 병원장여름철 인기종목으로 부상한 서핑···부상 위험 높아어...</td>\n",
       "    </tr>\n",
       "    <tr>\n",
       "      <th>10021</th>\n",
       "      <td>IT/과학</td>\n",
       "      <td>과학 일반</td>\n",
       "      <td>https://n.news.naver.com/mnews/article/584/000...</td>\n",
       "      <td>[표지로 읽는 과학] 호주 생태계 지키려면 원주민 지식 동원해야</td>\n",
       "      <td>2023.08.13. 오전 8:01</td>\n",
       "      <td>국제학술지 ‘사이언스’의 이번 주 표지에는 호주의 숲을 배경으로 한 사진이 실렸다....</td>\n",
       "    </tr>\n",
       "    <tr>\n",
       "      <th>10022</th>\n",
       "      <td>IT/과학</td>\n",
       "      <td>과학 일반</td>\n",
       "      <td>https://n.news.naver.com/mnews/article/366/000...</td>\n",
       "      <td>[과학의 최전선] 이론 머물던 양자초화학 현상 첫 관측</td>\n",
       "      <td>2023.08.13. 오전 6:01</td>\n",
       "      <td>美 시카고대, ‘양자 초화학’의 첫 증거 발견세슘 원자들이 같은 양자 상태로 반응해...</td>\n",
       "    </tr>\n",
       "  </tbody>\n",
       "</table>\n",
       "<p>10023 rows × 6 columns</p>\n",
       "</div>"
      ],
      "text/plain": [
       "         대분류    소분류                                                url  \\\n",
       "0         정치   대통령실  https://n.news.naver.com/mnews/article/001/001...   \n",
       "1         정치   대통령실  https://n.news.naver.com/mnews/article/658/000...   \n",
       "2         정치   대통령실  https://n.news.naver.com/mnews/article/469/000...   \n",
       "3         정치   대통령실  https://n.news.naver.com/mnews/article/011/000...   \n",
       "4         정치   대통령실  https://n.news.naver.com/mnews/article/003/001...   \n",
       "...      ...    ...                                                ...   \n",
       "10018  IT/과학  과학 일반  https://n.news.naver.com/mnews/article/028/000...   \n",
       "10019  IT/과학  과학 일반  https://n.news.naver.com/mnews/article/032/000...   \n",
       "10020  IT/과학  과학 일반  https://n.news.naver.com/mnews/article/011/000...   \n",
       "10021  IT/과학  과학 일반  https://n.news.naver.com/mnews/article/584/000...   \n",
       "10022  IT/과학  과학 일반  https://n.news.naver.com/mnews/article/366/000...   \n",
       "\n",
       "                                          title                  date  \\\n",
       "0            또 관심 독차지한 트럼프, 고기굽는 디샌티스 위로 전용기 띄워  2023.08.13. 오후 11:57   \n",
       "1             문재인 \"잼버리로 국격과 긍지 잃어, 부끄러움은 국민의 몫\"  2023.08.13. 오후 10:08   \n",
       "2      윤 대통령 \"한국교회, 자유 대한민국 만드는 데 앞장… 한미동맹 수호자\"   2023.08.13. 오후 9:42   \n",
       "3                 尹 \"한국교회, 부산엑스포 유치위해 힘 모아줘 감사\"   2023.08.13. 오후 8:59   \n",
       "4             윤 \"자유민주주의 위한 독립운동 중심에 한국 기독교 있었다\"   2023.08.13. 오후 8:37   \n",
       "...                                         ...                   ...   \n",
       "10018                   미 샌프란시스코, 무인 로보택시 전면 허용   2023.08.13. 오전 9:05   \n",
       "10019        반드시 닥칠 소행성 충돌…‘우주 관측 인공지능’이 지구 구할까   2023.08.13. 오전 8:02   \n",
       "10020    서핑 인구 100만 시대…'이 병' 위험도 덩달아 급증 [일터 일침]   2023.08.13. 오전 8:01   \n",
       "10021       [표지로 읽는 과학] 호주 생태계 지키려면 원주민 지식 동원해야   2023.08.13. 오전 8:01   \n",
       "10022            [과학의 최전선] 이론 머물던 양자초화학 현상 첫 관측   2023.08.13. 오전 6:01   \n",
       "\n",
       "                                                    main  \n",
       "0      공화 주자들, 첫 경선지 아이오와에 공들여…1위 트럼프는 2시간도 안돼 떠나\\n\\n...  \n",
       "1      문재인 전 대통령은 13일 2023 새만금 세계스카우트잼버리 대회 파행과 관련해 “...  \n",
       "2      광복 78주년 앞두고 시민사회수석 대독\\n\\n\\n\\n김기현 국민의힘 대표가 13일 ...  \n",
       "3      '광복 78주년 기념예배·부산엑스포 기원대회' 축사강승규 시민사회수석이 대신 참석해...  \n",
       "4      광복 78주년 한국교회 예배 축사…강승규 대독\"한국 교회, 자유대한 앞장선 한미동맹...  \n",
       "...                                                  ...  \n",
       "10018  크루즈와 웨이모에 유료 사업 승인하루 24시간 연중무휴로 운행 가능차량호출업체 우버...  \n",
       "10019  미 워싱턴대 연구진, 소행성 찾는 AI 개발1년 전 사진 분석해 놓친 소행성 발견탐...  \n",
       "10020  ■ 강인 창원자생한방병원 병원장여름철 인기종목으로 부상한 서핑···부상 위험 높아어...  \n",
       "10021  국제학술지 ‘사이언스’의 이번 주 표지에는 호주의 숲을 배경으로 한 사진이 실렸다....  \n",
       "10022  美 시카고대, ‘양자 초화학’의 첫 증거 발견세슘 원자들이 같은 양자 상태로 반응해...  \n",
       "\n",
       "[10023 rows x 6 columns]"
      ]
     },
     "execution_count": 274,
     "metadata": {},
     "output_type": "execute_result"
    }
   ],
   "source": [
    "art_df"
   ]
  },
  {
   "cell_type": "code",
   "execution_count": 275,
   "id": "d9e54e11-70af-4a17-a5b3-2951c0df737e",
   "metadata": {},
   "outputs": [],
   "source": [
    "# 출력 옵션 설정\n",
    "# pd.set_option(\"display.max_rows\", None)  # 모든 행 표시\n",
    "pd.set_option(\"display.max_columns\", None)  # 모든 열 표시\n",
    "pd.set_option(\"display.width\", None)  # 줄 바꿈 없이 전체 내용 표시"
   ]
  },
  {
   "cell_type": "code",
   "execution_count": 276,
   "id": "f7cf3bf1-04f9-44db-a667-6b932b68d7f5",
   "metadata": {},
   "outputs": [],
   "source": [
    "# 텍스트 전처리\n",
    "def text_preprocessing(text):\n",
    "    text = text.replace('\\n', '')\n",
    "    text = text.replace('   ', ' ')\n",
    "    text = text.replace('\\\\', '')\n",
    "    return text"
   ]
  },
  {
   "cell_type": "code",
   "execution_count": 277,
   "id": "21cb372f-0d5b-4638-a7f4-5ce1a1c3bc9b",
   "metadata": {},
   "outputs": [],
   "source": [
    "art_df['main'] = art_df['main'].apply(text_preprocessing)"
   ]
  },
  {
   "cell_type": "code",
   "execution_count": 278,
   "id": "d87dc4be-fc08-46ac-81cb-a681c1fd5638",
   "metadata": {},
   "outputs": [],
   "source": [
    "from datetime import datetime\n",
    "\n",
    "def to_dt_time(date):\n",
    "    if date != '':\n",
    "        date = datetime.strptime(date[:10], '%Y.%m.%d')\n",
    "        date = date.strftime('%Y-%m-%d')\n",
    "        return date\n",
    "    else:\n",
    "        return date"
   ]
  },
  {
   "cell_type": "code",
   "execution_count": 279,
   "id": "a93e9f07-621f-49eb-af27-5278526131c4",
   "metadata": {},
   "outputs": [],
   "source": [
    "# 날짜\n",
    "now = datetime.now()\n",
    "now = now.date().strftime('%Y-%m-%d')\n",
    "\n",
    "art_df['ymd'] = art_df['date'].apply(to_dt_time)"
   ]
  },
  {
   "cell_type": "code",
   "execution_count": 280,
   "id": "1b26c2da-44f5-4dfd-93ed-86cc152e2f8d",
   "metadata": {},
   "outputs": [
    {
     "data": {
      "text/html": [
       "<div>\n",
       "<style scoped>\n",
       "    .dataframe tbody tr th:only-of-type {\n",
       "        vertical-align: middle;\n",
       "    }\n",
       "\n",
       "    .dataframe tbody tr th {\n",
       "        vertical-align: top;\n",
       "    }\n",
       "\n",
       "    .dataframe thead th {\n",
       "        text-align: right;\n",
       "    }\n",
       "</style>\n",
       "<table border=\"1\" class=\"dataframe\">\n",
       "  <thead>\n",
       "    <tr style=\"text-align: right;\">\n",
       "      <th></th>\n",
       "      <th>대분류</th>\n",
       "      <th>소분류</th>\n",
       "      <th>url</th>\n",
       "      <th>title</th>\n",
       "      <th>date</th>\n",
       "      <th>main</th>\n",
       "      <th>ymd</th>\n",
       "    </tr>\n",
       "  </thead>\n",
       "  <tbody>\n",
       "    <tr>\n",
       "      <th>0</th>\n",
       "      <td>정치</td>\n",
       "      <td>대통령실</td>\n",
       "      <td>https://n.news.naver.com/mnews/article/001/001...</td>\n",
       "      <td>또 관심 독차지한 트럼프, 고기굽는 디샌티스 위로 전용기 띄워</td>\n",
       "      <td>2023.08.13. 오후 11:57</td>\n",
       "      <td>공화 주자들, 첫 경선지 아이오와에 공들여…1위 트럼프는 2시간도 안돼 떠나트럼프 ...</td>\n",
       "      <td>2023-08-13</td>\n",
       "    </tr>\n",
       "    <tr>\n",
       "      <th>1</th>\n",
       "      <td>정치</td>\n",
       "      <td>대통령실</td>\n",
       "      <td>https://n.news.naver.com/mnews/article/658/000...</td>\n",
       "      <td>문재인 \"잼버리로 국격과 긍지 잃어, 부끄러움은 국민의 몫\"</td>\n",
       "      <td>2023.08.13. 오후 10:08</td>\n",
       "      <td>문재인 전 대통령은 13일 2023 새만금 세계스카우트잼버리 대회 파행과 관련해 “...</td>\n",
       "      <td>2023-08-13</td>\n",
       "    </tr>\n",
       "    <tr>\n",
       "      <th>2</th>\n",
       "      <td>정치</td>\n",
       "      <td>대통령실</td>\n",
       "      <td>https://n.news.naver.com/mnews/article/469/000...</td>\n",
       "      <td>윤 대통령 \"한국교회, 자유 대한민국 만드는 데 앞장… 한미동맹 수호자\"</td>\n",
       "      <td>2023.08.13. 오후 9:42</td>\n",
       "      <td>광복 78주년 앞두고 시민사회수석 대독김기현 국민의힘 대표가 13일 서울 여의도순복...</td>\n",
       "      <td>2023-08-13</td>\n",
       "    </tr>\n",
       "    <tr>\n",
       "      <th>3</th>\n",
       "      <td>정치</td>\n",
       "      <td>대통령실</td>\n",
       "      <td>https://n.news.naver.com/mnews/article/011/000...</td>\n",
       "      <td>尹 \"한국교회, 부산엑스포 유치위해 힘 모아줘 감사\"</td>\n",
       "      <td>2023.08.13. 오후 8:59</td>\n",
       "      <td>'광복 78주년 기념예배·부산엑스포 기원대회' 축사강승규 시민사회수석이 대신 참석해...</td>\n",
       "      <td>2023-08-13</td>\n",
       "    </tr>\n",
       "    <tr>\n",
       "      <th>4</th>\n",
       "      <td>정치</td>\n",
       "      <td>대통령실</td>\n",
       "      <td>https://n.news.naver.com/mnews/article/003/001...</td>\n",
       "      <td>윤 \"자유민주주의 위한 독립운동 중심에 한국 기독교 있었다\"</td>\n",
       "      <td>2023.08.13. 오후 8:37</td>\n",
       "      <td>광복 78주년 한국교회 예배 축사…강승규 대독\"한국 교회, 자유대한 앞장선 한미동맹...</td>\n",
       "      <td>2023-08-13</td>\n",
       "    </tr>\n",
       "    <tr>\n",
       "      <th>...</th>\n",
       "      <td>...</td>\n",
       "      <td>...</td>\n",
       "      <td>...</td>\n",
       "      <td>...</td>\n",
       "      <td>...</td>\n",
       "      <td>...</td>\n",
       "      <td>...</td>\n",
       "    </tr>\n",
       "    <tr>\n",
       "      <th>10018</th>\n",
       "      <td>IT/과학</td>\n",
       "      <td>과학 일반</td>\n",
       "      <td>https://n.news.naver.com/mnews/article/028/000...</td>\n",
       "      <td>미 샌프란시스코, 무인 로보택시 전면 허용</td>\n",
       "      <td>2023.08.13. 오전 9:05</td>\n",
       "      <td>크루즈와 웨이모에 유료 사업 승인하루 24시간 연중무휴로 운행 가능차량호출업체 우버...</td>\n",
       "      <td>2023-08-13</td>\n",
       "    </tr>\n",
       "    <tr>\n",
       "      <th>10019</th>\n",
       "      <td>IT/과학</td>\n",
       "      <td>과학 일반</td>\n",
       "      <td>https://n.news.naver.com/mnews/article/032/000...</td>\n",
       "      <td>반드시 닥칠 소행성 충돌…‘우주 관측 인공지능’이 지구 구할까</td>\n",
       "      <td>2023.08.13. 오전 8:02</td>\n",
       "      <td>미 워싱턴대 연구진, 소행성 찾는 AI 개발1년 전 사진 분석해 놓친 소행성 발견탐...</td>\n",
       "      <td>2023-08-13</td>\n",
       "    </tr>\n",
       "    <tr>\n",
       "      <th>10020</th>\n",
       "      <td>IT/과학</td>\n",
       "      <td>과학 일반</td>\n",
       "      <td>https://n.news.naver.com/mnews/article/011/000...</td>\n",
       "      <td>서핑 인구 100만 시대…'이 병' 위험도 덩달아 급증 [일터 일침]</td>\n",
       "      <td>2023.08.13. 오전 8:01</td>\n",
       "      <td>■ 강인 창원자생한방병원 병원장여름철 인기종목으로 부상한 서핑···부상 위험 높아어...</td>\n",
       "      <td>2023-08-13</td>\n",
       "    </tr>\n",
       "    <tr>\n",
       "      <th>10021</th>\n",
       "      <td>IT/과학</td>\n",
       "      <td>과학 일반</td>\n",
       "      <td>https://n.news.naver.com/mnews/article/584/000...</td>\n",
       "      <td>[표지로 읽는 과학] 호주 생태계 지키려면 원주민 지식 동원해야</td>\n",
       "      <td>2023.08.13. 오전 8:01</td>\n",
       "      <td>국제학술지 ‘사이언스’의 이번 주 표지에는 호주의 숲을 배경으로 한 사진이 실렸다....</td>\n",
       "      <td>2023-08-13</td>\n",
       "    </tr>\n",
       "    <tr>\n",
       "      <th>10022</th>\n",
       "      <td>IT/과학</td>\n",
       "      <td>과학 일반</td>\n",
       "      <td>https://n.news.naver.com/mnews/article/366/000...</td>\n",
       "      <td>[과학의 최전선] 이론 머물던 양자초화학 현상 첫 관측</td>\n",
       "      <td>2023.08.13. 오전 6:01</td>\n",
       "      <td>美 시카고대, ‘양자 초화학’의 첫 증거 발견세슘 원자들이 같은 양자 상태로 반응해...</td>\n",
       "      <td>2023-08-13</td>\n",
       "    </tr>\n",
       "  </tbody>\n",
       "</table>\n",
       "<p>10023 rows × 7 columns</p>\n",
       "</div>"
      ],
      "text/plain": [
       "         대분류    소분류                                                url  \\\n",
       "0         정치   대통령실  https://n.news.naver.com/mnews/article/001/001...   \n",
       "1         정치   대통령실  https://n.news.naver.com/mnews/article/658/000...   \n",
       "2         정치   대통령실  https://n.news.naver.com/mnews/article/469/000...   \n",
       "3         정치   대통령실  https://n.news.naver.com/mnews/article/011/000...   \n",
       "4         정치   대통령실  https://n.news.naver.com/mnews/article/003/001...   \n",
       "...      ...    ...                                                ...   \n",
       "10018  IT/과학  과학 일반  https://n.news.naver.com/mnews/article/028/000...   \n",
       "10019  IT/과학  과학 일반  https://n.news.naver.com/mnews/article/032/000...   \n",
       "10020  IT/과학  과학 일반  https://n.news.naver.com/mnews/article/011/000...   \n",
       "10021  IT/과학  과학 일반  https://n.news.naver.com/mnews/article/584/000...   \n",
       "10022  IT/과학  과학 일반  https://n.news.naver.com/mnews/article/366/000...   \n",
       "\n",
       "                                          title                  date  \\\n",
       "0            또 관심 독차지한 트럼프, 고기굽는 디샌티스 위로 전용기 띄워  2023.08.13. 오후 11:57   \n",
       "1             문재인 \"잼버리로 국격과 긍지 잃어, 부끄러움은 국민의 몫\"  2023.08.13. 오후 10:08   \n",
       "2      윤 대통령 \"한국교회, 자유 대한민국 만드는 데 앞장… 한미동맹 수호자\"   2023.08.13. 오후 9:42   \n",
       "3                 尹 \"한국교회, 부산엑스포 유치위해 힘 모아줘 감사\"   2023.08.13. 오후 8:59   \n",
       "4             윤 \"자유민주주의 위한 독립운동 중심에 한국 기독교 있었다\"   2023.08.13. 오후 8:37   \n",
       "...                                         ...                   ...   \n",
       "10018                   미 샌프란시스코, 무인 로보택시 전면 허용   2023.08.13. 오전 9:05   \n",
       "10019        반드시 닥칠 소행성 충돌…‘우주 관측 인공지능’이 지구 구할까   2023.08.13. 오전 8:02   \n",
       "10020    서핑 인구 100만 시대…'이 병' 위험도 덩달아 급증 [일터 일침]   2023.08.13. 오전 8:01   \n",
       "10021       [표지로 읽는 과학] 호주 생태계 지키려면 원주민 지식 동원해야   2023.08.13. 오전 8:01   \n",
       "10022            [과학의 최전선] 이론 머물던 양자초화학 현상 첫 관측   2023.08.13. 오전 6:01   \n",
       "\n",
       "                                                    main         ymd  \n",
       "0      공화 주자들, 첫 경선지 아이오와에 공들여…1위 트럼프는 2시간도 안돼 떠나트럼프 ...  2023-08-13  \n",
       "1      문재인 전 대통령은 13일 2023 새만금 세계스카우트잼버리 대회 파행과 관련해 “...  2023-08-13  \n",
       "2      광복 78주년 앞두고 시민사회수석 대독김기현 국민의힘 대표가 13일 서울 여의도순복...  2023-08-13  \n",
       "3      '광복 78주년 기념예배·부산엑스포 기원대회' 축사강승규 시민사회수석이 대신 참석해...  2023-08-13  \n",
       "4      광복 78주년 한국교회 예배 축사…강승규 대독\"한국 교회, 자유대한 앞장선 한미동맹...  2023-08-13  \n",
       "...                                                  ...         ...  \n",
       "10018  크루즈와 웨이모에 유료 사업 승인하루 24시간 연중무휴로 운행 가능차량호출업체 우버...  2023-08-13  \n",
       "10019  미 워싱턴대 연구진, 소행성 찾는 AI 개발1년 전 사진 분석해 놓친 소행성 발견탐...  2023-08-13  \n",
       "10020  ■ 강인 창원자생한방병원 병원장여름철 인기종목으로 부상한 서핑···부상 위험 높아어...  2023-08-13  \n",
       "10021  국제학술지 ‘사이언스’의 이번 주 표지에는 호주의 숲을 배경으로 한 사진이 실렸다....  2023-08-13  \n",
       "10022  美 시카고대, ‘양자 초화학’의 첫 증거 발견세슘 원자들이 같은 양자 상태로 반응해...  2023-08-13  \n",
       "\n",
       "[10023 rows x 7 columns]"
      ]
     },
     "execution_count": 280,
     "metadata": {},
     "output_type": "execute_result"
    }
   ],
   "source": [
    "art_df"
   ]
  },
  {
   "cell_type": "code",
   "execution_count": 281,
   "id": "6b2ed4a2-d824-4d6d-90f5-4b39c52c23a4",
   "metadata": {},
   "outputs": [
    {
     "data": {
      "text/html": [
       "<div>\n",
       "<style scoped>\n",
       "    .dataframe tbody tr th:only-of-type {\n",
       "        vertical-align: middle;\n",
       "    }\n",
       "\n",
       "    .dataframe tbody tr th {\n",
       "        vertical-align: top;\n",
       "    }\n",
       "\n",
       "    .dataframe thead th {\n",
       "        text-align: right;\n",
       "    }\n",
       "</style>\n",
       "<table border=\"1\" class=\"dataframe\">\n",
       "  <thead>\n",
       "    <tr style=\"text-align: right;\">\n",
       "      <th></th>\n",
       "      <th></th>\n",
       "      <th>url</th>\n",
       "    </tr>\n",
       "    <tr>\n",
       "      <th>대분류</th>\n",
       "      <th>소분류</th>\n",
       "      <th></th>\n",
       "    </tr>\n",
       "  </thead>\n",
       "  <tbody>\n",
       "    <tr>\n",
       "      <th rowspan=\"8\" valign=\"top\">IT/과학</th>\n",
       "      <th>IT 일반</th>\n",
       "      <td>155</td>\n",
       "    </tr>\n",
       "    <tr>\n",
       "      <th>게임/리뷰</th>\n",
       "      <td>20</td>\n",
       "    </tr>\n",
       "    <tr>\n",
       "      <th>과학 일반</th>\n",
       "      <td>38</td>\n",
       "    </tr>\n",
       "    <tr>\n",
       "      <th>모바일</th>\n",
       "      <td>31</td>\n",
       "    </tr>\n",
       "    <tr>\n",
       "      <th>보안/해킹</th>\n",
       "      <td>20</td>\n",
       "    </tr>\n",
       "    <tr>\n",
       "      <th>인터넷/SNS</th>\n",
       "      <td>40</td>\n",
       "    </tr>\n",
       "    <tr>\n",
       "      <th>컴퓨터</th>\n",
       "      <td>20</td>\n",
       "    </tr>\n",
       "    <tr>\n",
       "      <th>통신/뉴미디어</th>\n",
       "      <td>57</td>\n",
       "    </tr>\n",
       "    <tr>\n",
       "      <th rowspan=\"8\" valign=\"top\">경제</th>\n",
       "      <th>경제 일반</th>\n",
       "      <td>821</td>\n",
       "    </tr>\n",
       "    <tr>\n",
       "      <th>글로벌 경제</th>\n",
       "      <td>36</td>\n",
       "    </tr>\n",
       "    <tr>\n",
       "      <th>금융</th>\n",
       "      <td>251</td>\n",
       "    </tr>\n",
       "    <tr>\n",
       "      <th>부동산</th>\n",
       "      <td>118</td>\n",
       "    </tr>\n",
       "    <tr>\n",
       "      <th>산업/재계</th>\n",
       "      <td>461</td>\n",
       "    </tr>\n",
       "    <tr>\n",
       "      <th>생활경제</th>\n",
       "      <td>219</td>\n",
       "    </tr>\n",
       "    <tr>\n",
       "      <th>중기/벤처</th>\n",
       "      <td>41</td>\n",
       "    </tr>\n",
       "    <tr>\n",
       "      <th>증권</th>\n",
       "      <td>162</td>\n",
       "    </tr>\n",
       "    <tr>\n",
       "      <th rowspan=\"10\" valign=\"top\">사회</th>\n",
       "      <th>교육</th>\n",
       "      <td>133</td>\n",
       "    </tr>\n",
       "    <tr>\n",
       "      <th>노동</th>\n",
       "      <td>42</td>\n",
       "    </tr>\n",
       "    <tr>\n",
       "      <th>사건사고</th>\n",
       "      <td>294</td>\n",
       "    </tr>\n",
       "    <tr>\n",
       "      <th>사회 일반</th>\n",
       "      <td>1960</td>\n",
       "    </tr>\n",
       "    <tr>\n",
       "      <th>식품/의료</th>\n",
       "      <td>75</td>\n",
       "    </tr>\n",
       "    <tr>\n",
       "      <th>언론</th>\n",
       "      <td>20</td>\n",
       "    </tr>\n",
       "    <tr>\n",
       "      <th>인권/복지</th>\n",
       "      <td>44</td>\n",
       "    </tr>\n",
       "    <tr>\n",
       "      <th>인물</th>\n",
       "      <td>113</td>\n",
       "    </tr>\n",
       "    <tr>\n",
       "      <th>지역</th>\n",
       "      <td>1771</td>\n",
       "    </tr>\n",
       "    <tr>\n",
       "      <th>환경</th>\n",
       "      <td>31</td>\n",
       "    </tr>\n",
       "    <tr>\n",
       "      <th rowspan=\"11\" valign=\"top\">생활문화</th>\n",
       "      <th>건강정보</th>\n",
       "      <td>63</td>\n",
       "    </tr>\n",
       "    <tr>\n",
       "      <th>공연/전시</th>\n",
       "      <td>89</td>\n",
       "    </tr>\n",
       "    <tr>\n",
       "      <th>날씨</th>\n",
       "      <td>122</td>\n",
       "    </tr>\n",
       "    <tr>\n",
       "      <th>도로/교통</th>\n",
       "      <td>21</td>\n",
       "    </tr>\n",
       "    <tr>\n",
       "      <th>생활문화 일반</th>\n",
       "      <td>399</td>\n",
       "    </tr>\n",
       "    <tr>\n",
       "      <th>여행/레저</th>\n",
       "      <td>166</td>\n",
       "    </tr>\n",
       "    <tr>\n",
       "      <th>음식/맛집</th>\n",
       "      <td>20</td>\n",
       "    </tr>\n",
       "    <tr>\n",
       "      <th>자동차/시승기</th>\n",
       "      <td>50</td>\n",
       "    </tr>\n",
       "    <tr>\n",
       "      <th>종교</th>\n",
       "      <td>22</td>\n",
       "    </tr>\n",
       "    <tr>\n",
       "      <th>책</th>\n",
       "      <td>21</td>\n",
       "    </tr>\n",
       "    <tr>\n",
       "      <th>패션/뷰티</th>\n",
       "      <td>20</td>\n",
       "    </tr>\n",
       "    <tr>\n",
       "      <th rowspan=\"5\" valign=\"top\">세계</th>\n",
       "      <th>미국/중남미</th>\n",
       "      <td>90</td>\n",
       "    </tr>\n",
       "    <tr>\n",
       "      <th>세계 일반</th>\n",
       "      <td>183</td>\n",
       "    </tr>\n",
       "    <tr>\n",
       "      <th>아시아/호주</th>\n",
       "      <td>128</td>\n",
       "    </tr>\n",
       "    <tr>\n",
       "      <th>유럽</th>\n",
       "      <td>43</td>\n",
       "    </tr>\n",
       "    <tr>\n",
       "      <th>중동/아프리카</th>\n",
       "      <td>36</td>\n",
       "    </tr>\n",
       "    <tr>\n",
       "      <th rowspan=\"6\" valign=\"top\">정치</th>\n",
       "      <th>국방/외교</th>\n",
       "      <td>202</td>\n",
       "    </tr>\n",
       "    <tr>\n",
       "      <th>국회/정당</th>\n",
       "      <td>352</td>\n",
       "    </tr>\n",
       "    <tr>\n",
       "      <th>대통령실</th>\n",
       "      <td>154</td>\n",
       "    </tr>\n",
       "    <tr>\n",
       "      <th>북한</th>\n",
       "      <td>46</td>\n",
       "    </tr>\n",
       "    <tr>\n",
       "      <th>정치일반</th>\n",
       "      <td>751</td>\n",
       "    </tr>\n",
       "    <tr>\n",
       "      <th>행정</th>\n",
       "      <td>72</td>\n",
       "    </tr>\n",
       "  </tbody>\n",
       "</table>\n",
       "</div>"
      ],
      "text/plain": [
       "                url\n",
       "대분류   소분류          \n",
       "IT/과학 IT 일반     155\n",
       "      게임/리뷰      20\n",
       "      과학 일반      38\n",
       "      모바일        31\n",
       "      보안/해킹      20\n",
       "      인터넷/SNS    40\n",
       "      컴퓨터        20\n",
       "      통신/뉴미디어    57\n",
       "경제    경제 일반     821\n",
       "      글로벌 경제     36\n",
       "      금융        251\n",
       "      부동산       118\n",
       "      산업/재계     461\n",
       "      생활경제      219\n",
       "      중기/벤처      41\n",
       "      증권        162\n",
       "사회    교육        133\n",
       "      노동         42\n",
       "      사건사고      294\n",
       "      사회 일반    1960\n",
       "      식품/의료      75\n",
       "      언론         20\n",
       "      인권/복지      44\n",
       "      인물        113\n",
       "      지역       1771\n",
       "      환경         31\n",
       "생활문화  건강정보       63\n",
       "      공연/전시      89\n",
       "      날씨        122\n",
       "      도로/교통      21\n",
       "      생활문화 일반   399\n",
       "      여행/레저     166\n",
       "      음식/맛집      20\n",
       "      자동차/시승기    50\n",
       "      종교         22\n",
       "      책          21\n",
       "      패션/뷰티      20\n",
       "세계    미국/중남미     90\n",
       "      세계 일반     183\n",
       "      아시아/호주    128\n",
       "      유럽         43\n",
       "      중동/아프리카    36\n",
       "정치    국방/외교     202\n",
       "      국회/정당     352\n",
       "      대통령실      154\n",
       "      북한         46\n",
       "      정치일반      751\n",
       "      행정         72"
      ]
     },
     "execution_count": 281,
     "metadata": {},
     "output_type": "execute_result"
    }
   ],
   "source": [
    "art_df[['대분류', '소분류','url']].groupby(['대분류', '소분류']).count()"
   ]
  },
  {
   "cell_type": "code",
   "execution_count": 282,
   "id": "3573de4a-42a7-47ca-b621-579be4ccf797",
   "metadata": {},
   "outputs": [],
   "source": [
    "art_df.to_csv(\"article_df.csv\")"
   ]
  },
  {
   "cell_type": "code",
   "execution_count": null,
   "id": "7bb18b72-72a5-4698-9701-e9ce38770df6",
   "metadata": {},
   "outputs": [],
   "source": []
  }
 ],
 "metadata": {
  "kernelspec": {
   "display_name": "Python 3 (ipykernel)",
   "language": "python",
   "name": "python3"
  },
  "language_info": {
   "codemirror_mode": {
    "name": "ipython",
    "version": 3
   },
   "file_extension": ".py",
   "mimetype": "text/x-python",
   "name": "python",
   "nbconvert_exporter": "python",
   "pygments_lexer": "ipython3",
   "version": "3.10.10"
  }
 },
 "nbformat": 4,
 "nbformat_minor": 5
}
