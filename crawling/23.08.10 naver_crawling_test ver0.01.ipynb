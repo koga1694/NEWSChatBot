{
 "cells": [
  {
   "cell_type": "code",
   "execution_count": null,
   "id": "bf749c84-270f-4078-bb12-ca896ba28d5b",
   "metadata": {},
   "outputs": [],
   "source": [
    "#참고 : https://bigdata-doctrine.tistory.com/34"
   ]
  },
  {
   "cell_type": "code",
   "execution_count": 45,
   "id": "193c6bf8-e0f5-42c9-940f-0a33540d7eb0",
   "metadata": {},
   "outputs": [],
   "source": [
    "import requests\n",
    "from bs4 import BeautifulSoup\n",
    "from tqdm.notebook import tqdm"
   ]
  },
  {
   "cell_type": "code",
   "execution_count": 24,
   "id": "129991b0-822f-4608-989e-832bb1b01789",
   "metadata": {},
   "outputs": [],
   "source": [
    "def ex_tag(sid, page):\n",
    "    ### 뉴스 분야(sid)와 페이지(page)를 입력하면 그에 대한 링크들을 리스트로 추출하는 함수 ###\n",
    "    \n",
    "    ## sid -> 100: 정치, 101: 경제, 102: 사회, 103: 생활/문화, 104: 세계, 105: IT/과학\n",
    "    url = f\"https://news.naver.com/main/main.naver?mode=LSD&mid=shm&sid1={sid}\"\\\n",
    "    \"#&date=%2000:00:00&page={page}\"\n",
    "    html = requests.get(url, headers={\"User-Agent\": \"Mozilla/5.0\"\\\n",
    "    \"(Windows NT 10.0; Win64; x64) AppleWebKit/537.36 (KHTML, like Gecko) \"\\\n",
    "    \"Chrome/110.0.0.0 Safari/537.36\"})\n",
    "    soup = BeautifulSoup(html.text, \"lxml\")\n",
    "    a_tag = soup.find_all(\"a\")\n",
    "    \n",
    "    ## 기사 사이트 \n",
    "    tag_lst = []\n",
    "    for a in a_tag:\n",
    "        if \"href\" in a.attrs:  # href가 있는것만 고르는 것\n",
    "            if (f\"sid={sid}\" in a[\"href\"]) and (\"article\" in a[\"href\"]):\n",
    "                tag_lst.append(a[\"href\"])\n",
    "                \n",
    "    return tag_lst"
   ]
  },
  {
   "cell_type": "code",
   "execution_count": 29,
   "id": "1d7fe21d-1c7c-4903-88ff-7be2275472ae",
   "metadata": {},
   "outputs": [],
   "source": [
    "def re_tag(sid):\n",
    "    ### 특정 분야의 100페이지까지의 뉴스의 링크를 수집하여 중복 제거한 리스트로 변환하는 함수 ###\n",
    "    re_lst = []\n",
    "    for i in tqdm(range(100)):\n",
    "        lst = ex_tag(sid, i+1)\n",
    "        re_lst.extend(lst)\n",
    "\n",
    "    # 중복 제거\n",
    "    re_set = set(re_lst)\n",
    "    re_lst = list(re_set)\n",
    "    \n",
    "    return re_lst"
   ]
  },
  {
   "cell_type": "code",
   "execution_count": 30,
   "id": "d15753ab-eee8-4249-b9fb-a271195e81b8",
   "metadata": {},
   "outputs": [
    {
     "data": {
      "application/vnd.jupyter.widget-view+json": {
       "model_id": "72ce00d6b1264d29b2bf65ffd1e54f0f",
       "version_major": 2,
       "version_minor": 0
      },
      "text/plain": [
       "  0%|          | 0/100 [00:00<?, ?it/s]"
      ]
     },
     "metadata": {},
     "output_type": "display_data"
    },
    {
     "data": {
      "application/vnd.jupyter.widget-view+json": {
       "model_id": "c2fa57fb57764521a496d4ddbf19730b",
       "version_major": 2,
       "version_minor": 0
      },
      "text/plain": [
       "  0%|          | 0/100 [00:00<?, ?it/s]"
      ]
     },
     "metadata": {},
     "output_type": "display_data"
    },
    {
     "data": {
      "application/vnd.jupyter.widget-view+json": {
       "model_id": "9c5c62d128ae42d8a7c27d0fb3253ea3",
       "version_major": 2,
       "version_minor": 0
      },
      "text/plain": [
       "  0%|          | 0/100 [00:00<?, ?it/s]"
      ]
     },
     "metadata": {},
     "output_type": "display_data"
    },
    {
     "data": {
      "application/vnd.jupyter.widget-view+json": {
       "model_id": "a20f9721197a4fc8bc5a3b1a42360706",
       "version_major": 2,
       "version_minor": 0
      },
      "text/plain": [
       "  0%|          | 0/100 [00:00<?, ?it/s]"
      ]
     },
     "metadata": {},
     "output_type": "display_data"
    },
    {
     "data": {
      "application/vnd.jupyter.widget-view+json": {
       "model_id": "9e964fb6ef1f449e9b9b173dc7e09025",
       "version_major": 2,
       "version_minor": 0
      },
      "text/plain": [
       "  0%|          | 0/100 [00:00<?, ?it/s]"
      ]
     },
     "metadata": {},
     "output_type": "display_data"
    },
    {
     "data": {
      "application/vnd.jupyter.widget-view+json": {
       "model_id": "f5de831fb201441cb078e4d051b2c797",
       "version_major": 2,
       "version_minor": 0
      },
      "text/plain": [
       "  0%|          | 0/100 [00:00<?, ?it/s]"
      ]
     },
     "metadata": {},
     "output_type": "display_data"
    }
   ],
   "source": [
    "all_hrefs = {}\n",
    "sids = [i for i in range(100,106)]  # 분야 리스트\n",
    "\n",
    "# 각 분야별로 링크 수집해서 딕셔너리에 저장\n",
    "for sid in sids:\n",
    "    sid_data = re_tag(sid)\n",
    "    all_hrefs[sid] = sid_data"
   ]
  },
  {
   "cell_type": "code",
   "execution_count": 31,
   "id": "d61d38ed-6be5-49bb-9155-321f7dbf9fd0",
   "metadata": {},
   "outputs": [],
   "source": [
    "def art_crawl(all_hrefs, sid, index):\n",
    "    \"\"\"\n",
    "    sid와 링크 인덱스를 넣으면 기사제목, 날짜, 본문을 크롤링하여 딕셔너리를 출력하는 함수 \n",
    "    \n",
    "    Args: \n",
    "        all_hrefs(dict): 각 분야별로 100페이지까지 링크를 수집한 딕셔너리 (key: 분야(sid), value: 링크)\n",
    "        sid(int): 분야 [100: 정치, 101: 경제, 102: 사회, 103: 생활/문화, 104: 세계, 105: IT/과학]\n",
    "        index(int): 링크의 인덱스\n",
    "    \n",
    "    Returns:\n",
    "        dict: 기사제목, 날짜, 본문이 크롤링된 딕셔너리\n",
    "    \n",
    "    \"\"\"\n",
    "    art_dic = {}\n",
    "    \n",
    "    ## 1.\n",
    "    title_selector = \"#title_area > span\"\n",
    "    date_selector = \"#ct > div.media_end_head.go_trans > div.media_end_head_info.nv_notrans\"\\\n",
    "    \"> div.media_end_head_info_datestamp > div:nth-child(1) > span\"\n",
    "    main_selector = \"#dic_area\"\n",
    "    \n",
    "    url = all_hrefs[sid][index]\n",
    "    html = requests.get(url, headers = {\"User-Agent\": \"Mozilla/5.0 \"\\\n",
    "    \"(Windows NT 10.0; Win64; x64) AppleWebKit/537.36 (KHTML, like Gecko)\"\\\n",
    "    \"Chrome/110.0.0.0 Safari/537.36\"})\n",
    "    soup = BeautifulSoup(html.text, \"lxml\")\n",
    "    \n",
    "    ## 2.\n",
    "    # 제목 수집\n",
    "    title = soup.select(title_selector)\n",
    "    title_lst = [t.text for t in title]\n",
    "    title_str = \"\".join(title_lst)\n",
    "    \n",
    "    # 날짜 수집\n",
    "    date = soup.select(date_selector)\n",
    "    date_lst = [d.text for d in date]\n",
    "    date_str = \"\".join(date_lst)\n",
    "    \n",
    "    # 본문 수집\n",
    "    main = soup.select(main_selector)\n",
    "    main_lst = []\n",
    "    for m in main:\n",
    "        m_text = m.text\n",
    "        m_text = m_text.strip()\n",
    "        main_lst.append(m_text)\n",
    "    main_str = \"\".join(main_lst)\n",
    "    \n",
    "    ## 3.\n",
    "    art_dic[\"title\"] = title_str\n",
    "    art_dic[\"date\"] = date_str\n",
    "    art_dic[\"main\"] = main_str\n",
    "    \n",
    "    return art_dic"
   ]
  },
  {
   "cell_type": "code",
   "execution_count": 32,
   "id": "64c27963-78a3-4c87-a28f-5e840963529f",
   "metadata": {},
   "outputs": [
    {
     "data": {
      "application/vnd.jupyter.widget-view+json": {
       "model_id": "30c70fff8d194c738e460950e6eae643",
       "version_major": 2,
       "version_minor": 0
      },
      "text/plain": [
       "  0%|          | 0/6 [00:00<?, ?it/s]"
      ]
     },
     "metadata": {},
     "output_type": "display_data"
    },
    {
     "data": {
      "application/vnd.jupyter.widget-view+json": {
       "model_id": "137e328d04824cd09fd553a4c2772f18",
       "version_major": 2,
       "version_minor": 0
      },
      "text/plain": [
       "  0%|          | 0/442 [00:00<?, ?it/s]"
      ]
     },
     "metadata": {},
     "output_type": "display_data"
    },
    {
     "data": {
      "application/vnd.jupyter.widget-view+json": {
       "model_id": "7a00848499eb4831ad5211a21e93d190",
       "version_major": 2,
       "version_minor": 0
      },
      "text/plain": [
       "  0%|          | 0/571 [00:00<?, ?it/s]"
      ]
     },
     "metadata": {},
     "output_type": "display_data"
    },
    {
     "data": {
      "application/vnd.jupyter.widget-view+json": {
       "model_id": "668ae33310604edeb15739f9b2d46a5b",
       "version_major": 2,
       "version_minor": 0
      },
      "text/plain": [
       "  0%|          | 0/628 [00:00<?, ?it/s]"
      ]
     },
     "metadata": {},
     "output_type": "display_data"
    },
    {
     "data": {
      "application/vnd.jupyter.widget-view+json": {
       "model_id": "cacf918a93c34972b746a2ef01d11276",
       "version_major": 2,
       "version_minor": 0
      },
      "text/plain": [
       "  0%|          | 0/64 [00:00<?, ?it/s]"
      ]
     },
     "metadata": {},
     "output_type": "display_data"
    },
    {
     "data": {
      "application/vnd.jupyter.widget-view+json": {
       "model_id": "ab152f5940404a49beb27b9348602ddd",
       "version_major": 2,
       "version_minor": 0
      },
      "text/plain": [
       "  0%|          | 0/266 [00:00<?, ?it/s]"
      ]
     },
     "metadata": {},
     "output_type": "display_data"
    },
    {
     "data": {
      "application/vnd.jupyter.widget-view+json": {
       "model_id": "089de9059a424988a46cd582d7b1d15a",
       "version_major": 2,
       "version_minor": 0
      },
      "text/plain": [
       "  0%|          | 0/259 [00:00<?, ?it/s]"
      ]
     },
     "metadata": {},
     "output_type": "display_data"
    }
   ],
   "source": [
    "# 모든 섹션의 데이터 수집 (제목, 날짜, 본문, section, url)\n",
    "section_lst = [s for s in range(100, 106)]\n",
    "artdic_lst = []\n",
    "\n",
    "for section in tqdm(section_lst):\n",
    "    for i in tqdm(range(len(all_hrefs[section]))):\n",
    "        art_dic = art_crawl(all_hrefs, section, i)\n",
    "        art_dic[\"section\"] = section\n",
    "        art_dic[\"url\"] = all_hrefs[section][i]\n",
    "        artdic_lst.append(art_dic)"
   ]
  },
  {
   "cell_type": "code",
   "execution_count": 116,
   "id": "4aa91e3a-6888-41cb-9349-4405ed961fdc",
   "metadata": {},
   "outputs": [],
   "source": [
    "import pandas as pd\n",
    "\n",
    "art_df = pd.DataFrame(artdic_lst)"
   ]
  },
  {
   "cell_type": "code",
   "execution_count": 117,
   "id": "79fe1129-ae91-41cc-95fc-6bbd826857bc",
   "metadata": {},
   "outputs": [],
   "source": [
    "# 100: 정치, 101: 경제, 102: 사회, 103: 생활/문화, 104: 세계, 105: IT/과학\n",
    "def sec_chan(sec):\n",
    "    if sec == 100:\n",
    "        return '정치'\n",
    "    elif sec == 101:\n",
    "        return '경제'\n",
    "    elif sec == 102:\n",
    "        return '사회'\n",
    "    elif sec == 103:\n",
    "        return '생활/문화'\n",
    "    elif sec == 104:\n",
    "        return '세계'\n",
    "    elif sec == 105:\n",
    "        return 'IT/과학'"
   ]
  },
  {
   "cell_type": "code",
   "execution_count": 118,
   "id": "6996a7e8-8fcd-43fc-9187-7e56890ec7b1",
   "metadata": {},
   "outputs": [],
   "source": [
    "art_df['section'] = list(map(sec_chan, art_df['section']))"
   ]
  },
  {
   "cell_type": "code",
   "execution_count": 119,
   "id": "d9e54e11-70af-4a17-a5b3-2951c0df737e",
   "metadata": {},
   "outputs": [],
   "source": [
    "# 출력 옵션 설정\n",
    "# pd.set_option(\"display.max_rows\", None)  # 모든 행 표시\n",
    "pd.set_option(\"display.max_columns\", None)  # 모든 열 표시\n",
    "pd.set_option(\"display.width\", None)  # 줄 바꿈 없이 전체 내용 표시"
   ]
  },
  {
   "cell_type": "code",
   "execution_count": 120,
   "id": "1c793506-dcf0-4bc5-8e68-b0c996563eca",
   "metadata": {},
   "outputs": [
    {
     "data": {
      "text/plain": [
       "'기존 수출금융 41조원에 22조원 추가 \\n\\n\\n\\n발언하는 박대출 정책위의장 (서울=연합뉴스) 하사헌 기자 = 국민의힘 박대출 정책위의장이 10일 오전 서울 여의도 국회에서 열린 \\'수출 경쟁력 강화를 위한 수출금융 종합지원대책 민당정협의회\\'에서 발언하고 있다. 2023.8.10 toadboy@yna.co.kr (끝) [파이낸셜뉴스] 국민의힘과 정부가 10일 수출기업의 경쟁력 강화를 위해 총 63조원의 수출금융을 지원하기로 뜻을 모았다. 기존 수출금융 41조원에 새롭게 22조원이 추가되는 방식이다.   당정은 이날 국회에서 수출 경쟁력 강화를 위한 수출금융 종합지원 대책 논의 민당정 협의회를 갖고 이같이 결정했다. 박대출 국민의힘 정책위의장은 \"오늘 민당정 협의회는 비상이 걸린 수출 돌파구를 마련하는 자리\"라며 \"수출기업의 경쟁력 강화를 위해 현재 수출금융 41조원에 신규로 22조원을 추가해 총 63조원 규모를 공급하기로 했다\"고 설명했다.   추가로 공급되는 22조원은 새로운 수출활로 개척 지원에 최소 4조1000억원, 수출전략산업 경쟁력 강화에 17조9000억원이 각각 지원될 예정이다.   민간과 공공 부문이 협력해 수출금융 지원에도 적극 나서기로 했다. 박 정책위의장은 \"그동안 정부가 발표한 수출지원 대책은 예산·정책금융기관의 저리대출, 공공부문의 재원을 바탕으로 했다면 이번 대책은 정책금융기관과 민간의 힘을 합쳐 재원을 지원하는 역할을 하도록 해 은행의 역할을 강화하도록 한 것이 특징\"이라고 설명했다.   가령, 대기업과 동반해 해외에 진출하는 협력업체에 대해서는 공적보증기관과 은행이 협업해 1조원 규모의 수출금융을 지원할 계획이다. 이에 따라 현대자동차가 해외 전기차 공장을 건설할 때 협력업체가 같이 진출할 수 있도록 현대차, 신용보증기금, 은행 등이 협력해서 필요한 자금 3000억원을 지원하기로 했다.   아울러 당정은 해외 프로젝트 패키지 금융모델을 구축해 해외의 대규모 프로젝트 수주를 지원하기로 했다. 이를 위해 산업은행, 수출입은행, 한국무역보험공사 등 정책금융기관과 시중은행이 참여해 협력업체에 대한 특례보증 대출을 실시할 방침이다. 규모는 최소 3000억원으로 금리는 최대 1.5%p 인하해 수주 상황에 따라 지원 규모를 탄력적으로 확대 운용할 계획이다.   시중은행이 정책금융기관과 별도로 4조6000억원 규모의 우대상품을 신설해 지원도 병행할 방침이다. 수출기업들이 고금리로 어려움을 격고 있는 상황도 반영해 약 2500여개 우수 수출 중소·중견기업의 환원할인율을 최대 1.7%p 인하하고, 신용장 매입 수수료 역시 최대 0.7%p 인하하기로 했다.   박 정책위의장은 \"오늘 민당정이 의미 있는 대책을 마련한 만큼 앞으로 지속적인 의견 교환과 활발한 논의를 통해 실효성 있는 결과를 만들어내도록 함께 노력하겠다\"고 밝혔다.'"
      ]
     },
     "execution_count": 120,
     "metadata": {},
     "output_type": "execute_result"
    }
   ],
   "source": [
    "art_df['main'][0]"
   ]
  },
  {
   "cell_type": "code",
   "execution_count": 121,
   "id": "f7cf3bf1-04f9-44db-a667-6b932b68d7f5",
   "metadata": {},
   "outputs": [],
   "source": [
    "# 텍스트 전처리\n",
    "def text_preprocessing(text):\n",
    "    text = text.replace('\\n', '')\n",
    "    text = text.replace('   ', ' ')\n",
    "    text = text.replace('\\\\', '')\n",
    "    return text"
   ]
  },
  {
   "cell_type": "code",
   "execution_count": 122,
   "id": "21cb372f-0d5b-4638-a7f4-5ce1a1c3bc9b",
   "metadata": {},
   "outputs": [],
   "source": [
    "art_df['main'] = art_df['main'].apply(text_preprocessing)"
   ]
  },
  {
   "cell_type": "code",
   "execution_count": 145,
   "id": "d87dc4be-fc08-46ac-81cb-a681c1fd5638",
   "metadata": {},
   "outputs": [],
   "source": [
    "from datetime import datetime\n",
    "\n",
    "def to_dt_time(date):\n",
    "    date = datetime.strptime(date[:10], '%Y.%m.%d')\n",
    "    date = date.strftime('%Y-%m-%d')\n",
    "    return date"
   ]
  },
  {
   "cell_type": "code",
   "execution_count": 158,
   "id": "a93e9f07-621f-49eb-af27-5278526131c4",
   "metadata": {},
   "outputs": [],
   "source": [
    "# 어제 뉴스만 사용(어제로 바꾸면 될듯?)\n",
    "now = datetime.now()\n",
    "now = now.date().strftime('%Y-%m-%d')\n",
    "\n",
    "art_df['ymd'] = art_df['date'].apply(to_dt_time)"
   ]
  },
  {
   "cell_type": "code",
   "execution_count": 162,
   "id": "9a45b5f5-4157-4b58-9822-b76e81e98515",
   "metadata": {},
   "outputs": [
    {
     "data": {
      "text/html": [
       "<div>\n",
       "<style scoped>\n",
       "    .dataframe tbody tr th:only-of-type {\n",
       "        vertical-align: middle;\n",
       "    }\n",
       "\n",
       "    .dataframe tbody tr th {\n",
       "        vertical-align: top;\n",
       "    }\n",
       "\n",
       "    .dataframe thead th {\n",
       "        text-align: right;\n",
       "    }\n",
       "</style>\n",
       "<table border=\"1\" class=\"dataframe\">\n",
       "  <thead>\n",
       "    <tr style=\"text-align: right;\">\n",
       "      <th></th>\n",
       "      <th>title</th>\n",
       "      <th>date</th>\n",
       "      <th>main</th>\n",
       "      <th>section</th>\n",
       "      <th>url</th>\n",
       "      <th>ymd</th>\n",
       "    </tr>\n",
       "  </thead>\n",
       "  <tbody>\n",
       "    <tr>\n",
       "      <th>0</th>\n",
       "      <td>당정, 수출금융 63조원 지원해 수출기업 경쟁력 강화 나선다</td>\n",
       "      <td>2023.08.10. 오후 1:31</td>\n",
       "      <td>기존 수출금융 41조원에 22조원 추가 발언하는 박대출 정책위의장 (서울=연합뉴스)...</td>\n",
       "      <td>정치</td>\n",
       "      <td>https://n.news.naver.com/mnews/article/014/000...</td>\n",
       "      <td>2023-08-10</td>\n",
       "    </tr>\n",
       "    <tr>\n",
       "      <th>1</th>\n",
       "      <td>[자막뉴스] \"중요 군사행동 지침 시달\"...서울 콕 짚은 北 김정은</td>\n",
       "      <td>2023.08.10. 오후 3:48</td>\n",
       "      <td>김정은 북한 국무위원장이 당 중앙군사위원회 확대회의에서 '공세적인 전쟁 준비 태세'...</td>\n",
       "      <td>정치</td>\n",
       "      <td>https://n.news.naver.com/mnews/article/052/000...</td>\n",
       "      <td>2023-08-10</td>\n",
       "    </tr>\n",
       "    <tr>\n",
       "      <th>3</th>\n",
       "      <td>김태우 사면 대상 포함…與 강서구청장 '무공천' 기류 변할까</td>\n",
       "      <td>2023.08.10. 오전 12:01</td>\n",
       "      <td>대법 선고 3개월 만에 전격 사면尹 '김태우는 공익제보자' 인정한 셈국민의힘 보궐 ...</td>\n",
       "      <td>정치</td>\n",
       "      <td>https://n.news.naver.com/mnews/article/119/000...</td>\n",
       "      <td>2023-08-10</td>\n",
       "    </tr>\n",
       "    <tr>\n",
       "      <th>4</th>\n",
       "      <td>통일부, 北 '전쟁 준비' 언급에 \"적반하장…개탄스럽다\"</td>\n",
       "      <td>2023.08.10. 오전 11:21</td>\n",
       "      <td>\"北 전쟁 준비 나설수록 강력한 한미 확장억제 직면할 것\"열병식 예고는 \"이례적\" ...</td>\n",
       "      <td>정치</td>\n",
       "      <td>https://n.news.naver.com/mnews/article/421/000...</td>\n",
       "      <td>2023-08-10</td>\n",
       "    </tr>\n",
       "    <tr>\n",
       "      <th>5</th>\n",
       "      <td>탁현민 “BTS가 데리고 다닌다고 끌려가겠느냐, 모르면 그냥 놔둬라”</td>\n",
       "      <td>2023.08.10. 오후 2:30</td>\n",
       "      <td>그룹 방탄소년단(BTS). [팬 커뮤니티 위버스][헤럴드경제=이원율 기자]문재인 정...</td>\n",
       "      <td>정치</td>\n",
       "      <td>https://n.news.naver.com/mnews/article/016/000...</td>\n",
       "      <td>2023-08-10</td>\n",
       "    </tr>\n",
       "    <tr>\n",
       "      <th>...</th>\n",
       "      <td>...</td>\n",
       "      <td>...</td>\n",
       "      <td>...</td>\n",
       "      <td>...</td>\n",
       "      <td>...</td>\n",
       "      <td>...</td>\n",
       "    </tr>\n",
       "    <tr>\n",
       "      <th>2220</th>\n",
       "      <td>SKT-독립기념관, AI로 유관순 열사 등 독립운동사 영상 재현</td>\n",
       "      <td>2023.08.10. 오전 9:01</td>\n",
       "      <td>AI 이미지 복원기술 슈퍼노바 적용…광복절 앞두고 독립기념관서 공개(서울=연합뉴스)...</td>\n",
       "      <td>IT/과학</td>\n",
       "      <td>https://n.news.naver.com/mnews/article/001/001...</td>\n",
       "      <td>2023-08-10</td>\n",
       "    </tr>\n",
       "    <tr>\n",
       "      <th>2222</th>\n",
       "      <td>네오위즈, 2분기 영업손 49억…\"P의 거짓 출시 기대\"</td>\n",
       "      <td>2023.08.10. 오전 9:26</td>\n",
       "      <td>매출 701억원·순이익 224억원\"다수 신작 출시로 하반기 반등 자신\"네오위즈 20...</td>\n",
       "      <td>IT/과학</td>\n",
       "      <td>https://n.news.naver.com/mnews/article/119/000...</td>\n",
       "      <td>2023-08-10</td>\n",
       "    </tr>\n",
       "    <tr>\n",
       "      <th>2225</th>\n",
       "      <td>\"실물 이렇구나\"…AI로 복원한 안중근·유관순 모습 보니 [영상]</td>\n",
       "      <td>2023.08.10. 오전 10:28</td>\n",
       "      <td>SK텔레콤 AI 이미지 복원기술 '슈퍼노바' 적용지금까지 흐릿한 사진으로만 남아있는...</td>\n",
       "      <td>IT/과학</td>\n",
       "      <td>https://n.news.naver.com/mnews/article/015/000...</td>\n",
       "      <td>2023-08-10</td>\n",
       "    </tr>\n",
       "    <tr>\n",
       "      <th>2226</th>\n",
       "      <td>방통위, 정연주 방심위원장에 경고 조치… “업무추진비 선결제, 근태도 불량”</td>\n",
       "      <td>2023.08.10. 오전 10:42</td>\n",
       "      <td>방송통신심의위원회 현판(방심위 제공)방송통신위원회는 10일 방송통신심의위원회 국고보...</td>\n",
       "      <td>IT/과학</td>\n",
       "      <td>https://n.news.naver.com/mnews/article/020/000...</td>\n",
       "      <td>2023-08-10</td>\n",
       "    </tr>\n",
       "    <tr>\n",
       "      <th>2229</th>\n",
       "      <td>위메이드, 중국 액토즈와 라이선스 계약... 총 5000억원 저작권 수입 챙긴다</td>\n",
       "      <td>2023.08.10. 오후 2:23</td>\n",
       "      <td>판교 위메이드 사옥위메이드가 '미르의 전설' 저작권 문제로 법적 공방을 벌이던 중국...</td>\n",
       "      <td>IT/과학</td>\n",
       "      <td>https://n.news.naver.com/mnews/article/030/000...</td>\n",
       "      <td>2023-08-10</td>\n",
       "    </tr>\n",
       "  </tbody>\n",
       "</table>\n",
       "<p>1958 rows × 6 columns</p>\n",
       "</div>"
      ],
      "text/plain": [
       "                                             title                  date  \\\n",
       "0                당정, 수출금융 63조원 지원해 수출기업 경쟁력 강화 나선다   2023.08.10. 오후 1:31   \n",
       "1           [자막뉴스] \"중요 군사행동 지침 시달\"...서울 콕 짚은 北 김정은   2023.08.10. 오후 3:48   \n",
       "3                김태우 사면 대상 포함…與 강서구청장 '무공천' 기류 변할까  2023.08.10. 오전 12:01   \n",
       "4                  통일부, 北 '전쟁 준비' 언급에 \"적반하장…개탄스럽다\"  2023.08.10. 오전 11:21   \n",
       "5           탁현민 “BTS가 데리고 다닌다고 끌려가겠느냐, 모르면 그냥 놔둬라”   2023.08.10. 오후 2:30   \n",
       "...                                            ...                   ...   \n",
       "2220           SKT-독립기념관, AI로 유관순 열사 등 독립운동사 영상 재현   2023.08.10. 오전 9:01   \n",
       "2222               네오위즈, 2분기 영업손 49억…\"P의 거짓 출시 기대\"   2023.08.10. 오전 9:26   \n",
       "2225          \"실물 이렇구나\"…AI로 복원한 안중근·유관순 모습 보니 [영상]  2023.08.10. 오전 10:28   \n",
       "2226    방통위, 정연주 방심위원장에 경고 조치… “업무추진비 선결제, 근태도 불량”  2023.08.10. 오전 10:42   \n",
       "2229  위메이드, 중국 액토즈와 라이선스 계약... 총 5000억원 저작권 수입 챙긴다   2023.08.10. 오후 2:23   \n",
       "\n",
       "                                                   main section  \\\n",
       "0     기존 수출금융 41조원에 22조원 추가 발언하는 박대출 정책위의장 (서울=연합뉴스)...      정치   \n",
       "1     김정은 북한 국무위원장이 당 중앙군사위원회 확대회의에서 '공세적인 전쟁 준비 태세'...      정치   \n",
       "3     대법 선고 3개월 만에 전격 사면尹 '김태우는 공익제보자' 인정한 셈국민의힘 보궐 ...      정치   \n",
       "4     \"北 전쟁 준비 나설수록 강력한 한미 확장억제 직면할 것\"열병식 예고는 \"이례적\" ...      정치   \n",
       "5     그룹 방탄소년단(BTS). [팬 커뮤니티 위버스][헤럴드경제=이원율 기자]문재인 정...      정치   \n",
       "...                                                 ...     ...   \n",
       "2220  AI 이미지 복원기술 슈퍼노바 적용…광복절 앞두고 독립기념관서 공개(서울=연합뉴스)...   IT/과학   \n",
       "2222  매출 701억원·순이익 224억원\"다수 신작 출시로 하반기 반등 자신\"네오위즈 20...   IT/과학   \n",
       "2225  SK텔레콤 AI 이미지 복원기술 '슈퍼노바' 적용지금까지 흐릿한 사진으로만 남아있는...   IT/과학   \n",
       "2226  방송통신심의위원회 현판(방심위 제공)방송통신위원회는 10일 방송통신심의위원회 국고보...   IT/과학   \n",
       "2229  판교 위메이드 사옥위메이드가 '미르의 전설' 저작권 문제로 법적 공방을 벌이던 중국...   IT/과학   \n",
       "\n",
       "                                                    url         ymd  \n",
       "0     https://n.news.naver.com/mnews/article/014/000...  2023-08-10  \n",
       "1     https://n.news.naver.com/mnews/article/052/000...  2023-08-10  \n",
       "3     https://n.news.naver.com/mnews/article/119/000...  2023-08-10  \n",
       "4     https://n.news.naver.com/mnews/article/421/000...  2023-08-10  \n",
       "5     https://n.news.naver.com/mnews/article/016/000...  2023-08-10  \n",
       "...                                                 ...         ...  \n",
       "2220  https://n.news.naver.com/mnews/article/001/001...  2023-08-10  \n",
       "2222  https://n.news.naver.com/mnews/article/119/000...  2023-08-10  \n",
       "2225  https://n.news.naver.com/mnews/article/015/000...  2023-08-10  \n",
       "2226  https://n.news.naver.com/mnews/article/020/000...  2023-08-10  \n",
       "2229  https://n.news.naver.com/mnews/article/030/000...  2023-08-10  \n",
       "\n",
       "[1958 rows x 6 columns]"
      ]
     },
     "execution_count": 162,
     "metadata": {},
     "output_type": "execute_result"
    }
   ],
   "source": [
    "art_df[art_df['ymd'] == now]"
   ]
  },
  {
   "cell_type": "code",
   "execution_count": 163,
   "id": "1569136f-2f27-4a5b-aaef-964822a2ea90",
   "metadata": {},
   "outputs": [],
   "source": [
    "art_df = art_df[art_df['ymd'] == now]"
   ]
  },
  {
   "cell_type": "code",
   "execution_count": 164,
   "id": "3573de4a-42a7-47ca-b621-579be4ccf797",
   "metadata": {},
   "outputs": [],
   "source": [
    "art_df.to_csv(\"article_df.csv\")"
   ]
  },
  {
   "cell_type": "code",
   "execution_count": null,
   "id": "7bb18b72-72a5-4698-9701-e9ce38770df6",
   "metadata": {},
   "outputs": [],
   "source": []
  }
 ],
 "metadata": {
  "kernelspec": {
   "display_name": "Python 3 (ipykernel)",
   "language": "python",
   "name": "python3"
  },
  "language_info": {
   "codemirror_mode": {
    "name": "ipython",
    "version": 3
   },
   "file_extension": ".py",
   "mimetype": "text/x-python",
   "name": "python",
   "nbconvert_exporter": "python",
   "pygments_lexer": "ipython3",
   "version": "3.10.10"
  }
 },
 "nbformat": 4,
 "nbformat_minor": 5
}
